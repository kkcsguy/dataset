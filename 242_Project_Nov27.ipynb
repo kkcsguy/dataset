{
 "cells": [
  {
   "cell_type": "markdown",
   "metadata": {},
   "source": [
    "# Forecasting Global Video Game Sales"
   ]
  },
  {
   "cell_type": "markdown",
   "metadata": {},
   "source": [
    "# Data Preprocessing"
   ]
  },
  {
   "cell_type": "code",
   "execution_count": 1,
   "metadata": {},
   "outputs": [],
   "source": [
    "import pandas as pd;\n",
    "import numpy as np;\n",
    "import seaborn as sb\n",
    "from matplotlib import pyplot as plt\n",
    "from matplotlib import style\n",
    "from sklearn import metrics\n",
    "from sklearn.model_selection import GridSearchCV"
   ]
  },
  {
   "cell_type": "code",
   "execution_count": 2,
   "metadata": {},
   "outputs": [
    {
     "name": "stdout",
     "output_type": "stream",
     "text": [
      "<class 'pandas.core.frame.DataFrame'>\n",
      "RangeIndex: 16719 entries, 0 to 16718\n",
      "Data columns (total 16 columns):\n",
      " #   Column           Non-Null Count  Dtype  \n",
      "---  ------           --------------  -----  \n",
      " 0   Name             16717 non-null  object \n",
      " 1   Platform         16719 non-null  object \n",
      " 2   Year_of_Release  16450 non-null  float64\n",
      " 3   Genre            16717 non-null  object \n",
      " 4   Publisher        16665 non-null  object \n",
      " 5   NA_Sales         16719 non-null  float64\n",
      " 6   EU_Sales         16719 non-null  float64\n",
      " 7   JP_Sales         16719 non-null  float64\n",
      " 8   Other_Sales      16719 non-null  float64\n",
      " 9   Global_Sales     16719 non-null  float64\n",
      " 10  Critic_Score     8137 non-null   float64\n",
      " 11  Critic_Count     8137 non-null   float64\n",
      " 12  User_Score       10015 non-null  object \n",
      " 13  User_Count       7590 non-null   float64\n",
      " 14  Developer        10096 non-null  object \n",
      " 15  Rating           9950 non-null   object \n",
      "dtypes: float64(9), object(7)\n",
      "memory usage: 2.0+ MB\n"
     ]
    }
   ],
   "source": [
    "data = pd.read_csv('videogame.csv')\n",
    "data.info()"
   ]
  },
  {
   "cell_type": "code",
   "execution_count": 3,
   "metadata": {},
   "outputs": [
    {
     "data": {
      "text/html": [
       "<div>\n",
       "<style scoped>\n",
       "    .dataframe tbody tr th:only-of-type {\n",
       "        vertical-align: middle;\n",
       "    }\n",
       "\n",
       "    .dataframe tbody tr th {\n",
       "        vertical-align: top;\n",
       "    }\n",
       "\n",
       "    .dataframe thead th {\n",
       "        text-align: right;\n",
       "    }\n",
       "</style>\n",
       "<table border=\"1\" class=\"dataframe\">\n",
       "  <thead>\n",
       "    <tr style=\"text-align: right;\">\n",
       "      <th></th>\n",
       "      <th>Name</th>\n",
       "      <th>Platform</th>\n",
       "      <th>Year</th>\n",
       "      <th>Genre</th>\n",
       "      <th>Publisher</th>\n",
       "      <th>NA</th>\n",
       "      <th>EU</th>\n",
       "      <th>JP</th>\n",
       "      <th>Other</th>\n",
       "      <th>Global</th>\n",
       "      <th>Critic_Score</th>\n",
       "      <th>Critic_Count</th>\n",
       "      <th>User_Score</th>\n",
       "      <th>User_Count</th>\n",
       "      <th>Developer</th>\n",
       "      <th>Rating</th>\n",
       "    </tr>\n",
       "  </thead>\n",
       "  <tbody>\n",
       "    <tr>\n",
       "      <th>count</th>\n",
       "      <td>16448</td>\n",
       "      <td>16448</td>\n",
       "      <td>16448.000000</td>\n",
       "      <td>16448</td>\n",
       "      <td>16416</td>\n",
       "      <td>16448.000000</td>\n",
       "      <td>16448.000000</td>\n",
       "      <td>16448.000000</td>\n",
       "      <td>16448.000000</td>\n",
       "      <td>16448.00000</td>\n",
       "      <td>7983.000000</td>\n",
       "      <td>7983.000000</td>\n",
       "      <td>7463.000000</td>\n",
       "      <td>7463.000000</td>\n",
       "      <td>9907</td>\n",
       "      <td>9769</td>\n",
       "    </tr>\n",
       "    <tr>\n",
       "      <th>unique</th>\n",
       "      <td>11429</td>\n",
       "      <td>31</td>\n",
       "      <td>NaN</td>\n",
       "      <td>12</td>\n",
       "      <td>579</td>\n",
       "      <td>NaN</td>\n",
       "      <td>NaN</td>\n",
       "      <td>NaN</td>\n",
       "      <td>NaN</td>\n",
       "      <td>NaN</td>\n",
       "      <td>NaN</td>\n",
       "      <td>NaN</td>\n",
       "      <td>NaN</td>\n",
       "      <td>NaN</td>\n",
       "      <td>1680</td>\n",
       "      <td>8</td>\n",
       "    </tr>\n",
       "    <tr>\n",
       "      <th>top</th>\n",
       "      <td>Need for Speed: Most Wanted</td>\n",
       "      <td>PS2</td>\n",
       "      <td>NaN</td>\n",
       "      <td>Action</td>\n",
       "      <td>Electronic Arts</td>\n",
       "      <td>NaN</td>\n",
       "      <td>NaN</td>\n",
       "      <td>NaN</td>\n",
       "      <td>NaN</td>\n",
       "      <td>NaN</td>\n",
       "      <td>NaN</td>\n",
       "      <td>NaN</td>\n",
       "      <td>NaN</td>\n",
       "      <td>NaN</td>\n",
       "      <td>Ubisoft</td>\n",
       "      <td>E</td>\n",
       "    </tr>\n",
       "    <tr>\n",
       "      <th>freq</th>\n",
       "      <td>12</td>\n",
       "      <td>2127</td>\n",
       "      <td>NaN</td>\n",
       "      <td>3308</td>\n",
       "      <td>1344</td>\n",
       "      <td>NaN</td>\n",
       "      <td>NaN</td>\n",
       "      <td>NaN</td>\n",
       "      <td>NaN</td>\n",
       "      <td>NaN</td>\n",
       "      <td>NaN</td>\n",
       "      <td>NaN</td>\n",
       "      <td>NaN</td>\n",
       "      <td>NaN</td>\n",
       "      <td>201</td>\n",
       "      <td>3922</td>\n",
       "    </tr>\n",
       "    <tr>\n",
       "      <th>mean</th>\n",
       "      <td>NaN</td>\n",
       "      <td>NaN</td>\n",
       "      <td>2006.488996</td>\n",
       "      <td>NaN</td>\n",
       "      <td>NaN</td>\n",
       "      <td>0.263965</td>\n",
       "      <td>0.145895</td>\n",
       "      <td>0.078472</td>\n",
       "      <td>0.047583</td>\n",
       "      <td>0.53617</td>\n",
       "      <td>68.994363</td>\n",
       "      <td>26.441313</td>\n",
       "      <td>7.126330</td>\n",
       "      <td>163.015141</td>\n",
       "      <td>NaN</td>\n",
       "      <td>NaN</td>\n",
       "    </tr>\n",
       "    <tr>\n",
       "      <th>std</th>\n",
       "      <td>NaN</td>\n",
       "      <td>NaN</td>\n",
       "      <td>5.877470</td>\n",
       "      <td>NaN</td>\n",
       "      <td>NaN</td>\n",
       "      <td>0.818286</td>\n",
       "      <td>0.506660</td>\n",
       "      <td>0.311064</td>\n",
       "      <td>0.187984</td>\n",
       "      <td>1.55846</td>\n",
       "      <td>13.920060</td>\n",
       "      <td>19.008136</td>\n",
       "      <td>1.499447</td>\n",
       "      <td>563.863327</td>\n",
       "      <td>NaN</td>\n",
       "      <td>NaN</td>\n",
       "    </tr>\n",
       "    <tr>\n",
       "      <th>min</th>\n",
       "      <td>NaN</td>\n",
       "      <td>NaN</td>\n",
       "      <td>1980.000000</td>\n",
       "      <td>NaN</td>\n",
       "      <td>NaN</td>\n",
       "      <td>0.000000</td>\n",
       "      <td>0.000000</td>\n",
       "      <td>0.000000</td>\n",
       "      <td>0.000000</td>\n",
       "      <td>0.01000</td>\n",
       "      <td>13.000000</td>\n",
       "      <td>3.000000</td>\n",
       "      <td>0.000000</td>\n",
       "      <td>4.000000</td>\n",
       "      <td>NaN</td>\n",
       "      <td>NaN</td>\n",
       "    </tr>\n",
       "    <tr>\n",
       "      <th>25%</th>\n",
       "      <td>NaN</td>\n",
       "      <td>NaN</td>\n",
       "      <td>2003.000000</td>\n",
       "      <td>NaN</td>\n",
       "      <td>NaN</td>\n",
       "      <td>0.000000</td>\n",
       "      <td>0.000000</td>\n",
       "      <td>0.000000</td>\n",
       "      <td>0.000000</td>\n",
       "      <td>0.06000</td>\n",
       "      <td>60.000000</td>\n",
       "      <td>12.000000</td>\n",
       "      <td>6.400000</td>\n",
       "      <td>10.000000</td>\n",
       "      <td>NaN</td>\n",
       "      <td>NaN</td>\n",
       "    </tr>\n",
       "    <tr>\n",
       "      <th>50%</th>\n",
       "      <td>NaN</td>\n",
       "      <td>NaN</td>\n",
       "      <td>2007.000000</td>\n",
       "      <td>NaN</td>\n",
       "      <td>NaN</td>\n",
       "      <td>0.080000</td>\n",
       "      <td>0.020000</td>\n",
       "      <td>0.000000</td>\n",
       "      <td>0.010000</td>\n",
       "      <td>0.17000</td>\n",
       "      <td>71.000000</td>\n",
       "      <td>22.000000</td>\n",
       "      <td>7.500000</td>\n",
       "      <td>24.000000</td>\n",
       "      <td>NaN</td>\n",
       "      <td>NaN</td>\n",
       "    </tr>\n",
       "    <tr>\n",
       "      <th>75%</th>\n",
       "      <td>NaN</td>\n",
       "      <td>NaN</td>\n",
       "      <td>2010.000000</td>\n",
       "      <td>NaN</td>\n",
       "      <td>NaN</td>\n",
       "      <td>0.240000</td>\n",
       "      <td>0.110000</td>\n",
       "      <td>0.040000</td>\n",
       "      <td>0.030000</td>\n",
       "      <td>0.47000</td>\n",
       "      <td>79.000000</td>\n",
       "      <td>36.000000</td>\n",
       "      <td>8.200000</td>\n",
       "      <td>81.000000</td>\n",
       "      <td>NaN</td>\n",
       "      <td>NaN</td>\n",
       "    </tr>\n",
       "    <tr>\n",
       "      <th>max</th>\n",
       "      <td>NaN</td>\n",
       "      <td>NaN</td>\n",
       "      <td>2020.000000</td>\n",
       "      <td>NaN</td>\n",
       "      <td>NaN</td>\n",
       "      <td>41.360000</td>\n",
       "      <td>28.960000</td>\n",
       "      <td>10.220000</td>\n",
       "      <td>10.570000</td>\n",
       "      <td>82.53000</td>\n",
       "      <td>98.000000</td>\n",
       "      <td>113.000000</td>\n",
       "      <td>9.700000</td>\n",
       "      <td>10665.000000</td>\n",
       "      <td>NaN</td>\n",
       "      <td>NaN</td>\n",
       "    </tr>\n",
       "  </tbody>\n",
       "</table>\n",
       "</div>"
      ],
      "text/plain": [
       "                               Name Platform          Year   Genre  \\\n",
       "count                         16448    16448  16448.000000   16448   \n",
       "unique                        11429       31           NaN      12   \n",
       "top     Need for Speed: Most Wanted      PS2           NaN  Action   \n",
       "freq                             12     2127           NaN    3308   \n",
       "mean                            NaN      NaN   2006.488996     NaN   \n",
       "std                             NaN      NaN      5.877470     NaN   \n",
       "min                             NaN      NaN   1980.000000     NaN   \n",
       "25%                             NaN      NaN   2003.000000     NaN   \n",
       "50%                             NaN      NaN   2007.000000     NaN   \n",
       "75%                             NaN      NaN   2010.000000     NaN   \n",
       "max                             NaN      NaN   2020.000000     NaN   \n",
       "\n",
       "              Publisher            NA            EU            JP  \\\n",
       "count             16416  16448.000000  16448.000000  16448.000000   \n",
       "unique              579           NaN           NaN           NaN   \n",
       "top     Electronic Arts           NaN           NaN           NaN   \n",
       "freq               1344           NaN           NaN           NaN   \n",
       "mean                NaN      0.263965      0.145895      0.078472   \n",
       "std                 NaN      0.818286      0.506660      0.311064   \n",
       "min                 NaN      0.000000      0.000000      0.000000   \n",
       "25%                 NaN      0.000000      0.000000      0.000000   \n",
       "50%                 NaN      0.080000      0.020000      0.000000   \n",
       "75%                 NaN      0.240000      0.110000      0.040000   \n",
       "max                 NaN     41.360000     28.960000     10.220000   \n",
       "\n",
       "               Other       Global  Critic_Score  Critic_Count   User_Score  \\\n",
       "count   16448.000000  16448.00000   7983.000000   7983.000000  7463.000000   \n",
       "unique           NaN          NaN           NaN           NaN          NaN   \n",
       "top              NaN          NaN           NaN           NaN          NaN   \n",
       "freq             NaN          NaN           NaN           NaN          NaN   \n",
       "mean        0.047583      0.53617     68.994363     26.441313     7.126330   \n",
       "std         0.187984      1.55846     13.920060     19.008136     1.499447   \n",
       "min         0.000000      0.01000     13.000000      3.000000     0.000000   \n",
       "25%         0.000000      0.06000     60.000000     12.000000     6.400000   \n",
       "50%         0.010000      0.17000     71.000000     22.000000     7.500000   \n",
       "75%         0.030000      0.47000     79.000000     36.000000     8.200000   \n",
       "max        10.570000     82.53000     98.000000    113.000000     9.700000   \n",
       "\n",
       "          User_Count Developer Rating  \n",
       "count    7463.000000      9907   9769  \n",
       "unique           NaN      1680      8  \n",
       "top              NaN   Ubisoft      E  \n",
       "freq             NaN       201   3922  \n",
       "mean      163.015141       NaN    NaN  \n",
       "std       563.863327       NaN    NaN  \n",
       "min         4.000000       NaN    NaN  \n",
       "25%        10.000000       NaN    NaN  \n",
       "50%        24.000000       NaN    NaN  \n",
       "75%        81.000000       NaN    NaN  \n",
       "max     10665.000000       NaN    NaN  "
      ]
     },
     "execution_count": 3,
     "metadata": {},
     "output_type": "execute_result"
    }
   ],
   "source": [
    "data = data.rename(columns={\"Year_of_Release\": \"Year\", \n",
    "                            \"NA_Sales\": \"NA\",\n",
    "                            \"EU_Sales\": \"EU\",\n",
    "                            \"JP_Sales\": \"JP\",\n",
    "                            \"Other_Sales\": \"Other\",\n",
    "                            \"Global_Sales\": \"Global\"})\n",
    "data = data[data[\"Year\"].notnull()]\n",
    "data = data[data[\"Genre\"].notnull()]\n",
    "data[\"Year\"] = data[\"Year\"].apply(int)\n",
    "data[\"User_Score\"] = data[\"User_Score\"].replace(\"tbd\", np.nan).astype(float)\n",
    "data.describe(include=\"all\")"
   ]
  },
  {
   "cell_type": "markdown",
   "metadata": {},
   "source": [
    "## Data Cleaning"
   ]
  },
  {
   "cell_type": "markdown",
   "metadata": {},
   "source": [
    "### Handling Missing Values"
   ]
  },
  {
   "cell_type": "markdown",
   "metadata": {},
   "source": [
    "We are filling scores and counts with zeros, because there were no real zero scores or counts in the dataset, so it will indicate absence of scores. "
   ]
  },
  {
   "cell_type": "code",
   "execution_count": 4,
   "metadata": {},
   "outputs": [],
   "source": [
    "data[\"Critic_Score\"].fillna(0.0, inplace=True)\n",
    "data[\"Critic_Count\"].fillna(0.0, inplace=True)\n",
    "data[\"User_Score\"].fillna(0.0, inplace=True)\n",
    "data[\"User_Count\"].fillna(0.0, inplace=True)"
   ]
  },
  {
   "cell_type": "markdown",
   "metadata": {},
   "source": [
    "### Handling Outliers"
   ]
  },
  {
   "cell_type": "code",
   "execution_count": 5,
   "metadata": {},
   "outputs": [],
   "source": [
    "def rm_outliers(df, list_of_keys):\n",
    "    df_out = df\n",
    "    for key in list_of_keys:\n",
    "        \n",
    "        # Calculate first and third quartile\n",
    "        first_quartile = df_out[key].describe()[\"25%\"]\n",
    "        third_quartile = df_out[key].describe()[\"75%\"]\n",
    "\n",
    "        # Interquartile range\n",
    "        iqr = third_quartile - first_quartile\n",
    "        removed = df_out[(df_out[key] <= (first_quartile - 3 * iqr)) |\n",
    "                    (df_out[key] >= (third_quartile + 3 * iqr))] \n",
    "        df_out = df_out[(df_out[key] > (first_quartile - 3 * iqr)) &\n",
    "                    (df_out[key] < (third_quartile + 3 * iqr))]\n",
    "        \n",
    "    return df_out, removed"
   ]
  },
  {
   "cell_type": "markdown",
   "metadata": {},
   "source": [
    "We remove outliers for 'Global' and 'User_Count'"
   ]
  },
  {
   "cell_type": "code",
   "execution_count": 6,
   "metadata": {},
   "outputs": [
    {
     "data": {
      "text/html": [
       "<div>\n",
       "<style scoped>\n",
       "    .dataframe tbody tr th:only-of-type {\n",
       "        vertical-align: middle;\n",
       "    }\n",
       "\n",
       "    .dataframe tbody tr th {\n",
       "        vertical-align: top;\n",
       "    }\n",
       "\n",
       "    .dataframe thead th {\n",
       "        text-align: right;\n",
       "    }\n",
       "</style>\n",
       "<table border=\"1\" class=\"dataframe\">\n",
       "  <thead>\n",
       "    <tr style=\"text-align: right;\">\n",
       "      <th></th>\n",
       "      <th>Year</th>\n",
       "      <th>NA</th>\n",
       "      <th>EU</th>\n",
       "      <th>JP</th>\n",
       "      <th>Other</th>\n",
       "      <th>Global</th>\n",
       "      <th>Critic_Score</th>\n",
       "      <th>Critic_Count</th>\n",
       "      <th>User_Score</th>\n",
       "      <th>User_Count</th>\n",
       "    </tr>\n",
       "  </thead>\n",
       "  <tbody>\n",
       "    <tr>\n",
       "      <th>count</th>\n",
       "      <td>14765.000000</td>\n",
       "      <td>14765.000000</td>\n",
       "      <td>14765.000000</td>\n",
       "      <td>14765.000000</td>\n",
       "      <td>14765.000000</td>\n",
       "      <td>14765.000000</td>\n",
       "      <td>14765.000000</td>\n",
       "      <td>14765.000000</td>\n",
       "      <td>14765.000000</td>\n",
       "      <td>14765.000000</td>\n",
       "    </tr>\n",
       "    <tr>\n",
       "      <th>mean</th>\n",
       "      <td>2006.473485</td>\n",
       "      <td>0.134590</td>\n",
       "      <td>0.063504</td>\n",
       "      <td>0.046849</td>\n",
       "      <td>0.021974</td>\n",
       "      <td>0.267203</td>\n",
       "      <td>30.306400</td>\n",
       "      <td>10.390518</td>\n",
       "      <td>2.944646</td>\n",
       "      <td>16.534236</td>\n",
       "    </tr>\n",
       "    <tr>\n",
       "      <th>std</th>\n",
       "      <td>5.728498</td>\n",
       "      <td>0.192363</td>\n",
       "      <td>0.115421</td>\n",
       "      <td>0.128329</td>\n",
       "      <td>0.045871</td>\n",
       "      <td>0.311721</td>\n",
       "      <td>34.424504</td>\n",
       "      <td>15.551403</td>\n",
       "      <td>3.613105</td>\n",
       "      <td>39.203913</td>\n",
       "    </tr>\n",
       "    <tr>\n",
       "      <th>min</th>\n",
       "      <td>1980.000000</td>\n",
       "      <td>0.000000</td>\n",
       "      <td>0.000000</td>\n",
       "      <td>0.000000</td>\n",
       "      <td>0.000000</td>\n",
       "      <td>0.010000</td>\n",
       "      <td>0.000000</td>\n",
       "      <td>0.000000</td>\n",
       "      <td>0.000000</td>\n",
       "      <td>0.000000</td>\n",
       "    </tr>\n",
       "    <tr>\n",
       "      <th>25%</th>\n",
       "      <td>2003.000000</td>\n",
       "      <td>0.000000</td>\n",
       "      <td>0.000000</td>\n",
       "      <td>0.000000</td>\n",
       "      <td>0.000000</td>\n",
       "      <td>0.050000</td>\n",
       "      <td>0.000000</td>\n",
       "      <td>0.000000</td>\n",
       "      <td>0.000000</td>\n",
       "      <td>0.000000</td>\n",
       "    </tr>\n",
       "    <tr>\n",
       "      <th>50%</th>\n",
       "      <td>2007.000000</td>\n",
       "      <td>0.060000</td>\n",
       "      <td>0.020000</td>\n",
       "      <td>0.000000</td>\n",
       "      <td>0.010000</td>\n",
       "      <td>0.140000</td>\n",
       "      <td>0.000000</td>\n",
       "      <td>0.000000</td>\n",
       "      <td>0.000000</td>\n",
       "      <td>0.000000</td>\n",
       "    </tr>\n",
       "    <tr>\n",
       "      <th>75%</th>\n",
       "      <td>2010.000000</td>\n",
       "      <td>0.180000</td>\n",
       "      <td>0.070000</td>\n",
       "      <td>0.030000</td>\n",
       "      <td>0.020000</td>\n",
       "      <td>0.360000</td>\n",
       "      <td>67.000000</td>\n",
       "      <td>17.000000</td>\n",
       "      <td>7.000000</td>\n",
       "      <td>14.000000</td>\n",
       "    </tr>\n",
       "    <tr>\n",
       "      <th>max</th>\n",
       "      <td>2020.000000</td>\n",
       "      <td>1.450000</td>\n",
       "      <td>1.160000</td>\n",
       "      <td>1.520000</td>\n",
       "      <td>1.130000</td>\n",
       "      <td>1.530000</td>\n",
       "      <td>98.000000</td>\n",
       "      <td>91.000000</td>\n",
       "      <td>9.700000</td>\n",
       "      <td>293.000000</td>\n",
       "    </tr>\n",
       "  </tbody>\n",
       "</table>\n",
       "</div>"
      ],
      "text/plain": [
       "               Year            NA            EU            JP         Other  \\\n",
       "count  14765.000000  14765.000000  14765.000000  14765.000000  14765.000000   \n",
       "mean    2006.473485      0.134590      0.063504      0.046849      0.021974   \n",
       "std        5.728498      0.192363      0.115421      0.128329      0.045871   \n",
       "min     1980.000000      0.000000      0.000000      0.000000      0.000000   \n",
       "25%     2003.000000      0.000000      0.000000      0.000000      0.000000   \n",
       "50%     2007.000000      0.060000      0.020000      0.000000      0.010000   \n",
       "75%     2010.000000      0.180000      0.070000      0.030000      0.020000   \n",
       "max     2020.000000      1.450000      1.160000      1.520000      1.130000   \n",
       "\n",
       "             Global  Critic_Score  Critic_Count    User_Score    User_Count  \n",
       "count  14765.000000  14765.000000  14765.000000  14765.000000  14765.000000  \n",
       "mean       0.267203     30.306400     10.390518      2.944646     16.534236  \n",
       "std        0.311721     34.424504     15.551403      3.613105     39.203913  \n",
       "min        0.010000      0.000000      0.000000      0.000000      0.000000  \n",
       "25%        0.050000      0.000000      0.000000      0.000000      0.000000  \n",
       "50%        0.140000      0.000000      0.000000      0.000000      0.000000  \n",
       "75%        0.360000     67.000000     17.000000      7.000000     14.000000  \n",
       "max        1.530000     98.000000     91.000000      9.700000    293.000000  "
      ]
     },
     "execution_count": 6,
     "metadata": {},
     "output_type": "execute_result"
    }
   ],
   "source": [
    "tmp, rmvd_tmp = rm_outliers(data[data[\"User_Count\"] != 0], [\"User_Count\"])\n",
    "data.drop(rmvd_tmp.index, axis=0, inplace=True)\n",
    "data, rmvd_global = rm_outliers(data, [\"Global\"])\n",
    "data.describe()"
   ]
  },
  {
   "cell_type": "markdown",
   "metadata": {},
   "source": [
    "## Exploratory Data Analysis"
   ]
  },
  {
   "cell_type": "markdown",
   "metadata": {},
   "source": [
    "### Histogram for checking Skewness"
   ]
  },
  {
   "cell_type": "code",
   "execution_count": 7,
   "metadata": {},
   "outputs": [],
   "source": [
    "numeric_subset = data.select_dtypes(\"number\").drop(columns=[\"NA\", \"EU\", \"JP\", \"Other\", \"Year\"])"
   ]
  },
  {
   "cell_type": "code",
   "execution_count": 8,
   "metadata": {},
   "outputs": [
    {
     "data": {
      "image/png": "[encoded data removed]",
      "text/plain": [
       "<Figure size 432x288 with 1 Axes>"
      ]
     },
     "metadata": {
      "needs_background": "light"
     },
     "output_type": "display_data"
    },
    {
     "data": {
      "image/png": "[encoded data removed]",
      "text/plain": [
       "<Figure size 432x288 with 1 Axes>"
      ]
     },
     "metadata": {
      "needs_background": "light"
     },
     "output_type": "display_data"
    },
    {
     "data": {
      "image/png": "[encoded data removed]",
      "text/plain": [
       "<Figure size 432x288 with 1 Axes>"
      ]
     },
     "metadata": {
      "needs_background": "light"
     },
     "output_type": "display_data"
    },
    {
     "data": {
      "image/png": "[encoded data removed]",
      "text/plain": [
       "<Figure size 432x288 with 1 Axes>"
      ]
     },
     "metadata": {
      "needs_background": "light"
     },
     "output_type": "display_data"
    },
    {
     "data": {
      "image/png": "[encoded data removed]",
      "text/plain": [
       "<Figure size 432x288 with 1 Axes>"
      ]
     },
     "metadata": {
      "needs_background": "light"
     },
     "output_type": "display_data"
    }
   ],
   "source": [
    "for i in range(numeric_subset.shape[1]):\n",
    "    plt.figure()\n",
    "    if type(numeric_subset.iloc[0,i]) != str:\n",
    "        plt.hist(numeric_subset.iloc[:,i], bins=20, edgecolor='k', facecolor='b', linewidth=1.5, alpha=0.8)\n",
    "        plt.xlabel(numeric_subset.columns[i])\n",
    "        plt.ylabel('Frequency')\n",
    "        plt.show()"
   ]
  },
  {
   "cell_type": "markdown",
   "metadata": {},
   "source": [
    "### Boxplot of categorical features vs target variable"
   ]
  },
  {
   "cell_type": "code",
   "execution_count": 9,
   "metadata": {},
   "outputs": [
    {
     "name": "stderr",
     "output_type": "stream",
     "text": [
      "/Users/kenmai/opt/anaconda3/lib/python3.8/site-packages/seaborn/_decorators.py:36: FutureWarning: Pass the following variables as keyword args: x, y. From version 0.12, the only valid positional argument will be `data`, and passing other arguments without an explicit keyword will result in an error or misinterpretation.\n",
      "  warnings.warn(\n",
      "/Users/kenmai/opt/anaconda3/lib/python3.8/site-packages/seaborn/_decorators.py:36: FutureWarning: Pass the following variables as keyword args: x, y. From version 0.12, the only valid positional argument will be `data`, and passing other arguments without an explicit keyword will result in an error or misinterpretation.\n",
      "  warnings.warn(\n"
     ]
    },
    {
     "data": {
      "image/png": "[encoded data removed]",
      "text/plain": [
       "<Figure size 432x288 with 1 Axes>"
      ]
     },
     "metadata": {
      "needs_background": "light"
     },
     "output_type": "display_data"
    },
    {
     "data": {
      "image/png": "[encoded data removed]",
      "text/plain": [
       "<Figure size 432x288 with 1 Axes>"
      ]
     },
     "metadata": {
      "needs_background": "light"
     },
     "output_type": "display_data"
    },
    {
     "name": "stderr",
     "output_type": "stream",
     "text": [
      "/Users/kenmai/opt/anaconda3/lib/python3.8/site-packages/seaborn/_decorators.py:36: FutureWarning: Pass the following variables as keyword args: x, y. From version 0.12, the only valid positional argument will be `data`, and passing other arguments without an explicit keyword will result in an error or misinterpretation.\n",
      "  warnings.warn(\n"
     ]
    },
    {
     "data": {
      "image/png": "[encoded data removed]",
      "text/plain": [
       "<Figure size 432x288 with 1 Axes>"
      ]
     },
     "metadata": {
      "needs_background": "light"
     },
     "output_type": "display_data"
    }
   ],
   "source": [
    "sb.boxplot(data['Genre'], data['Global'], order=list(set(data['Genre'])))\n",
    "plt.figure()\n",
    "sb.boxplot(data['Rating'], data['Global'], order=list(set(data['Rating'])))\n",
    "plt.show()\n",
    "sb.boxplot(data['Platform'], data['Global'], order=list(set(data['Platform'])))\n",
    "plt.show()"
   ]
  },
  {
   "cell_type": "markdown",
   "metadata": {},
   "source": [
    "### The distribution of  the target variable ‘Global’"
   ]
  },
  {
   "cell_type": "code",
   "execution_count": 10,
   "metadata": {},
   "outputs": [
    {
     "name": "stderr",
     "output_type": "stream",
     "text": [
      "/Users/kenmai/opt/anaconda3/lib/python3.8/site-packages/seaborn/distributions.py:2551: FutureWarning: `distplot` is a deprecated function and will be removed in a future version. Please adapt your code to use either `displot` (a figure-level function with similar flexibility) or `histplot` (an axes-level function for histograms).\n",
      "  warnings.warn(msg, FutureWarning)\n"
     ]
    },
    {
     "data": {
      "text/plain": [
       "(0.2672028445648734, 0.14)"
      ]
     },
     "execution_count": 10,
     "metadata": {},
     "output_type": "execute_result"
    },
    {
     "data": {
      "image/png": "[encoded data removed]",
      "text/plain": [
       "<Figure size 432x288 with 1 Axes>"
      ]
     },
     "metadata": {
      "needs_background": "light"
     },
     "output_type": "display_data"
    }
   ],
   "source": [
    "sb.distplot(data[\"Global\"], color='b')\n",
    "np.mean(data[\"Global\"]), np.median(data[\"Global\"])"
   ]
  },
  {
   "cell_type": "markdown",
   "metadata": {},
   "source": [
    "### Feature Creation "
   ]
  },
  {
   "cell_type": "code",
   "execution_count": 11,
   "metadata": {},
   "outputs": [
    {
     "data": {
      "text/html": [
       "<div>\n",
       "<style scoped>\n",
       "    .dataframe tbody tr th:only-of-type {\n",
       "        vertical-align: middle;\n",
       "    }\n",
       "\n",
       "    .dataframe tbody tr th {\n",
       "        vertical-align: top;\n",
       "    }\n",
       "\n",
       "    .dataframe thead th {\n",
       "        text-align: right;\n",
       "    }\n",
       "</style>\n",
       "<table border=\"1\" class=\"dataframe\">\n",
       "  <thead>\n",
       "    <tr style=\"text-align: right;\">\n",
       "      <th></th>\n",
       "      <th>Year</th>\n",
       "      <th>NA</th>\n",
       "      <th>EU</th>\n",
       "      <th>JP</th>\n",
       "      <th>Other</th>\n",
       "      <th>Global</th>\n",
       "      <th>Critic_Score</th>\n",
       "      <th>Critic_Count</th>\n",
       "      <th>User_Score</th>\n",
       "      <th>User_Count</th>\n",
       "    </tr>\n",
       "  </thead>\n",
       "  <tbody>\n",
       "    <tr>\n",
       "      <th>count</th>\n",
       "      <td>7950.000000</td>\n",
       "      <td>7950.000000</td>\n",
       "      <td>7950.000000</td>\n",
       "      <td>7950.000000</td>\n",
       "      <td>7950.000000</td>\n",
       "      <td>7950.000000</td>\n",
       "      <td>7950.000000</td>\n",
       "      <td>7950.000000</td>\n",
       "      <td>7950.000000</td>\n",
       "      <td>7950.000000</td>\n",
       "    </tr>\n",
       "    <tr>\n",
       "      <th>mean</th>\n",
       "      <td>2007.233585</td>\n",
       "      <td>0.166401</td>\n",
       "      <td>0.073750</td>\n",
       "      <td>0.017847</td>\n",
       "      <td>0.028146</td>\n",
       "      <td>0.286434</td>\n",
       "      <td>50.929057</td>\n",
       "      <td>16.559497</td>\n",
       "      <td>4.937862</td>\n",
       "      <td>18.298742</td>\n",
       "    </tr>\n",
       "    <tr>\n",
       "      <th>std</th>\n",
       "      <td>3.904239</td>\n",
       "      <td>0.187728</td>\n",
       "      <td>0.117981</td>\n",
       "      <td>0.073832</td>\n",
       "      <td>0.051457</td>\n",
       "      <td>0.305900</td>\n",
       "      <td>30.057629</td>\n",
       "      <td>15.492856</td>\n",
       "      <td>3.460594</td>\n",
       "      <td>24.364081</td>\n",
       "    </tr>\n",
       "    <tr>\n",
       "      <th>min</th>\n",
       "      <td>1985.000000</td>\n",
       "      <td>0.000000</td>\n",
       "      <td>0.000000</td>\n",
       "      <td>0.000000</td>\n",
       "      <td>0.000000</td>\n",
       "      <td>0.010000</td>\n",
       "      <td>0.000000</td>\n",
       "      <td>0.000000</td>\n",
       "      <td>0.000000</td>\n",
       "      <td>0.000000</td>\n",
       "    </tr>\n",
       "    <tr>\n",
       "      <th>25%</th>\n",
       "      <td>2004.000000</td>\n",
       "      <td>0.040000</td>\n",
       "      <td>0.000000</td>\n",
       "      <td>0.000000</td>\n",
       "      <td>0.000000</td>\n",
       "      <td>0.070000</td>\n",
       "      <td>37.000000</td>\n",
       "      <td>4.000000</td>\n",
       "      <td>0.000000</td>\n",
       "      <td>0.000000</td>\n",
       "    </tr>\n",
       "    <tr>\n",
       "      <th>50%</th>\n",
       "      <td>2007.000000</td>\n",
       "      <td>0.100000</td>\n",
       "      <td>0.030000</td>\n",
       "      <td>0.000000</td>\n",
       "      <td>0.010000</td>\n",
       "      <td>0.170000</td>\n",
       "      <td>62.000000</td>\n",
       "      <td>13.000000</td>\n",
       "      <td>6.500000</td>\n",
       "      <td>9.000000</td>\n",
       "    </tr>\n",
       "    <tr>\n",
       "      <th>75%</th>\n",
       "      <td>2010.000000</td>\n",
       "      <td>0.220000</td>\n",
       "      <td>0.090000</td>\n",
       "      <td>0.000000</td>\n",
       "      <td>0.030000</td>\n",
       "      <td>0.390000</td>\n",
       "      <td>73.000000</td>\n",
       "      <td>26.000000</td>\n",
       "      <td>7.800000</td>\n",
       "      <td>24.000000</td>\n",
       "    </tr>\n",
       "    <tr>\n",
       "      <th>max</th>\n",
       "      <td>2020.000000</td>\n",
       "      <td>1.260000</td>\n",
       "      <td>1.140000</td>\n",
       "      <td>1.390000</td>\n",
       "      <td>1.130000</td>\n",
       "      <td>1.530000</td>\n",
       "      <td>97.000000</td>\n",
       "      <td>84.000000</td>\n",
       "      <td>9.700000</td>\n",
       "      <td>119.000000</td>\n",
       "    </tr>\n",
       "  </tbody>\n",
       "</table>\n",
       "</div>"
      ],
      "text/plain": [
       "              Year           NA           EU           JP        Other  \\\n",
       "count  7950.000000  7950.000000  7950.000000  7950.000000  7950.000000   \n",
       "mean   2007.233585     0.166401     0.073750     0.017847     0.028146   \n",
       "std       3.904239     0.187728     0.117981     0.073832     0.051457   \n",
       "min    1985.000000     0.000000     0.000000     0.000000     0.000000   \n",
       "25%    2004.000000     0.040000     0.000000     0.000000     0.000000   \n",
       "50%    2007.000000     0.100000     0.030000     0.000000     0.010000   \n",
       "75%    2010.000000     0.220000     0.090000     0.000000     0.030000   \n",
       "max    2020.000000     1.260000     1.140000     1.390000     1.130000   \n",
       "\n",
       "            Global  Critic_Score  Critic_Count   User_Score   User_Count  \n",
       "count  7950.000000   7950.000000   7950.000000  7950.000000  7950.000000  \n",
       "mean      0.286434     50.929057     16.559497     4.937862    18.298742  \n",
       "std       0.305900     30.057629     15.492856     3.460594    24.364081  \n",
       "min       0.010000      0.000000      0.000000     0.000000     0.000000  \n",
       "25%       0.070000     37.000000      4.000000     0.000000     0.000000  \n",
       "50%       0.170000     62.000000     13.000000     6.500000     9.000000  \n",
       "75%       0.390000     73.000000     26.000000     7.800000    24.000000  \n",
       "max       1.530000     97.000000     84.000000     9.700000   119.000000  "
      ]
     },
     "execution_count": 11,
     "metadata": {},
     "output_type": "execute_result"
    }
   ],
   "source": [
    "scored = data.dropna(subset=[\"User_Score\", \"Critic_Score\", \"Rating\"])\n",
    "scored, rmvd_user_count = rm_outliers(scored, [\"User_Count\"])\n",
    "scored.describe()"
   ]
  },
  {
   "cell_type": "code",
   "execution_count": 12,
   "metadata": {},
   "outputs": [],
   "source": [
    "data[\"Age\"] = 2018 - data[\"Year\"]"
   ]
  },
  {
   "cell_type": "code",
   "execution_count": 13,
   "metadata": {},
   "outputs": [],
   "source": [
    "# Making a new column which shows if the game is scored or not. (User score and Critic Score)\n",
    "\n",
    "data[\"Has_Score\"] = data[\"User_Score\"].notnull() & data[\"Critic_Score\"].notnull()\n"
   ]
  },
  {
   "cell_type": "code",
   "execution_count": 14,
   "metadata": {},
   "outputs": [],
   "source": [
    "import category_encoders as ce"
   ]
  },
  {
   "cell_type": "code",
   "execution_count": 15,
   "metadata": {},
   "outputs": [
    {
     "data": {
      "text/plain": [
       "array(['Wii', 'PS3', 'SNES', 'PS', 'GC', 'PS2', 'NES', 'PC', 'DS', '3DS',\n",
       "       'N64', 'SCD', 'XB', 'X360', 'PS4', 'GB', 'PSP', 'GBA', '2600',\n",
       "       'GEN', 'XOne', 'DC', 'SAT', 'WiiU', 'PSV', 'WS', 'NG', 'TG16',\n",
       "       '3DO', 'GG', 'PCFX'], dtype=object)"
      ]
     },
     "execution_count": 15,
     "metadata": {},
     "output_type": "execute_result"
    }
   ],
   "source": [
    "#Number of unique platforms present \n",
    "data[\"Platform\"].unique()"
   ]
  },
  {
   "cell_type": "markdown",
   "metadata": {},
   "source": [
    "There are too many different platforms and most of them represent a very small percent of games. I am going to group platforms to reduce the number of features."
   ]
  },
  {
   "cell_type": "code",
   "execution_count": 16,
   "metadata": {},
   "outputs": [],
   "source": [
    "#Grouping platforms together\n",
    "platforms = {\"Playstation\" : [\"PS\", \"PS2\", \"PS3\", \"PS4\"],\n",
    "             \"Xbox\" : [\"XB\", \"X360\", \"XOne\"], \n",
    "             \"PC\" : [\"PC\"],\n",
    "             \"Nintendo\" : [\"Wii\", \"WiiU\"],\n",
    "             \"Portable\" : [\"GB\", \"GBA\", \"GC\", \"DS\", \"3DS\", \"PSP\", \"PSV\"]}"
   ]
  },
  {
   "cell_type": "markdown",
   "metadata": {},
   "source": [
    "Below are the functions that I am going to use to plot the data and get inferences as well help to group the platforms as required."
   ]
  },
  {
   "cell_type": "code",
   "execution_count": 17,
   "metadata": {},
   "outputs": [],
   "source": [
    "def visual_chart(column, palette=\"Set2\"):\n",
    "    values = column.value_counts().values\n",
    "    labels = column.value_counts().index\n",
    "    plt.pie(values, colors=sb.color_palette(palette), \n",
    "            labels=labels, autopct=\"%1.1f%%\", \n",
    "            startangle=90, pctdistance=0.85)\n",
    "    \n",
    "    #draw circle\n",
    "    centre_circle = plt.Circle((0,0), 0.70, fc=\"white\")\n",
    "    fig = plt.gcf()\n",
    "    fig.gca().add_artist(centre_circle)"
   ]
  },
  {
   "cell_type": "code",
   "execution_count": 18,
   "metadata": {},
   "outputs": [],
   "source": [
    "def get_group_label(x, groups=None):\n",
    "    if groups is None:\n",
    "        return \"Other\"\n",
    "    else:\n",
    "        for key, val in groups.items():\n",
    "            if x in val:\n",
    "                return key\n",
    "        return \"Other\""
   ]
  },
  {
   "cell_type": "code",
   "execution_count": 19,
   "metadata": {},
   "outputs": [
    {
     "data": {
      "image/png": "[encoded data removed]",
      "text/plain": [
       "<Figure size 432x288 with 1 Axes>"
      ]
     },
     "metadata": {},
     "output_type": "display_data"
    }
   ],
   "source": [
    "data[\"Grouped_Platform\"] = data[\"Platform\"].apply(lambda x: get_group_label(x, groups=platforms))\n",
    "visual_chart(data[\"Grouped_Platform\"])\n",
    "plt.title(\"Groups of platforms\")\n",
    "plt.axis(\"equal\");"
   ]
  },
  {
   "cell_type": "markdown",
   "metadata": {},
   "source": [
    "Looks much better.\n",
    "\n",
    "Now I want to check the same thing for genres."
   ]
  },
  {
   "cell_type": "code",
   "execution_count": 20,
   "metadata": {},
   "outputs": [
    {
     "data": {
      "text/plain": [
       "(-1.111677767399533,\n",
       " 1.1028093069102034,\n",
       " -1.102842546942564,\n",
       " 1.1001353593782173)"
      ]
     },
     "execution_count": 20,
     "metadata": {},
     "output_type": "execute_result"
    },
    {
     "data": {
      "image/png": "[encoded data removed]",
      "text/plain": [
       "<Figure size 432x288 with 1 Axes>"
      ]
     },
     "metadata": {},
     "output_type": "display_data"
    }
   ],
   "source": [
    "visual_chart(data[\"Genre\"], palette=\"muted\")\n",
    "plt.title(\"Genres\")\n",
    "plt.axis(\"equal\")"
   ]
  },
  {
   "cell_type": "markdown",
   "metadata": {},
   "source": [
    "The distribution seems ok, even though there is a significant number of different genres."
   ]
  },
  {
   "cell_type": "code",
   "execution_count": 21,
   "metadata": {},
   "outputs": [
    {
     "data": {
      "image/png": "[encoded data removed]",
      "text/plain": [
       "<Figure size 432x288 with 1 Axes>"
      ]
     },
     "metadata": {},
     "output_type": "display_data"
    }
   ],
   "source": [
    "#Grouping the platforms for the entries whose score is given\n",
    "scored[\"Grouped_Platform\"] = scored[\"Platform\"].apply(lambda x: get_group_label(x, platforms))\n",
    "visual_chart(scored[\"Grouped_Platform\"])\n",
    "plt.title(\"Groups of platforms for games with score\")\n",
    "plt.axis(\"equal\");"
   ]
  },
  {
   "cell_type": "markdown",
   "metadata": {},
   "source": [
    "Almost all games that have scores are for \"big\" platfroms: PC, PS, Xbox or portable. But there are few from the \"Other\" group. Below are the results what the \"Other\" platform represents. (DC - Dreamcast)"
   ]
  },
  {
   "cell_type": "code",
   "execution_count": 22,
   "metadata": {},
   "outputs": [
    {
     "data": {
      "text/html": [
       "<div>\n",
       "<style scoped>\n",
       "    .dataframe tbody tr th:only-of-type {\n",
       "        vertical-align: middle;\n",
       "    }\n",
       "\n",
       "    .dataframe tbody tr th {\n",
       "        vertical-align: top;\n",
       "    }\n",
       "\n",
       "    .dataframe thead th {\n",
       "        text-align: right;\n",
       "    }\n",
       "</style>\n",
       "<table border=\"1\" class=\"dataframe\">\n",
       "  <thead>\n",
       "    <tr style=\"text-align: right;\">\n",
       "      <th></th>\n",
       "      <th>Name</th>\n",
       "      <th>Platform</th>\n",
       "      <th>Year</th>\n",
       "      <th>Genre</th>\n",
       "      <th>Publisher</th>\n",
       "      <th>NA</th>\n",
       "      <th>EU</th>\n",
       "      <th>JP</th>\n",
       "      <th>Other</th>\n",
       "      <th>Global</th>\n",
       "      <th>Critic_Score</th>\n",
       "      <th>Critic_Count</th>\n",
       "      <th>User_Score</th>\n",
       "      <th>User_Count</th>\n",
       "      <th>Developer</th>\n",
       "      <th>Rating</th>\n",
       "      <th>Grouped_Platform</th>\n",
       "    </tr>\n",
       "  </thead>\n",
       "  <tbody>\n",
       "    <tr>\n",
       "      <th>1877</th>\n",
       "      <td>NFL 2K1</td>\n",
       "      <td>DC</td>\n",
       "      <td>2000</td>\n",
       "      <td>Sports</td>\n",
       "      <td>Sega</td>\n",
       "      <td>1.02</td>\n",
       "      <td>0.05</td>\n",
       "      <td>0.00</td>\n",
       "      <td>0.02</td>\n",
       "      <td>1.09</td>\n",
       "      <td>97.0</td>\n",
       "      <td>22.0</td>\n",
       "      <td>6.0</td>\n",
       "      <td>47.0</td>\n",
       "      <td>Visual Concepts</td>\n",
       "      <td>E</td>\n",
       "      <td>Other</td>\n",
       "    </tr>\n",
       "    <tr>\n",
       "      <th>3815</th>\n",
       "      <td>Seaman</td>\n",
       "      <td>DC</td>\n",
       "      <td>1999</td>\n",
       "      <td>Simulation</td>\n",
       "      <td>Sega</td>\n",
       "      <td>0.00</td>\n",
       "      <td>0.00</td>\n",
       "      <td>0.52</td>\n",
       "      <td>0.00</td>\n",
       "      <td>0.52</td>\n",
       "      <td>82.0</td>\n",
       "      <td>24.0</td>\n",
       "      <td>8.4</td>\n",
       "      <td>16.0</td>\n",
       "      <td>Vivarium</td>\n",
       "      <td>T</td>\n",
       "      <td>Other</td>\n",
       "    </tr>\n",
       "    <tr>\n",
       "      <th>7231</th>\n",
       "      <td>Capcom vs. SNK</td>\n",
       "      <td>DC</td>\n",
       "      <td>2000</td>\n",
       "      <td>Fighting</td>\n",
       "      <td>Virgin Interactive</td>\n",
       "      <td>0.00</td>\n",
       "      <td>0.00</td>\n",
       "      <td>0.22</td>\n",
       "      <td>0.00</td>\n",
       "      <td>0.22</td>\n",
       "      <td>80.0</td>\n",
       "      <td>17.0</td>\n",
       "      <td>9.0</td>\n",
       "      <td>24.0</td>\n",
       "      <td>Capcom</td>\n",
       "      <td>T</td>\n",
       "      <td>Other</td>\n",
       "    </tr>\n",
       "    <tr>\n",
       "      <th>7521</th>\n",
       "      <td>Phantasy Star Online</td>\n",
       "      <td>DC</td>\n",
       "      <td>2000</td>\n",
       "      <td>Role-Playing</td>\n",
       "      <td>Sega</td>\n",
       "      <td>0.00</td>\n",
       "      <td>0.00</td>\n",
       "      <td>0.20</td>\n",
       "      <td>0.00</td>\n",
       "      <td>0.20</td>\n",
       "      <td>89.0</td>\n",
       "      <td>21.0</td>\n",
       "      <td>9.1</td>\n",
       "      <td>33.0</td>\n",
       "      <td>Sonic Team</td>\n",
       "      <td>T</td>\n",
       "      <td>Other</td>\n",
       "    </tr>\n",
       "    <tr>\n",
       "      <th>7643</th>\n",
       "      <td>Grandia II</td>\n",
       "      <td>DC</td>\n",
       "      <td>2000</td>\n",
       "      <td>Role-Playing</td>\n",
       "      <td>Ubisoft</td>\n",
       "      <td>0.00</td>\n",
       "      <td>0.00</td>\n",
       "      <td>0.20</td>\n",
       "      <td>0.00</td>\n",
       "      <td>0.20</td>\n",
       "      <td>90.0</td>\n",
       "      <td>17.0</td>\n",
       "      <td>8.8</td>\n",
       "      <td>57.0</td>\n",
       "      <td>Game Arts</td>\n",
       "      <td>T</td>\n",
       "      <td>Other</td>\n",
       "    </tr>\n",
       "    <tr>\n",
       "      <th>7978</th>\n",
       "      <td>Phantasy Star Online Ver. 2</td>\n",
       "      <td>DC</td>\n",
       "      <td>2001</td>\n",
       "      <td>Role-Playing</td>\n",
       "      <td>Sega</td>\n",
       "      <td>0.00</td>\n",
       "      <td>0.00</td>\n",
       "      <td>0.19</td>\n",
       "      <td>0.00</td>\n",
       "      <td>0.19</td>\n",
       "      <td>80.0</td>\n",
       "      <td>10.0</td>\n",
       "      <td>8.9</td>\n",
       "      <td>18.0</td>\n",
       "      <td>Sonic Team</td>\n",
       "      <td>T</td>\n",
       "      <td>Other</td>\n",
       "    </tr>\n",
       "    <tr>\n",
       "      <th>9559</th>\n",
       "      <td>Sega GT</td>\n",
       "      <td>DC</td>\n",
       "      <td>2000</td>\n",
       "      <td>Racing</td>\n",
       "      <td>Sega</td>\n",
       "      <td>0.00</td>\n",
       "      <td>0.00</td>\n",
       "      <td>0.13</td>\n",
       "      <td>0.00</td>\n",
       "      <td>0.13</td>\n",
       "      <td>84.0</td>\n",
       "      <td>25.0</td>\n",
       "      <td>7.7</td>\n",
       "      <td>11.0</td>\n",
       "      <td>TOSE</td>\n",
       "      <td>E</td>\n",
       "      <td>Other</td>\n",
       "    </tr>\n",
       "    <tr>\n",
       "      <th>10999</th>\n",
       "      <td>Skies of Arcadia</td>\n",
       "      <td>DC</td>\n",
       "      <td>2000</td>\n",
       "      <td>Role-Playing</td>\n",
       "      <td>Sega</td>\n",
       "      <td>0.00</td>\n",
       "      <td>0.00</td>\n",
       "      <td>0.09</td>\n",
       "      <td>0.00</td>\n",
       "      <td>0.09</td>\n",
       "      <td>93.0</td>\n",
       "      <td>21.0</td>\n",
       "      <td>9.4</td>\n",
       "      <td>98.0</td>\n",
       "      <td>Overworks</td>\n",
       "      <td>T</td>\n",
       "      <td>Other</td>\n",
       "    </tr>\n",
       "    <tr>\n",
       "      <th>12096</th>\n",
       "      <td>Crazy Taxi 2</td>\n",
       "      <td>DC</td>\n",
       "      <td>2001</td>\n",
       "      <td>Racing</td>\n",
       "      <td>Sega</td>\n",
       "      <td>0.00</td>\n",
       "      <td>0.00</td>\n",
       "      <td>0.07</td>\n",
       "      <td>0.00</td>\n",
       "      <td>0.07</td>\n",
       "      <td>82.0</td>\n",
       "      <td>18.0</td>\n",
       "      <td>8.1</td>\n",
       "      <td>29.0</td>\n",
       "      <td>Hitmaker</td>\n",
       "      <td>T</td>\n",
       "      <td>Other</td>\n",
       "    </tr>\n",
       "    <tr>\n",
       "      <th>13110</th>\n",
       "      <td>The Typing of the Dead</td>\n",
       "      <td>DC</td>\n",
       "      <td>2000</td>\n",
       "      <td>Shooter</td>\n",
       "      <td>Sega</td>\n",
       "      <td>0.00</td>\n",
       "      <td>0.00</td>\n",
       "      <td>0.05</td>\n",
       "      <td>0.00</td>\n",
       "      <td>0.05</td>\n",
       "      <td>83.0</td>\n",
       "      <td>12.0</td>\n",
       "      <td>7.8</td>\n",
       "      <td>12.0</td>\n",
       "      <td>Smilebit</td>\n",
       "      <td>M</td>\n",
       "      <td>Other</td>\n",
       "    </tr>\n",
       "  </tbody>\n",
       "</table>\n",
       "</div>"
      ],
      "text/plain": [
       "                              Name Platform  Year         Genre  \\\n",
       "1877                       NFL 2K1       DC  2000        Sports   \n",
       "3815                        Seaman       DC  1999    Simulation   \n",
       "7231                Capcom vs. SNK       DC  2000      Fighting   \n",
       "7521          Phantasy Star Online       DC  2000  Role-Playing   \n",
       "7643                    Grandia II       DC  2000  Role-Playing   \n",
       "7978   Phantasy Star Online Ver. 2       DC  2001  Role-Playing   \n",
       "9559                       Sega GT       DC  2000        Racing   \n",
       "10999             Skies of Arcadia       DC  2000  Role-Playing   \n",
       "12096                 Crazy Taxi 2       DC  2001        Racing   \n",
       "13110       The Typing of the Dead       DC  2000       Shooter   \n",
       "\n",
       "                Publisher    NA    EU    JP  Other  Global  Critic_Score  \\\n",
       "1877                 Sega  1.02  0.05  0.00   0.02    1.09          97.0   \n",
       "3815                 Sega  0.00  0.00  0.52   0.00    0.52          82.0   \n",
       "7231   Virgin Interactive  0.00  0.00  0.22   0.00    0.22          80.0   \n",
       "7521                 Sega  0.00  0.00  0.20   0.00    0.20          89.0   \n",
       "7643              Ubisoft  0.00  0.00  0.20   0.00    0.20          90.0   \n",
       "7978                 Sega  0.00  0.00  0.19   0.00    0.19          80.0   \n",
       "9559                 Sega  0.00  0.00  0.13   0.00    0.13          84.0   \n",
       "10999                Sega  0.00  0.00  0.09   0.00    0.09          93.0   \n",
       "12096                Sega  0.00  0.00  0.07   0.00    0.07          82.0   \n",
       "13110                Sega  0.00  0.00  0.05   0.00    0.05          83.0   \n",
       "\n",
       "       Critic_Count  User_Score  User_Count        Developer Rating  \\\n",
       "1877           22.0         6.0        47.0  Visual Concepts      E   \n",
       "3815           24.0         8.4        16.0         Vivarium      T   \n",
       "7231           17.0         9.0        24.0           Capcom      T   \n",
       "7521           21.0         9.1        33.0       Sonic Team      T   \n",
       "7643           17.0         8.8        57.0        Game Arts      T   \n",
       "7978           10.0         8.9        18.0       Sonic Team      T   \n",
       "9559           25.0         7.7        11.0             TOSE      E   \n",
       "10999          21.0         9.4        98.0        Overworks      T   \n",
       "12096          18.0         8.1        29.0         Hitmaker      T   \n",
       "13110          12.0         7.8        12.0         Smilebit      M   \n",
       "\n",
       "      Grouped_Platform  \n",
       "1877             Other  \n",
       "3815             Other  \n",
       "7231             Other  \n",
       "7521             Other  \n",
       "7643             Other  \n",
       "7978             Other  \n",
       "9559             Other  \n",
       "10999            Other  \n",
       "12096            Other  \n",
       "13110            Other  "
      ]
     },
     "execution_count": 22,
     "metadata": {},
     "output_type": "execute_result"
    }
   ],
   "source": [
    "scored[scored[\"Grouped_Platform\"]==\"Other\"]"
   ]
  },
  {
   "cell_type": "markdown",
   "metadata": {},
   "source": [
    "Next I want to create some new features: weighted score and my own developer rating. First, I find percent of all games created by each developer, then calculate cumulative percent starting with devs with the least number of games. Finally, I divide them into 10 groups (10% each). Higher rank means more games developed. \n",
    "\n",
    "Higher top percentage means more games developed."
   ]
  },
  {
   "cell_type": "code",
   "execution_count": 23,
   "metadata": {},
   "outputs": [
    {
     "name": "stderr",
     "output_type": "stream",
     "text": [
      "/Users/kenmai/opt/anaconda3/lib/python3.8/site-packages/pandas/core/indexing.py:670: SettingWithCopyWarning: \n",
      "A value is trying to be set on a copy of a slice from a DataFrame\n",
      "\n",
      "See the caveats in the documentation: https://pandas.pydata.org/pandas-docs/stable/user_guide/indexing.html#returning-a-view-versus-a-copy\n",
      "  iloc._setitem_with_indexer(indexer, value)\n"
     ]
    },
    {
     "data": {
      "text/html": [
       "<div>\n",
       "<style scoped>\n",
       "    .dataframe tbody tr th:only-of-type {\n",
       "        vertical-align: middle;\n",
       "    }\n",
       "\n",
       "    .dataframe tbody tr th {\n",
       "        vertical-align: top;\n",
       "    }\n",
       "\n",
       "    .dataframe thead th {\n",
       "        text-align: right;\n",
       "    }\n",
       "</style>\n",
       "<table border=\"1\" class=\"dataframe\">\n",
       "  <thead>\n",
       "    <tr style=\"text-align: right;\">\n",
       "      <th></th>\n",
       "      <th>dev</th>\n",
       "      <th>count</th>\n",
       "      <th>mean_score</th>\n",
       "      <th>percent</th>\n",
       "      <th>top%</th>\n",
       "      <th>top_group</th>\n",
       "    </tr>\n",
       "  </thead>\n",
       "  <tbody>\n",
       "    <tr>\n",
       "      <th>1504</th>\n",
       "      <td>Metro3D</td>\n",
       "      <td>1</td>\n",
       "      <td>54.071429</td>\n",
       "      <td>0.000126</td>\n",
       "      <td>0.012579</td>\n",
       "      <td>1.0</td>\n",
       "    </tr>\n",
       "    <tr>\n",
       "      <th>1105</th>\n",
       "      <td>Zushi Games Ltd</td>\n",
       "      <td>1</td>\n",
       "      <td>NaN</td>\n",
       "      <td>0.000126</td>\n",
       "      <td>0.025157</td>\n",
       "      <td>1.0</td>\n",
       "    </tr>\n",
       "    <tr>\n",
       "      <th>1104</th>\n",
       "      <td>Pterodon</td>\n",
       "      <td>1</td>\n",
       "      <td>84.081633</td>\n",
       "      <td>0.000126</td>\n",
       "      <td>0.037736</td>\n",
       "      <td>1.0</td>\n",
       "    </tr>\n",
       "    <tr>\n",
       "      <th>1103</th>\n",
       "      <td>Phenomedia</td>\n",
       "      <td>1</td>\n",
       "      <td>39.000000</td>\n",
       "      <td>0.000126</td>\n",
       "      <td>0.050314</td>\n",
       "      <td>1.0</td>\n",
       "    </tr>\n",
       "    <tr>\n",
       "      <th>1102</th>\n",
       "      <td>Aqua Pacific</td>\n",
       "      <td>1</td>\n",
       "      <td>60.000000</td>\n",
       "      <td>0.000126</td>\n",
       "      <td>0.062893</td>\n",
       "      <td>1.0</td>\n",
       "    </tr>\n",
       "    <tr>\n",
       "      <th>...</th>\n",
       "      <td>...</td>\n",
       "      <td>...</td>\n",
       "      <td>...</td>\n",
       "      <td>...</td>\n",
       "      <td>...</td>\n",
       "      <td>...</td>\n",
       "    </tr>\n",
       "    <tr>\n",
       "      <th>4</th>\n",
       "      <td>Capcom</td>\n",
       "      <td>93</td>\n",
       "      <td>74.056409</td>\n",
       "      <td>0.011698</td>\n",
       "      <td>92.981132</td>\n",
       "      <td>10.0</td>\n",
       "    </tr>\n",
       "    <tr>\n",
       "      <th>3</th>\n",
       "      <td>EA Sports</td>\n",
       "      <td>124</td>\n",
       "      <td>72.301346</td>\n",
       "      <td>0.015597</td>\n",
       "      <td>94.540881</td>\n",
       "      <td>10.0</td>\n",
       "    </tr>\n",
       "    <tr>\n",
       "      <th>2</th>\n",
       "      <td>Konami</td>\n",
       "      <td>127</td>\n",
       "      <td>68.519963</td>\n",
       "      <td>0.015975</td>\n",
       "      <td>96.138365</td>\n",
       "      <td>10.0</td>\n",
       "    </tr>\n",
       "    <tr>\n",
       "      <th>1</th>\n",
       "      <td>EA Canada</td>\n",
       "      <td>134</td>\n",
       "      <td>72.505312</td>\n",
       "      <td>0.016855</td>\n",
       "      <td>97.823899</td>\n",
       "      <td>10.0</td>\n",
       "    </tr>\n",
       "    <tr>\n",
       "      <th>0</th>\n",
       "      <td>Ubisoft</td>\n",
       "      <td>173</td>\n",
       "      <td>65.463246</td>\n",
       "      <td>0.021761</td>\n",
       "      <td>100.000000</td>\n",
       "      <td>10.0</td>\n",
       "    </tr>\n",
       "  </tbody>\n",
       "</table>\n",
       "<p>1505 rows × 6 columns</p>\n",
       "</div>"
      ],
      "text/plain": [
       "                  dev  count  mean_score   percent        top%  top_group\n",
       "1504          Metro3D      1   54.071429  0.000126    0.012579        1.0\n",
       "1105  Zushi Games Ltd      1         NaN  0.000126    0.025157        1.0\n",
       "1104         Pterodon      1   84.081633  0.000126    0.037736        1.0\n",
       "1103       Phenomedia      1   39.000000  0.000126    0.050314        1.0\n",
       "1102     Aqua Pacific      1   60.000000  0.000126    0.062893        1.0\n",
       "...               ...    ...         ...       ...         ...        ...\n",
       "4              Capcom     93   74.056409  0.011698   92.981132       10.0\n",
       "3           EA Sports    124   72.301346  0.015597   94.540881       10.0\n",
       "2              Konami    127   68.519963  0.015975   96.138365       10.0\n",
       "1           EA Canada    134   72.505312  0.016855   97.823899       10.0\n",
       "0             Ubisoft    173   65.463246  0.021761  100.000000       10.0\n",
       "\n",
       "[1505 rows x 6 columns]"
      ]
     },
     "execution_count": 23,
     "metadata": {},
     "output_type": "execute_result"
    }
   ],
   "source": [
    "# One weighted score value including all scores and counts field.\n",
    "scored[\"Weighted_Score\"] = (scored[\"User_Score\"] * 10 * scored[\"User_Count\"] + \n",
    "                            scored[\"Critic_Score\"] * scored[\"Critic_Count\"]) / (scored[\"User_Count\"] + scored[\"Critic_Count\"])\n",
    "\n",
    "# Dataframe having developers arranged based on their frequency \n",
    "devs = pd.DataFrame({\"dev\": scored[\"Developer\"].value_counts().index,\n",
    "                     \"count\": scored[\"Developer\"].value_counts().values})\n",
    "\n",
    "# Mean scoring datafram based on the weighted score\n",
    "m_score = pd.DataFrame({\"dev\": scored.groupby(\"Developer\")[\"Weighted_Score\"].mean().index,\n",
    "                        \"mean_score\": scored.groupby(\"Developer\")[\"Weighted_Score\"].mean().values})\n",
    "\n",
    "# Creating merging the mean_score and developer dataframes and then sorting the resultant into ascending order\n",
    "devs = pd.merge(devs, m_score, on=\"dev\")\n",
    "devs = devs.sort_values(by=\"count\", ascending=True)\n",
    "\n",
    "# Percentage of all games created by each developer and storing it in form of cumulative fashion\n",
    "devs[\"percent\"] = devs[\"count\"] / devs[\"count\"].sum()\n",
    "devs[\"top%\"] = devs[\"percent\"].cumsum() * 100\n",
    "\n",
    "# Dividing them into 10 groups\n",
    "n_groups = 10\n",
    "devs[\"top_group\"] = (devs[\"top%\"] * n_groups) // 100 + 1\n",
    "devs[\"top_group\"].iloc[-1] = n_groups\n",
    "devs"
   ]
  },
  {
   "cell_type": "markdown",
   "metadata": {},
   "source": [
    "We also have to fill in missing values for 'Developer Rank' and 'Rating' with 0."
   ]
  },
  {
   "cell_type": "code",
   "execution_count": 24,
   "metadata": {},
   "outputs": [],
   "source": [
    "data = data.join(devs.set_index(\"dev\")[\"top_group\"], on=\"Developer\")\n",
    "data = data.rename(columns={\"top_group\": \"Developer_Rank\"})\n",
    "data[\"Developer_Rank\"].fillna(0.0, inplace=True)\n",
    "data[\"Rating\"].fillna(\"None\", inplace=True)"
   ]
  },
  {
   "cell_type": "code",
   "execution_count": 25,
   "metadata": {},
   "outputs": [],
   "source": [
    "data[\"Weighted_Score\"] = (data[\"User_Score\"] * 10 * data[\"User_Count\"] + \n",
    "                            data[\"Critic_Score\"] * data[\"Critic_Count\"]) / (data[\"User_Count\"] + data[\"Critic_Count\"])\n",
    "data[\"Weighted_Score\"].fillna(0.0, inplace=True)"
   ]
  },
  {
   "cell_type": "code",
   "execution_count": 26,
   "metadata": {},
   "outputs": [
    {
     "name": "stdout",
     "output_type": "stream",
     "text": [
      "<class 'pandas.core.frame.DataFrame'>\n",
      "Int64Index: 14765 entries, 1220 to 16718\n",
      "Data columns (total 21 columns):\n",
      " #   Column            Non-Null Count  Dtype  \n",
      "---  ------            --------------  -----  \n",
      " 0   Name              14765 non-null  object \n",
      " 1   Platform          14765 non-null  object \n",
      " 2   Year              14765 non-null  int64  \n",
      " 3   Genre             14765 non-null  object \n",
      " 4   Publisher         14734 non-null  object \n",
      " 5   NA                14765 non-null  float64\n",
      " 6   EU                14765 non-null  float64\n",
      " 7   JP                14765 non-null  float64\n",
      " 8   Other             14765 non-null  float64\n",
      " 9   Global            14765 non-null  float64\n",
      " 10  Critic_Score      14765 non-null  float64\n",
      " 11  Critic_Count      14765 non-null  float64\n",
      " 12  User_Score        14765 non-null  float64\n",
      " 13  User_Count        14765 non-null  float64\n",
      " 14  Developer         8585 non-null   object \n",
      " 15  Rating            14765 non-null  object \n",
      " 16  Age               14765 non-null  int64  \n",
      " 17  Has_Score         14765 non-null  bool   \n",
      " 18  Grouped_Platform  14765 non-null  object \n",
      " 19  Developer_Rank    14765 non-null  float64\n",
      " 20  Weighted_Score    14765 non-null  float64\n",
      "dtypes: bool(1), float64(11), int64(2), object(7)\n",
      "memory usage: 3.0+ MB\n"
     ]
    }
   ],
   "source": [
    "data.info()"
   ]
  },
  {
   "cell_type": "code",
   "execution_count": 27,
   "metadata": {},
   "outputs": [],
   "source": [
    "# Select the numeric columns\n",
    "numeric_subset = data.select_dtypes(\"number\").drop(columns=[\"NA\", \"EU\", \"JP\", \"Other\", \"Year\"])\n",
    "\n",
    "# Select the categorical columns\n",
    "categorical_subset = data[[\"Grouped_Platform\", \"Genre\", \"Rating\"]]\n",
    "\n",
    "mapping = []\n",
    "for cat in categorical_subset.columns:\n",
    "    tmp = scored.groupby(cat).median()[\"Weighted_Score\"]\n",
    "    mapping.append({\"col\": cat, \"mapping\": [x for x in np.argsort(tmp).items()]})\n",
    "    \n",
    "encoder = ce.ordinal.OrdinalEncoder()\n",
    "categorical_subset = encoder.fit_transform(categorical_subset, mapping=mapping)\n",
    "\n",
    "# Join the two dataframes using concat. Axis = 1 -> Column bind\n",
    "data = pd.concat([numeric_subset, categorical_subset], axis = 1)\n",
    "\n",
    "# Find correlations with the score \n",
    "correlations = data.corr()[\"Global\"].dropna().sort_values()"
   ]
  },
  {
   "cell_type": "code",
   "execution_count": 28,
   "metadata": {},
   "outputs": [
    {
     "data": {
      "text/html": [
       "<div>\n",
       "<style scoped>\n",
       "    .dataframe tbody tr th:only-of-type {\n",
       "        vertical-align: middle;\n",
       "    }\n",
       "\n",
       "    .dataframe tbody tr th {\n",
       "        vertical-align: top;\n",
       "    }\n",
       "\n",
       "    .dataframe thead th {\n",
       "        text-align: right;\n",
       "    }\n",
       "</style>\n",
       "<table border=\"1\" class=\"dataframe\">\n",
       "  <thead>\n",
       "    <tr style=\"text-align: right;\">\n",
       "      <th></th>\n",
       "      <th>Global</th>\n",
       "      <th>Critic_Score</th>\n",
       "      <th>Critic_Count</th>\n",
       "      <th>User_Score</th>\n",
       "      <th>User_Count</th>\n",
       "      <th>Age</th>\n",
       "      <th>Developer_Rank</th>\n",
       "      <th>Weighted_Score</th>\n",
       "      <th>Grouped_Platform</th>\n",
       "      <th>Genre</th>\n",
       "      <th>Rating</th>\n",
       "    </tr>\n",
       "  </thead>\n",
       "  <tbody>\n",
       "    <tr>\n",
       "      <th>1220</th>\n",
       "      <td>1.53</td>\n",
       "      <td>64.0</td>\n",
       "      <td>28.0</td>\n",
       "      <td>7.8</td>\n",
       "      <td>13.0</td>\n",
       "      <td>7</td>\n",
       "      <td>5.0</td>\n",
       "      <td>68.439024</td>\n",
       "      <td>1</td>\n",
       "      <td>1</td>\n",
       "      <td>1</td>\n",
       "    </tr>\n",
       "    <tr>\n",
       "      <th>1221</th>\n",
       "      <td>1.53</td>\n",
       "      <td>82.0</td>\n",
       "      <td>37.0</td>\n",
       "      <td>6.7</td>\n",
       "      <td>146.0</td>\n",
       "      <td>6</td>\n",
       "      <td>10.0</td>\n",
       "      <td>70.032787</td>\n",
       "      <td>2</td>\n",
       "      <td>2</td>\n",
       "      <td>2</td>\n",
       "    </tr>\n",
       "    <tr>\n",
       "      <th>1222</th>\n",
       "      <td>1.53</td>\n",
       "      <td>0.0</td>\n",
       "      <td>0.0</td>\n",
       "      <td>0.0</td>\n",
       "      <td>0.0</td>\n",
       "      <td>24</td>\n",
       "      <td>0.0</td>\n",
       "      <td>0.000000</td>\n",
       "      <td>3</td>\n",
       "      <td>3</td>\n",
       "      <td>3</td>\n",
       "    </tr>\n",
       "    <tr>\n",
       "      <th>1223</th>\n",
       "      <td>1.53</td>\n",
       "      <td>0.0</td>\n",
       "      <td>0.0</td>\n",
       "      <td>0.0</td>\n",
       "      <td>0.0</td>\n",
       "      <td>20</td>\n",
       "      <td>0.0</td>\n",
       "      <td>0.000000</td>\n",
       "      <td>2</td>\n",
       "      <td>2</td>\n",
       "      <td>3</td>\n",
       "    </tr>\n",
       "    <tr>\n",
       "      <th>1225</th>\n",
       "      <td>1.53</td>\n",
       "      <td>81.0</td>\n",
       "      <td>49.0</td>\n",
       "      <td>8.0</td>\n",
       "      <td>56.0</td>\n",
       "      <td>15</td>\n",
       "      <td>4.0</td>\n",
       "      <td>80.466667</td>\n",
       "      <td>4</td>\n",
       "      <td>2</td>\n",
       "      <td>2</td>\n",
       "    </tr>\n",
       "    <tr>\n",
       "      <th>...</th>\n",
       "      <td>...</td>\n",
       "      <td>...</td>\n",
       "      <td>...</td>\n",
       "      <td>...</td>\n",
       "      <td>...</td>\n",
       "      <td>...</td>\n",
       "      <td>...</td>\n",
       "      <td>...</td>\n",
       "      <td>...</td>\n",
       "      <td>...</td>\n",
       "      <td>...</td>\n",
       "    </tr>\n",
       "    <tr>\n",
       "      <th>16714</th>\n",
       "      <td>0.01</td>\n",
       "      <td>0.0</td>\n",
       "      <td>0.0</td>\n",
       "      <td>0.0</td>\n",
       "      <td>0.0</td>\n",
       "      <td>2</td>\n",
       "      <td>0.0</td>\n",
       "      <td>0.000000</td>\n",
       "      <td>2</td>\n",
       "      <td>4</td>\n",
       "      <td>3</td>\n",
       "    </tr>\n",
       "    <tr>\n",
       "      <th>16715</th>\n",
       "      <td>0.01</td>\n",
       "      <td>0.0</td>\n",
       "      <td>0.0</td>\n",
       "      <td>0.0</td>\n",
       "      <td>0.0</td>\n",
       "      <td>12</td>\n",
       "      <td>0.0</td>\n",
       "      <td>0.000000</td>\n",
       "      <td>6</td>\n",
       "      <td>2</td>\n",
       "      <td>3</td>\n",
       "    </tr>\n",
       "    <tr>\n",
       "      <th>16716</th>\n",
       "      <td>0.01</td>\n",
       "      <td>0.0</td>\n",
       "      <td>0.0</td>\n",
       "      <td>0.0</td>\n",
       "      <td>0.0</td>\n",
       "      <td>2</td>\n",
       "      <td>0.0</td>\n",
       "      <td>0.000000</td>\n",
       "      <td>4</td>\n",
       "      <td>9</td>\n",
       "      <td>3</td>\n",
       "    </tr>\n",
       "    <tr>\n",
       "      <th>16717</th>\n",
       "      <td>0.01</td>\n",
       "      <td>0.0</td>\n",
       "      <td>0.0</td>\n",
       "      <td>0.0</td>\n",
       "      <td>0.0</td>\n",
       "      <td>15</td>\n",
       "      <td>0.0</td>\n",
       "      <td>0.000000</td>\n",
       "      <td>4</td>\n",
       "      <td>11</td>\n",
       "      <td>3</td>\n",
       "    </tr>\n",
       "    <tr>\n",
       "      <th>16718</th>\n",
       "      <td>0.01</td>\n",
       "      <td>0.0</td>\n",
       "      <td>0.0</td>\n",
       "      <td>0.0</td>\n",
       "      <td>0.0</td>\n",
       "      <td>2</td>\n",
       "      <td>0.0</td>\n",
       "      <td>0.000000</td>\n",
       "      <td>4</td>\n",
       "      <td>10</td>\n",
       "      <td>3</td>\n",
       "    </tr>\n",
       "  </tbody>\n",
       "</table>\n",
       "<p>14765 rows × 11 columns</p>\n",
       "</div>"
      ],
      "text/plain": [
       "       Global  Critic_Score  Critic_Count  User_Score  User_Count  Age  \\\n",
       "1220     1.53          64.0          28.0         7.8        13.0    7   \n",
       "1221     1.53          82.0          37.0         6.7       146.0    6   \n",
       "1222     1.53           0.0           0.0         0.0         0.0   24   \n",
       "1223     1.53           0.0           0.0         0.0         0.0   20   \n",
       "1225     1.53          81.0          49.0         8.0        56.0   15   \n",
       "...       ...           ...           ...         ...         ...  ...   \n",
       "16714    0.01           0.0           0.0         0.0         0.0    2   \n",
       "16715    0.01           0.0           0.0         0.0         0.0   12   \n",
       "16716    0.01           0.0           0.0         0.0         0.0    2   \n",
       "16717    0.01           0.0           0.0         0.0         0.0   15   \n",
       "16718    0.01           0.0           0.0         0.0         0.0    2   \n",
       "\n",
       "       Developer_Rank  Weighted_Score  Grouped_Platform  Genre  Rating  \n",
       "1220              5.0       68.439024                 1      1       1  \n",
       "1221             10.0       70.032787                 2      2       2  \n",
       "1222              0.0        0.000000                 3      3       3  \n",
       "1223              0.0        0.000000                 2      2       3  \n",
       "1225              4.0       80.466667                 4      2       2  \n",
       "...               ...             ...               ...    ...     ...  \n",
       "16714             0.0        0.000000                 2      4       3  \n",
       "16715             0.0        0.000000                 6      2       3  \n",
       "16716             0.0        0.000000                 4      9       3  \n",
       "16717             0.0        0.000000                 4     11       3  \n",
       "16718             0.0        0.000000                 4     10       3  \n",
       "\n",
       "[14765 rows x 11 columns]"
      ]
     },
     "execution_count": 28,
     "metadata": {},
     "output_type": "execute_result"
    }
   ],
   "source": [
    "data"
   ]
  },
  {
   "cell_type": "code",
   "execution_count": 29,
   "metadata": {},
   "outputs": [
    {
     "data": {
      "text/plain": [
       "Grouped_Platform   -0.104512\n",
       "Genre              -0.074722\n",
       "Rating              0.012593\n",
       "Developer_Rank      0.173932\n",
       "Age                 0.179655\n",
       "Weighted_Score      0.212958\n",
       "Critic_Score        0.219344\n",
       "User_Score          0.235349\n",
       "User_Count          0.252620\n",
       "Critic_Count        0.288875\n",
       "Global              1.000000\n",
       "Name: Global, dtype: float64"
      ]
     },
     "execution_count": 29,
     "metadata": {},
     "output_type": "execute_result"
    }
   ],
   "source": [
    "correlations"
   ]
  },
  {
   "cell_type": "markdown",
   "metadata": {},
   "source": [
    "Observation:"
   ]
  },
  {
   "cell_type": "markdown",
   "metadata": {},
   "source": [
    "## Train-Test Spliting and Feature Scaling:"
   ]
  },
  {
   "cell_type": "code",
   "execution_count": 30,
   "metadata": {},
   "outputs": [],
   "source": [
    "from sklearn.model_selection import train_test_split\n",
    "target = pd.Series(data[\"Global\"])\n",
    "features = data.drop(columns=\"Global\",axis = 1)\n",
    "features_train, features_test, target_train, target_test = train_test_split(features, target, \n",
    "                                                                            test_size=0.4,\n",
    "                                                                            stratify=data['Global'],\n",
    "                                                                            random_state=88)"
   ]
  },
  {
   "cell_type": "code",
   "execution_count": 31,
   "metadata": {},
   "outputs": [
    {
     "data": {
      "text/html": [
       "<div>\n",
       "<style scoped>\n",
       "    .dataframe tbody tr th:only-of-type {\n",
       "        vertical-align: middle;\n",
       "    }\n",
       "\n",
       "    .dataframe tbody tr th {\n",
       "        vertical-align: top;\n",
       "    }\n",
       "\n",
       "    .dataframe thead th {\n",
       "        text-align: right;\n",
       "    }\n",
       "</style>\n",
       "<table border=\"1\" class=\"dataframe\">\n",
       "  <thead>\n",
       "    <tr style=\"text-align: right;\">\n",
       "      <th></th>\n",
       "      <th>Critic_Score</th>\n",
       "      <th>Critic_Count</th>\n",
       "      <th>User_Score</th>\n",
       "      <th>User_Count</th>\n",
       "      <th>Age</th>\n",
       "      <th>Developer_Rank</th>\n",
       "      <th>Weighted_Score</th>\n",
       "      <th>Grouped_Platform</th>\n",
       "      <th>Genre</th>\n",
       "      <th>Rating</th>\n",
       "    </tr>\n",
       "  </thead>\n",
       "  <tbody>\n",
       "    <tr>\n",
       "      <th>4349</th>\n",
       "      <td>56.0</td>\n",
       "      <td>48.0</td>\n",
       "      <td>6.9</td>\n",
       "      <td>47.0</td>\n",
       "      <td>13</td>\n",
       "      <td>2.0</td>\n",
       "      <td>62.431579</td>\n",
       "      <td>6</td>\n",
       "      <td>3</td>\n",
       "      <td>5</td>\n",
       "    </tr>\n",
       "    <tr>\n",
       "      <th>9466</th>\n",
       "      <td>0.0</td>\n",
       "      <td>0.0</td>\n",
       "      <td>7.2</td>\n",
       "      <td>19.0</td>\n",
       "      <td>2</td>\n",
       "      <td>10.0</td>\n",
       "      <td>72.000000</td>\n",
       "      <td>2</td>\n",
       "      <td>2</td>\n",
       "      <td>2</td>\n",
       "    </tr>\n",
       "    <tr>\n",
       "      <th>6371</th>\n",
       "      <td>0.0</td>\n",
       "      <td>0.0</td>\n",
       "      <td>0.0</td>\n",
       "      <td>0.0</td>\n",
       "      <td>19</td>\n",
       "      <td>0.0</td>\n",
       "      <td>0.000000</td>\n",
       "      <td>2</td>\n",
       "      <td>7</td>\n",
       "      <td>3</td>\n",
       "    </tr>\n",
       "    <tr>\n",
       "      <th>16682</th>\n",
       "      <td>0.0</td>\n",
       "      <td>0.0</td>\n",
       "      <td>0.0</td>\n",
       "      <td>0.0</td>\n",
       "      <td>6</td>\n",
       "      <td>2.0</td>\n",
       "      <td>0.000000</td>\n",
       "      <td>5</td>\n",
       "      <td>12</td>\n",
       "      <td>5</td>\n",
       "    </tr>\n",
       "    <tr>\n",
       "      <th>2074</th>\n",
       "      <td>87.0</td>\n",
       "      <td>43.0</td>\n",
       "      <td>8.4</td>\n",
       "      <td>238.0</td>\n",
       "      <td>7</td>\n",
       "      <td>1.0</td>\n",
       "      <td>84.459075</td>\n",
       "      <td>2</td>\n",
       "      <td>11</td>\n",
       "      <td>1</td>\n",
       "    </tr>\n",
       "    <tr>\n",
       "      <th>...</th>\n",
       "      <td>...</td>\n",
       "      <td>...</td>\n",
       "      <td>...</td>\n",
       "      <td>...</td>\n",
       "      <td>...</td>\n",
       "      <td>...</td>\n",
       "      <td>...</td>\n",
       "      <td>...</td>\n",
       "      <td>...</td>\n",
       "      <td>...</td>\n",
       "    </tr>\n",
       "    <tr>\n",
       "      <th>8825</th>\n",
       "      <td>62.0</td>\n",
       "      <td>39.0</td>\n",
       "      <td>6.0</td>\n",
       "      <td>34.0</td>\n",
       "      <td>13</td>\n",
       "      <td>10.0</td>\n",
       "      <td>61.068493</td>\n",
       "      <td>6</td>\n",
       "      <td>2</td>\n",
       "      <td>2</td>\n",
       "    </tr>\n",
       "    <tr>\n",
       "      <th>8082</th>\n",
       "      <td>0.0</td>\n",
       "      <td>0.0</td>\n",
       "      <td>0.0</td>\n",
       "      <td>0.0</td>\n",
       "      <td>22</td>\n",
       "      <td>0.0</td>\n",
       "      <td>0.000000</td>\n",
       "      <td>2</td>\n",
       "      <td>1</td>\n",
       "      <td>3</td>\n",
       "    </tr>\n",
       "    <tr>\n",
       "      <th>2511</th>\n",
       "      <td>0.0</td>\n",
       "      <td>0.0</td>\n",
       "      <td>0.0</td>\n",
       "      <td>0.0</td>\n",
       "      <td>34</td>\n",
       "      <td>0.0</td>\n",
       "      <td>0.000000</td>\n",
       "      <td>3</td>\n",
       "      <td>8</td>\n",
       "      <td>3</td>\n",
       "    </tr>\n",
       "    <tr>\n",
       "      <th>15817</th>\n",
       "      <td>0.0</td>\n",
       "      <td>0.0</td>\n",
       "      <td>0.0</td>\n",
       "      <td>0.0</td>\n",
       "      <td>12</td>\n",
       "      <td>6.0</td>\n",
       "      <td>0.000000</td>\n",
       "      <td>2</td>\n",
       "      <td>1</td>\n",
       "      <td>2</td>\n",
       "    </tr>\n",
       "    <tr>\n",
       "      <th>3460</th>\n",
       "      <td>77.0</td>\n",
       "      <td>23.0</td>\n",
       "      <td>6.8</td>\n",
       "      <td>13.0</td>\n",
       "      <td>18</td>\n",
       "      <td>2.0</td>\n",
       "      <td>73.750000</td>\n",
       "      <td>2</td>\n",
       "      <td>6</td>\n",
       "      <td>4</td>\n",
       "    </tr>\n",
       "  </tbody>\n",
       "</table>\n",
       "<p>8859 rows × 10 columns</p>\n",
       "</div>"
      ],
      "text/plain": [
       "       Critic_Score  Critic_Count  User_Score  User_Count  Age  \\\n",
       "4349           56.0          48.0         6.9        47.0   13   \n",
       "9466            0.0           0.0         7.2        19.0    2   \n",
       "6371            0.0           0.0         0.0         0.0   19   \n",
       "16682           0.0           0.0         0.0         0.0    6   \n",
       "2074           87.0          43.0         8.4       238.0    7   \n",
       "...             ...           ...         ...         ...  ...   \n",
       "8825           62.0          39.0         6.0        34.0   13   \n",
       "8082            0.0           0.0         0.0         0.0   22   \n",
       "2511            0.0           0.0         0.0         0.0   34   \n",
       "15817           0.0           0.0         0.0         0.0   12   \n",
       "3460           77.0          23.0         6.8        13.0   18   \n",
       "\n",
       "       Developer_Rank  Weighted_Score  Grouped_Platform  Genre  Rating  \n",
       "4349              2.0       62.431579                 6      3       5  \n",
       "9466             10.0       72.000000                 2      2       2  \n",
       "6371              0.0        0.000000                 2      7       3  \n",
       "16682             2.0        0.000000                 5     12       5  \n",
       "2074              1.0       84.459075                 2     11       1  \n",
       "...               ...             ...               ...    ...     ...  \n",
       "8825             10.0       61.068493                 6      2       2  \n",
       "8082              0.0        0.000000                 2      1       3  \n",
       "2511              0.0        0.000000                 3      8       3  \n",
       "15817             6.0        0.000000                 2      1       2  \n",
       "3460              2.0       73.750000                 2      6       4  \n",
       "\n",
       "[8859 rows x 10 columns]"
      ]
     },
     "execution_count": 31,
     "metadata": {},
     "output_type": "execute_result"
    }
   ],
   "source": [
    "features_train"
   ]
  },
  {
   "cell_type": "code",
   "execution_count": 127,
   "metadata": {},
   "outputs": [
    {
     "data": {
      "text/plain": [
       "(8859, 10)"
      ]
     },
     "execution_count": 127,
     "metadata": {},
     "output_type": "execute_result"
    }
   ],
   "source": [
    "features_train.shape"
   ]
  },
  {
   "cell_type": "code",
   "execution_count": 32,
   "metadata": {},
   "outputs": [
    {
     "data": {
      "text/html": [
       "<div>\n",
       "<style scoped>\n",
       "    .dataframe tbody tr th:only-of-type {\n",
       "        vertical-align: middle;\n",
       "    }\n",
       "\n",
       "    .dataframe tbody tr th {\n",
       "        vertical-align: top;\n",
       "    }\n",
       "\n",
       "    .dataframe thead th {\n",
       "        text-align: right;\n",
       "    }\n",
       "</style>\n",
       "<table border=\"1\" class=\"dataframe\">\n",
       "  <thead>\n",
       "    <tr style=\"text-align: right;\">\n",
       "      <th></th>\n",
       "      <th>Critic_Score</th>\n",
       "      <th>Critic_Count</th>\n",
       "      <th>User_Score</th>\n",
       "      <th>User_Count</th>\n",
       "      <th>Age</th>\n",
       "      <th>Developer_Rank</th>\n",
       "      <th>Weighted_Score</th>\n",
       "      <th>Grouped_Platform</th>\n",
       "      <th>Genre</th>\n",
       "      <th>Rating</th>\n",
       "    </tr>\n",
       "  </thead>\n",
       "  <tbody>\n",
       "    <tr>\n",
       "      <th>9703</th>\n",
       "      <td>0.0</td>\n",
       "      <td>0.0</td>\n",
       "      <td>0.0</td>\n",
       "      <td>0.0</td>\n",
       "      <td>12</td>\n",
       "      <td>0.0</td>\n",
       "      <td>0.000000</td>\n",
       "      <td>2</td>\n",
       "      <td>7</td>\n",
       "      <td>3</td>\n",
       "    </tr>\n",
       "    <tr>\n",
       "      <th>8855</th>\n",
       "      <td>0.0</td>\n",
       "      <td>0.0</td>\n",
       "      <td>0.0</td>\n",
       "      <td>0.0</td>\n",
       "      <td>10</td>\n",
       "      <td>0.0</td>\n",
       "      <td>0.000000</td>\n",
       "      <td>1</td>\n",
       "      <td>8</td>\n",
       "      <td>3</td>\n",
       "    </tr>\n",
       "    <tr>\n",
       "      <th>4292</th>\n",
       "      <td>0.0</td>\n",
       "      <td>0.0</td>\n",
       "      <td>0.0</td>\n",
       "      <td>0.0</td>\n",
       "      <td>10</td>\n",
       "      <td>5.0</td>\n",
       "      <td>0.000000</td>\n",
       "      <td>4</td>\n",
       "      <td>9</td>\n",
       "      <td>2</td>\n",
       "    </tr>\n",
       "    <tr>\n",
       "      <th>15958</th>\n",
       "      <td>0.0</td>\n",
       "      <td>0.0</td>\n",
       "      <td>0.0</td>\n",
       "      <td>0.0</td>\n",
       "      <td>11</td>\n",
       "      <td>0.0</td>\n",
       "      <td>0.000000</td>\n",
       "      <td>4</td>\n",
       "      <td>12</td>\n",
       "      <td>3</td>\n",
       "    </tr>\n",
       "    <tr>\n",
       "      <th>1836</th>\n",
       "      <td>74.0</td>\n",
       "      <td>38.0</td>\n",
       "      <td>7.6</td>\n",
       "      <td>51.0</td>\n",
       "      <td>15</td>\n",
       "      <td>2.0</td>\n",
       "      <td>75.146067</td>\n",
       "      <td>6</td>\n",
       "      <td>6</td>\n",
       "      <td>4</td>\n",
       "    </tr>\n",
       "    <tr>\n",
       "      <th>...</th>\n",
       "      <td>...</td>\n",
       "      <td>...</td>\n",
       "      <td>...</td>\n",
       "      <td>...</td>\n",
       "      <td>...</td>\n",
       "      <td>...</td>\n",
       "      <td>...</td>\n",
       "      <td>...</td>\n",
       "      <td>...</td>\n",
       "      <td>...</td>\n",
       "    </tr>\n",
       "    <tr>\n",
       "      <th>4997</th>\n",
       "      <td>60.0</td>\n",
       "      <td>7.0</td>\n",
       "      <td>5.1</td>\n",
       "      <td>7.0</td>\n",
       "      <td>13</td>\n",
       "      <td>8.0</td>\n",
       "      <td>55.500000</td>\n",
       "      <td>2</td>\n",
       "      <td>1</td>\n",
       "      <td>2</td>\n",
       "    </tr>\n",
       "    <tr>\n",
       "      <th>15284</th>\n",
       "      <td>0.0</td>\n",
       "      <td>0.0</td>\n",
       "      <td>0.0</td>\n",
       "      <td>0.0</td>\n",
       "      <td>16</td>\n",
       "      <td>0.0</td>\n",
       "      <td>0.000000</td>\n",
       "      <td>2</td>\n",
       "      <td>9</td>\n",
       "      <td>3</td>\n",
       "    </tr>\n",
       "    <tr>\n",
       "      <th>14787</th>\n",
       "      <td>78.0</td>\n",
       "      <td>33.0</td>\n",
       "      <td>7.8</td>\n",
       "      <td>13.0</td>\n",
       "      <td>15</td>\n",
       "      <td>3.0</td>\n",
       "      <td>78.000000</td>\n",
       "      <td>4</td>\n",
       "      <td>6</td>\n",
       "      <td>4</td>\n",
       "    </tr>\n",
       "    <tr>\n",
       "      <th>16574</th>\n",
       "      <td>0.0</td>\n",
       "      <td>0.0</td>\n",
       "      <td>0.0</td>\n",
       "      <td>0.0</td>\n",
       "      <td>5</td>\n",
       "      <td>0.0</td>\n",
       "      <td>0.000000</td>\n",
       "      <td>4</td>\n",
       "      <td>7</td>\n",
       "      <td>3</td>\n",
       "    </tr>\n",
       "    <tr>\n",
       "      <th>4511</th>\n",
       "      <td>68.0</td>\n",
       "      <td>27.0</td>\n",
       "      <td>8.8</td>\n",
       "      <td>16.0</td>\n",
       "      <td>15</td>\n",
       "      <td>9.0</td>\n",
       "      <td>75.441860</td>\n",
       "      <td>2</td>\n",
       "      <td>4</td>\n",
       "      <td>4</td>\n",
       "    </tr>\n",
       "  </tbody>\n",
       "</table>\n",
       "<p>5906 rows × 10 columns</p>\n",
       "</div>"
      ],
      "text/plain": [
       "       Critic_Score  Critic_Count  User_Score  User_Count  Age  \\\n",
       "9703            0.0           0.0         0.0         0.0   12   \n",
       "8855            0.0           0.0         0.0         0.0   10   \n",
       "4292            0.0           0.0         0.0         0.0   10   \n",
       "15958           0.0           0.0         0.0         0.0   11   \n",
       "1836           74.0          38.0         7.6        51.0   15   \n",
       "...             ...           ...         ...         ...  ...   \n",
       "4997           60.0           7.0         5.1         7.0   13   \n",
       "15284           0.0           0.0         0.0         0.0   16   \n",
       "14787          78.0          33.0         7.8        13.0   15   \n",
       "16574           0.0           0.0         0.0         0.0    5   \n",
       "4511           68.0          27.0         8.8        16.0   15   \n",
       "\n",
       "       Developer_Rank  Weighted_Score  Grouped_Platform  Genre  Rating  \n",
       "9703              0.0        0.000000                 2      7       3  \n",
       "8855              0.0        0.000000                 1      8       3  \n",
       "4292              5.0        0.000000                 4      9       2  \n",
       "15958             0.0        0.000000                 4     12       3  \n",
       "1836              2.0       75.146067                 6      6       4  \n",
       "...               ...             ...               ...    ...     ...  \n",
       "4997              8.0       55.500000                 2      1       2  \n",
       "15284             0.0        0.000000                 2      9       3  \n",
       "14787             3.0       78.000000                 4      6       4  \n",
       "16574             0.0        0.000000                 4      7       3  \n",
       "4511              9.0       75.441860                 2      4       4  \n",
       "\n",
       "[5906 rows x 10 columns]"
      ]
     },
     "execution_count": 32,
     "metadata": {},
     "output_type": "execute_result"
    }
   ],
   "source": [
    "features_test"
   ]
  },
  {
   "cell_type": "code",
   "execution_count": 128,
   "metadata": {},
   "outputs": [
    {
     "data": {
      "text/plain": [
       "(5906, 10)"
      ]
     },
     "execution_count": 128,
     "metadata": {},
     "output_type": "execute_result"
    }
   ],
   "source": [
    "features_test.shape"
   ]
  },
  {
   "cell_type": "code",
   "execution_count": 129,
   "metadata": {},
   "outputs": [
    {
     "data": {
      "text/plain": [
       "(8859,)"
      ]
     },
     "execution_count": 129,
     "metadata": {},
     "output_type": "execute_result"
    }
   ],
   "source": [
    "target_train.shape"
   ]
  },
  {
   "cell_type": "code",
   "execution_count": 130,
   "metadata": {},
   "outputs": [
    {
     "data": {
      "text/plain": [
       "(5906,)"
      ]
     },
     "execution_count": 130,
     "metadata": {},
     "output_type": "execute_result"
    }
   ],
   "source": [
    "target_test.shape"
   ]
  },
  {
   "cell_type": "markdown",
   "metadata": {},
   "source": [
    "### Feature Scaling"
   ]
  },
  {
   "cell_type": "markdown",
   "metadata": {},
   "source": [
    "We would apply feature scaling to our dataset for model building except for linear models."
   ]
  },
  {
   "cell_type": "code",
   "execution_count": 33,
   "metadata": {},
   "outputs": [],
   "source": [
    "from sklearn.preprocessing import StandardScaler\n",
    "scaler = StandardScaler()\n",
    "features_train_scaled = scaler.fit_transform(features_train)\n",
    "features_test_scaled = scaler.fit_transform(features_test)"
   ]
  },
  {
   "cell_type": "code",
   "execution_count": 34,
   "metadata": {},
   "outputs": [
    {
     "data": {
      "text/plain": [
       "array([[ 7.56168380e-01,  2.43051543e+00,  1.10908635e+00, ...,\n",
       "         1.73167485e+00, -7.33782629e-01,  1.72546482e+00],\n",
       "       [-8.73322615e-01, -6.63848241e-01,  1.19241716e+00, ...,\n",
       "        -9.28675015e-01, -1.04158983e+00, -8.62878495e-01],\n",
       "       [-8.73322615e-01, -6.63848241e-01, -8.07522098e-01, ...,\n",
       "        -9.28675015e-01,  4.97446181e-01, -9.73903493e-05],\n",
       "       ...,\n",
       "       [-8.73322615e-01, -6.63848241e-01, -8.07522098e-01, ...,\n",
       "        -2.63587549e-01,  8.05253384e-01, -9.73903493e-05],\n",
       "       [-8.73322615e-01, -6.63848241e-01, -8.07522098e-01, ...,\n",
       "        -9.28675015e-01, -1.34939703e+00, -8.62878495e-01],\n",
       "       [ 1.36722750e+00,  8.18867687e-01,  1.08130942e+00, ...,\n",
       "        -9.28675015e-01,  1.89638979e-01,  8.62683714e-01]])"
      ]
     },
     "execution_count": 34,
     "metadata": {},
     "output_type": "execute_result"
    }
   ],
   "source": [
    "features_train_scaled"
   ]
  },
  {
   "cell_type": "code",
   "execution_count": 35,
   "metadata": {},
   "outputs": [
    {
     "data": {
      "text/plain": [
       "array([[-0.89110442, -0.67464718, -0.82634671, ..., -0.90393327,\n",
       "         0.49782551, -0.01618957],\n",
       "       [-0.89110442, -0.67464718, -0.82634671, ..., -1.56563752,\n",
       "         0.80425151, -0.01618957],\n",
       "       [-0.89110442, -0.67464718, -0.82634671, ...,  0.41947523,\n",
       "         1.1106775 , -0.86234537],\n",
       "       ...,\n",
       "       [ 1.36952564,  1.43967185,  1.32153648, ...,  0.41947523,\n",
       "         0.19139951,  0.82996623],\n",
       "       [-0.89110442, -0.67464718, -0.82634671, ...,  0.41947523,\n",
       "         0.49782551, -0.01618957],\n",
       "       [ 1.07970128,  1.05525021,  1.59690613, ..., -0.90393327,\n",
       "        -0.42145249,  0.82996623]])"
      ]
     },
     "execution_count": 35,
     "metadata": {},
     "output_type": "execute_result"
    }
   ],
   "source": [
    "features_test_scaled"
   ]
  },
  {
   "cell_type": "markdown",
   "metadata": {},
   "source": [
    "# Model Fitting and Evaluation:"
   ]
  },
  {
   "cell_type": "markdown",
   "metadata": {},
   "source": [
    "Evaluation Metrics:"
   ]
  },
  {
   "cell_type": "code",
   "execution_count": 36,
   "metadata": {},
   "outputs": [],
   "source": [
    "def OSR2(y_pred, y_test, y_train):   \n",
    "    SSE = np.sum((y_test - y_pred)**2)\n",
    "    SST = np.sum((y_test - np.mean(y_train))**2)    \n",
    "    return 1 - SSE/SST\n",
    "\n",
    "\n",
    "\n",
    "# we add y_train here so that our bootstrap function is more general\n",
    "def MAE(y_pred, y_test, y_train=None):   \n",
    "    MAE = np.sum(abs(y_test - y_pred))/len(y_test)\n",
    "    return MAE"
   ]
  },
  {
   "cell_type": "code",
   "execution_count": 37,
   "metadata": {},
   "outputs": [],
   "source": [
    "def OSR2_Model(model, X_test, y_test, y_train):\n",
    "    \n",
    "    y_pred = model.predict(X_test)\n",
    "    SSE = np.sum((y_test - y_pred)**2)\n",
    "    SST = np.sum((y_test - np.mean(y_train))**2)\n",
    "                 \n",
    "    return (1 - SSE/SST)\n",
    "def MAE_Model(model, X_test, y_test, y_train=None): \n",
    "    y_pred = model.predict(X_test)\n",
    "    MAE = np.sum(abs(y_test - y_pred))/len(y_test)\n",
    "    return MAE"
   ]
  },
  {
   "cell_type": "markdown",
   "metadata": {},
   "source": [
    "## Ordinary Least Squares(i.e multiple linear regression)"
   ]
  },
  {
   "cell_type": "code",
   "execution_count": 238,
   "metadata": {},
   "outputs": [],
   "source": [
    "X_train, X_test, y_train, y_test = features_train, features_test,target_train, target_test"
   ]
  },
  {
   "cell_type": "code",
   "execution_count": 239,
   "metadata": {},
   "outputs": [],
   "source": [
    "import statsmodels.api as sm"
   ]
  },
  {
   "cell_type": "code",
   "execution_count": 240,
   "metadata": {},
   "outputs": [
    {
     "name": "stdout",
     "output_type": "stream",
     "text": [
      "                            OLS Regression Results                            \n",
      "==============================================================================\n",
      "Dep. Variable:                 Global   R-squared:                       0.187\n",
      "Model:                            OLS   Adj. R-squared:                  0.186\n",
      "Method:                 Least Squares   F-statistic:                     203.1\n",
      "Date:                Sun, 27 Nov 2022   Prob (F-statistic):               0.00\n",
      "Time:                        16:08:29   Log-Likelihood:                -1324.1\n",
      "No. Observations:                8859   AIC:                             2670.\n",
      "Df Residuals:                    8848   BIC:                             2748.\n",
      "Df Model:                          10                                         \n",
      "Covariance Type:            nonrobust                                         \n",
      "====================================================================================\n",
      "                       coef    std err          t      P>|t|      [0.025      0.975]\n",
      "------------------------------------------------------------------------------------\n",
      "const                0.2082      0.014     14.779      0.000       0.181       0.236\n",
      "Critic_Score        -0.0008      0.000     -3.069      0.002      -0.001      -0.000\n",
      "Critic_Count         0.0048      0.000     13.732      0.000       0.004       0.006\n",
      "User_Score           0.0122      0.002      6.245      0.000       0.008       0.016\n",
      "User_Count           0.0014      0.000     14.385      0.000       0.001       0.002\n",
      "Age                  0.0131      0.001     24.250      0.000       0.012       0.014\n",
      "Developer_Rank       0.0100      0.001      8.680      0.000       0.008       0.012\n",
      "Weighted_Score      -0.0009      0.000     -2.747      0.006      -0.002      -0.000\n",
      "Grouped_Platform    -0.0254      0.002    -12.417      0.000      -0.029      -0.021\n",
      "Genre               -0.0061      0.001     -6.530      0.000      -0.008      -0.004\n",
      "Rating              -0.0198      0.003     -7.207      0.000      -0.025      -0.014\n",
      "==============================================================================\n",
      "Omnibus:                     3013.288   Durbin-Watson:                   2.011\n",
      "Prob(Omnibus):                  0.000   Jarque-Bera (JB):             9616.490\n",
      "Skew:                           1.758   Prob(JB):                         0.00\n",
      "Kurtosis:                       6.699   Cond. No.                         352.\n",
      "==============================================================================\n",
      "\n",
      "Notes:\n",
      "[1] Standard Errors assume that the covariance matrix of the errors is correctly specified.\n"
     ]
    }
   ],
   "source": [
    "X_train = sm.add_constant(X_train)\n",
    "X_test = sm.add_constant(X_test)\n",
    "model0 = sm.OLS(y_train, X_train).fit()\n",
    "\n",
    "print(model0.summary())"
   ]
  },
  {
   "cell_type": "code",
   "execution_count": 241,
   "metadata": {},
   "outputs": [
    {
     "data": {
      "text/plain": [
       "0.18499627014990994"
      ]
     },
     "execution_count": 241,
     "metadata": {},
     "output_type": "execute_result"
    }
   ],
   "source": [
    "OSR2_Model(model0, X_test, y_test, y_train)"
   ]
  },
  {
   "cell_type": "code",
   "execution_count": 242,
   "metadata": {},
   "outputs": [
    {
     "data": {
      "text/plain": [
       "0.19953655319617652"
      ]
     },
     "execution_count": 242,
     "metadata": {},
     "output_type": "execute_result"
    }
   ],
   "source": [
    "MAE_Model(model0, X_test, y_test,y_train)"
   ]
  },
  {
   "cell_type": "code",
   "execution_count": 243,
   "metadata": {},
   "outputs": [],
   "source": [
    "## Writing a function to calculate the VIF.\n",
    "from statsmodels.stats.outliers_influence import variance_inflation_factor\n",
    "def VIF(df, columns):\n",
    "    \n",
    "    values = sm.add_constant(df[columns]).values  # the dataframe passed to VIF must include the intercept term. We add it the same way we did before.\n",
    "    num_columns = len(columns)+1\n",
    "    vif = [variance_inflation_factor(values, i) for i in range(num_columns)]\n",
    "    \n",
    "    return pd.Series(vif[1:], index=columns)"
   ]
  },
  {
   "cell_type": "code",
   "execution_count": 244,
   "metadata": {},
   "outputs": [
    {
     "data": {
      "text/plain": [
       "Critic_Score         9.713764\n",
       "Critic_Count         3.329170\n",
       "User_Score           5.538787\n",
       "User_Count           1.739342\n",
       "Age                  1.094327\n",
       "Developer_Rank       1.810416\n",
       "Weighted_Score      14.273106\n",
       "Grouped_Platform     1.059041\n",
       "Genre                1.033485\n",
       "Rating               1.132998\n",
       "dtype: float64"
      ]
     },
     "execution_count": 244,
     "metadata": {},
     "output_type": "execute_result"
    }
   ],
   "source": [
    "cols0 = ['Critic_Score', 'Critic_Count', 'User_Score', 'User_Count',\n",
    "      'Age', 'Developer_Rank', 'Weighted_Score', 'Grouped_Platform', 'Genre',\n",
    "      'Rating']\n",
    "VIF(X_train, cols0)"
   ]
  },
  {
   "cell_type": "code",
   "execution_count": 245,
   "metadata": {},
   "outputs": [],
   "source": [
    "X_train = X_train.drop(['Weighted_Score'],axis = 1)"
   ]
  },
  {
   "cell_type": "code",
   "execution_count": 246,
   "metadata": {},
   "outputs": [],
   "source": [
    "X_test = X_test.drop(['Weighted_Score'],axis = 1)"
   ]
  },
  {
   "cell_type": "code",
   "execution_count": 247,
   "metadata": {},
   "outputs": [],
   "source": [
    "X_test = sm.add_constant(X_test)"
   ]
  },
  {
   "cell_type": "markdown",
   "metadata": {},
   "source": [
    "Final MLR Model:"
   ]
  },
  {
   "cell_type": "code",
   "execution_count": 248,
   "metadata": {},
   "outputs": [
    {
     "name": "stdout",
     "output_type": "stream",
     "text": [
      "                            OLS Regression Results                            \n",
      "==============================================================================\n",
      "Dep. Variable:                 Global   R-squared:                       0.186\n",
      "Model:                            OLS   Adj. R-squared:                  0.185\n",
      "Method:                 Least Squares   F-statistic:                     224.7\n",
      "Date:                Sun, 27 Nov 2022   Prob (F-statistic):               0.00\n",
      "Time:                        16:08:41   Log-Likelihood:                -1327.9\n",
      "No. Observations:                8859   AIC:                             2676.\n",
      "Df Residuals:                    8849   BIC:                             2747.\n",
      "Df Model:                           9                                         \n",
      "Covariance Type:            nonrobust                                         \n",
      "====================================================================================\n",
      "                       coef    std err          t      P>|t|      [0.025      0.975]\n",
      "------------------------------------------------------------------------------------\n",
      "const                0.2072      0.014     14.705      0.000       0.180       0.235\n",
      "Critic_Score        -0.0014      0.000     -7.800      0.000      -0.002      -0.001\n",
      "Critic_Count         0.0050      0.000     14.245      0.000       0.004       0.006\n",
      "User_Score           0.0087      0.001      5.854      0.000       0.006       0.012\n",
      "User_Count           0.0015      0.000     14.447      0.000       0.001       0.002\n",
      "Age                  0.0131      0.001     24.283      0.000       0.012       0.014\n",
      "Developer_Rank       0.0094      0.001      8.302      0.000       0.007       0.012\n",
      "Grouped_Platform    -0.0256      0.002    -12.541      0.000      -0.030      -0.022\n",
      "Genre               -0.0061      0.001     -6.526      0.000      -0.008      -0.004\n",
      "Rating              -0.0198      0.003     -7.209      0.000      -0.025      -0.014\n",
      "==============================================================================\n",
      "Omnibus:                     3020.698   Durbin-Watson:                   2.011\n",
      "Prob(Omnibus):                  0.000   Jarque-Bera (JB):             9659.100\n",
      "Skew:                           1.762   Prob(JB):                         0.00\n",
      "Kurtosis:                       6.708   Cond. No.                         279.\n",
      "==============================================================================\n",
      "\n",
      "Notes:\n",
      "[1] Standard Errors assume that the covariance matrix of the errors is correctly specified.\n"
     ]
    }
   ],
   "source": [
    "model1 = sm.OLS(y_train, X_train).fit()\n",
    "print(model1.summary())"
   ]
  },
  {
   "cell_type": "code",
   "execution_count": 249,
   "metadata": {},
   "outputs": [
    {
     "data": {
      "text/plain": [
       "Critic_Score        4.210045\n",
       "Critic_Count        3.265231\n",
       "User_Score          3.227572\n",
       "User_Count          1.738405\n",
       "Age                 1.094097\n",
       "Developer_Rank      1.741893\n",
       "Grouped_Platform    1.057116\n",
       "Genre               1.033485\n",
       "Rating              1.132994\n",
       "dtype: float64"
      ]
     },
     "execution_count": 249,
     "metadata": {},
     "output_type": "execute_result"
    }
   ],
   "source": [
    "cols1 = ['Critic_Score', 'Critic_Count', 'User_Score', 'User_Count',\n",
    "       'Age', 'Developer_Rank','Grouped_Platform', 'Genre',\n",
    "       'Rating']\n",
    "\n",
    "VIF(X_train, cols1)"
   ]
  },
  {
   "cell_type": "code",
   "execution_count": 250,
   "metadata": {},
   "outputs": [
    {
     "data": {
      "text/plain": [
       "0.1847502922969949"
      ]
     },
     "execution_count": 250,
     "metadata": {},
     "output_type": "execute_result"
    }
   ],
   "source": [
    "OSR2_Model(model1, X_test, y_test, y_train)"
   ]
  },
  {
   "cell_type": "code",
   "execution_count": 251,
   "metadata": {},
   "outputs": [
    {
     "data": {
      "text/plain": [
       "0.19971274365471622"
      ]
     },
     "execution_count": 251,
     "metadata": {},
     "output_type": "execute_result"
    }
   ],
   "source": [
    "MAE_Model(model1, X_test, y_test, y_train)"
   ]
  },
  {
   "cell_type": "markdown",
   "metadata": {},
   "source": [
    "## Polynomial Regression"
   ]
  },
  {
   "cell_type": "code",
   "execution_count": 52,
   "metadata": {},
   "outputs": [],
   "source": [
    "from sklearn.preprocessing import PolynomialFeatures\n",
    "from sklearn.linear_model import LinearRegression\n",
    "from sklearn.model_selection import cross_val_score "
   ]
  },
  {
   "cell_type": "code",
   "execution_count": 53,
   "metadata": {},
   "outputs": [],
   "source": [
    "poly2_features = PolynomialFeatures(degree =2,include_bias=True)\n",
    "features_train_poly2 = poly2_features.fit_transform(features_train)\n",
    "polynomial_regressor = LinearRegression()\n",
    "polynomial_regressor.fit(features_train_poly2, target_train)\n",
    "features_test_poly2 = poly2_features.transform(features_test)\n",
    "Y_pred = polynomial_regressor.predict(features_test_poly2)"
   ]
  },
  {
   "cell_type": "code",
   "execution_count": 54,
   "metadata": {},
   "outputs": [
    {
     "data": {
      "text/plain": [
       "0.2397246190377531"
      ]
     },
     "execution_count": 54,
     "metadata": {},
     "output_type": "execute_result"
    }
   ],
   "source": [
    "OSR2(Y_pred,target_test,target_train)"
   ]
  },
  {
   "cell_type": "code",
   "execution_count": 55,
   "metadata": {},
   "outputs": [
    {
     "data": {
      "text/plain": [
       "0.1900096985564308"
      ]
     },
     "execution_count": 55,
     "metadata": {},
     "output_type": "execute_result"
    }
   ],
   "source": [
    "MAE(Y_pred, target_test)"
   ]
  },
  {
   "cell_type": "code",
   "execution_count": 56,
   "metadata": {},
   "outputs": [],
   "source": [
    "poly3_features = PolynomialFeatures(degree =3,include_bias=True)\n",
    "features_train_poly3 = poly3_features.fit_transform(features_train)\n",
    "polynomial_regressor = LinearRegression()\n",
    "polynomial_regressor.fit(features_train_poly3, target_train)\n",
    "features_test_poly3 = poly3_features.transform(features_test)\n",
    "Y_pred = polynomial_regressor.predict(features_test_poly3)"
   ]
  },
  {
   "cell_type": "code",
   "execution_count": 57,
   "metadata": {},
   "outputs": [
    {
     "data": {
      "text/plain": [
       "0.232959712307641"
      ]
     },
     "execution_count": 57,
     "metadata": {},
     "output_type": "execute_result"
    }
   ],
   "source": [
    "OSR2(Y_pred,target_test,target_train)"
   ]
  },
  {
   "cell_type": "code",
   "execution_count": 58,
   "metadata": {},
   "outputs": [
    {
     "data": {
      "text/plain": [
       "0.189357402284772"
      ]
     },
     "execution_count": 58,
     "metadata": {},
     "output_type": "execute_result"
    }
   ],
   "source": [
    "MAE(Y_pred, target_test)"
   ]
  },
  {
   "cell_type": "code",
   "execution_count": 59,
   "metadata": {},
   "outputs": [],
   "source": [
    "poly4_features = PolynomialFeatures(degree =4,include_bias=True)\n",
    "features_train_poly4 = poly4_features.fit_transform(features_train)\n",
    "polynomial_regressor = LinearRegression()\n",
    "polynomial_regressor.fit(features_train_poly4, target_train)\n",
    "features_test_poly4 = poly4_features.transform(features_test)\n",
    "Y_pred = polynomial_regressor.predict(features_test_poly4)"
   ]
  },
  {
   "cell_type": "code",
   "execution_count": 60,
   "metadata": {},
   "outputs": [
    {
     "data": {
      "text/plain": [
       "0.003669610904592835"
      ]
     },
     "execution_count": 60,
     "metadata": {},
     "output_type": "execute_result"
    }
   ],
   "source": [
    "OSR2(Y_pred,target_test,target_train)"
   ]
  },
  {
   "cell_type": "code",
   "execution_count": 61,
   "metadata": {},
   "outputs": [
    {
     "data": {
      "text/plain": [
       "0.20163977036190014"
      ]
     },
     "execution_count": 61,
     "metadata": {},
     "output_type": "execute_result"
    }
   ],
   "source": [
    "MAE(Y_pred, target_test)"
   ]
  },
  {
   "cell_type": "code",
   "execution_count": 62,
   "metadata": {},
   "outputs": [],
   "source": [
    "poly5_features = PolynomialFeatures(degree =5,include_bias=True)\n",
    "features_train_poly5 = poly5_features.fit_transform(features_train)\n",
    "polynomial_regressor = LinearRegression()\n",
    "polynomial_regressor.fit(features_train_poly5, target_train)\n",
    "features_test_poly5 = poly5_features.transform(features_test)\n",
    "Y_pred = polynomial_regressor.predict(features_test_poly5)"
   ]
  },
  {
   "cell_type": "code",
   "execution_count": 63,
   "metadata": {},
   "outputs": [
    {
     "data": {
      "text/plain": [
       "-128.30326169191082"
      ]
     },
     "execution_count": 63,
     "metadata": {},
     "output_type": "execute_result"
    }
   ],
   "source": [
    "OSR2(Y_pred,target_test,target_train)"
   ]
  },
  {
   "cell_type": "code",
   "execution_count": 64,
   "metadata": {},
   "outputs": [
    {
     "data": {
      "text/plain": [
       "0.48836948467254093"
      ]
     },
     "execution_count": 64,
     "metadata": {},
     "output_type": "execute_result"
    }
   ],
   "source": [
    "MAE(Y_pred, target_test)"
   ]
  },
  {
   "cell_type": "markdown",
   "metadata": {},
   "source": [
    "The performance become worse as degree increase, we choose degree of 2 as our final polynomial regression model."
   ]
  },
  {
   "cell_type": "code",
   "execution_count": 262,
   "metadata": {},
   "outputs": [
    {
     "data": {
      "image/png": "[encoded data removed]",
      "text/plain": [
       "<Figure size 432x288 with 1 Axes>"
      ]
     },
     "metadata": {},
     "output_type": "display_data"
    }
   ],
   "source": [
    "style.use('ggplot')\n",
    "model_comparison = pd.DataFrame({\"degree\": [\"Degree of 2\", \"Degree of 3\",\"Degree of 4\", \"Degree of 5\"],\n",
    "                                \"mae\": [0.1900096985564308,0.189357402284772,0.20163977036190014,0.48836948467254093]})\n",
    "\n",
    "model_comparison.sort_values(\"mae\", ascending=False).plot(x=\"degree\", y=\"mae\", kind=\"barh\",\n",
    "                                                           color=\"green\", legend=False)\n",
    "plt.ylabel(\"\"); plt.yticks(size=14); plt.xlabel(\"Mean Absolute Error\"); plt.xticks(size=14)\n",
    "plt.title(\"Degree Comparison on Out-of-Sample MAE\", size=20);"
   ]
  },
  {
   "cell_type": "code",
   "execution_count": 269,
   "metadata": {},
   "outputs": [
    {
     "data": {
      "image/png": "[encoded data removed]",
      "text/plain": [
       "<Figure size 432x288 with 1 Axes>"
      ]
     },
     "metadata": {},
     "output_type": "display_data"
    }
   ],
   "source": [
    "style.use('ggplot')\n",
    "model_comparison = pd.DataFrame({\"degree\": [\"Degree of 2\", \"Degree of 3\",\"Degree of 4\", \"Degree of 5\"],\n",
    "                                \"r2\": [0.2397246190377531,0.232959712307641,0.003669610904592835,-128.30326169191082]})\n",
    "\n",
    "model_comparison.sort_values(\"r2\", ascending=False).plot(x=\"degree\", y=\"r2\", kind=\"barh\",\n",
    "                                                           color=\"red\", legend=False)\n",
    "x = x = np.arange(0,1)\n",
    "plt.ylabel(\"\"); plt.yticks(size=14); plt.xlabel(\"R-Squared\"); plt.xticks(x)\n",
    "plt.title(\"Degree Comparison on Out-of-Sample R2\", size=20);"
   ]
  },
  {
   "cell_type": "code",
   "execution_count": 271,
   "metadata": {},
   "outputs": [
    {
     "data": {
      "image/png": "[encoded data removed]",
      "text/plain": [
       "<Figure size 432x288 with 1 Axes>"
      ]
     },
     "metadata": {},
     "output_type": "display_data"
    }
   ],
   "source": [
    "style.use('ggplot')\n",
    "model_comparison = pd.DataFrame({\"degree\": [\"Degree of 2\", \"Degree of 3\",\"Degree of 4\"],\n",
    "                                \"r2\": [0.2397246190377531,0.232959712307641,0.003669610904592835]})\n",
    "\n",
    "model_comparison.sort_values(\"r2\", ascending=False).plot(x=\"degree\", y=\"r2\", kind=\"barh\",\n",
    "                                                           color=\"red\", legend=False)\n",
    "\n",
    "plt.ylabel(\"\"); plt.yticks(size=14); plt.xlabel(\"R-Squared\"); plt.xticks(size=14)\n",
    "plt.title(\"Degree Comparison on Out-of-Sample R2\", size=20);"
   ]
  },
  {
   "cell_type": "markdown",
   "metadata": {},
   "source": [
    "## Decision Tree"
   ]
  },
  {
   "cell_type": "code",
   "execution_count": 65,
   "metadata": {},
   "outputs": [],
   "source": [
    "from sklearn.tree import DecisionTreeRegressor"
   ]
  },
  {
   "cell_type": "markdown",
   "metadata": {},
   "source": [
    "baseline model:"
   ]
  },
  {
   "cell_type": "code",
   "execution_count": 66,
   "metadata": {},
   "outputs": [],
   "source": [
    "dt0 = DecisionTreeRegressor()"
   ]
  },
  {
   "cell_type": "code",
   "execution_count": 67,
   "metadata": {},
   "outputs": [],
   "source": [
    "dt0.fit(features_train_scaled,target_train)\n",
    "Y_pred = dt0.predict(features_test_scaled)"
   ]
  },
  {
   "cell_type": "code",
   "execution_count": 68,
   "metadata": {},
   "outputs": [
    {
     "data": {
      "text/plain": [
       "-0.21135769902683332"
      ]
     },
     "execution_count": 68,
     "metadata": {},
     "output_type": "execute_result"
    }
   ],
   "source": [
    "OSR2(Y_pred,target_test,target_train)"
   ]
  },
  {
   "cell_type": "code",
   "execution_count": 69,
   "metadata": {},
   "outputs": [
    {
     "data": {
      "text/plain": [
       "0.22339592504651698"
      ]
     },
     "execution_count": 69,
     "metadata": {},
     "output_type": "execute_result"
    }
   ],
   "source": [
    "MAE(Y_pred, target_test)"
   ]
  },
  {
   "cell_type": "code",
   "execution_count": 70,
   "metadata": {},
   "outputs": [
    {
     "data": {
      "text/plain": [
       "{'max_depth': 7,\n",
       " 'max_features': 'auto',\n",
       " 'max_leaf_nodes': 40,\n",
       " 'min_samples_leaf': 6}"
      ]
     },
     "execution_count": 70,
     "metadata": {},
     "output_type": "execute_result"
    }
   ],
   "source": [
    "param_test1 = {\"max_depth\" : [1,3,5,7,9,11,12],\n",
    "              \"min_samples_leaf\":[1,2,3,4,5,6,7,8,9,10],\n",
    "           \"max_leaf_nodes\":[10,20,30,40,50,60,70,80,90],\n",
    "           \"max_features\":[\"auto\",\"log2\",\"sqrt\"]}\n",
    "gsearch1 = GridSearchCV(DecisionTreeRegressor(),param_grid=param_test1,scoring='r2',cv=3)\n",
    "gsearch1.fit(features_train_scaled,target_train)\n",
    "gsearch1.best_params_\n"
   ]
  },
  {
   "cell_type": "code",
   "execution_count": 71,
   "metadata": {},
   "outputs": [],
   "source": [
    "dt1 = DecisionTreeRegressor(max_depth=7,max_leaf_nodes=40,min_samples_leaf=10,max_features='auto')\n",
    "dt1.fit(features_train_scaled,target_train)\n",
    "Y_pred = dt1.predict(features_test_scaled)"
   ]
  },
  {
   "cell_type": "code",
   "execution_count": 72,
   "metadata": {},
   "outputs": [
    {
     "data": {
      "text/plain": [
       "0.22090727430901247"
      ]
     },
     "execution_count": 72,
     "metadata": {},
     "output_type": "execute_result"
    }
   ],
   "source": [
    "OSR2(Y_pred,target_test,target_train)"
   ]
  },
  {
   "cell_type": "code",
   "execution_count": 73,
   "metadata": {},
   "outputs": [
    {
     "data": {
      "text/plain": [
       "0.1906672394917888"
      ]
     },
     "execution_count": 73,
     "metadata": {},
     "output_type": "execute_result"
    }
   ],
   "source": [
    "MAE(Y_pred, target_test)"
   ]
  },
  {
   "cell_type": "code",
   "execution_count": 74,
   "metadata": {},
   "outputs": [
    {
     "data": {
      "text/plain": [
       "{'min_samples_split': 70}"
      ]
     },
     "execution_count": 74,
     "metadata": {},
     "output_type": "execute_result"
    }
   ],
   "source": [
    "param_test2 = {'min_samples_split':[20,30,40,50,60,70,80]}\n",
    "gsearch2 = GridSearchCV(DecisionTreeRegressor(max_depth=7,max_leaf_nodes=40,min_samples_leaf=10,max_features='auto'),\n",
    "                        param_grid=param_test2,scoring='r2',cv=3)\n",
    "gsearch2.fit(features_train_scaled,target_train)\n",
    "gsearch2.best_params_"
   ]
  },
  {
   "cell_type": "markdown",
   "metadata": {},
   "source": [
    "Final Decision Tree Model"
   ]
  },
  {
   "cell_type": "code",
   "execution_count": 75,
   "metadata": {},
   "outputs": [],
   "source": [
    "dt2 = DecisionTreeRegressor(max_depth=7,max_leaf_nodes=40,min_samples_leaf=10,\n",
    "                            max_features='auto',min_samples_split=70)\n",
    "dt2.fit(features_train_scaled,target_train)\n",
    "Y_pred = dt2.predict(features_test_scaled)"
   ]
  },
  {
   "cell_type": "code",
   "execution_count": 76,
   "metadata": {},
   "outputs": [
    {
     "data": {
      "text/plain": [
       "0.2219212783246397"
      ]
     },
     "execution_count": 76,
     "metadata": {},
     "output_type": "execute_result"
    }
   ],
   "source": [
    "OSR2(Y_pred,target_test,target_train)"
   ]
  },
  {
   "cell_type": "code",
   "execution_count": 77,
   "metadata": {},
   "outputs": [
    {
     "data": {
      "text/plain": [
       "0.19043137353879616"
      ]
     },
     "execution_count": 77,
     "metadata": {},
     "output_type": "execute_result"
    }
   ],
   "source": [
    "MAE(Y_pred, target_test)"
   ]
  },
  {
   "cell_type": "markdown",
   "metadata": {},
   "source": [
    "## Gradient Boosting"
   ]
  },
  {
   "cell_type": "markdown",
   "metadata": {},
   "source": [
    "There 2 types of parameters here:\n",
    "\n",
    "Tree-specific parameters\n",
    "\n",
    "min_samples_split\n",
    "\n",
    "min_samples_leaf\n",
    "\n",
    "max_depth\n",
    "\n",
    "min_leaf_nodes\n",
    "\n",
    "max_features\n",
    "\n",
    "\n",
    "Boosting-specific paramters\n",
    "\n",
    "n_estimators\n",
    "\n",
    "learning_rate\n",
    "\n",
    "subsample\n",
    "\n",
    "Approach for tackling the problem\n",
    "\n",
    "Decide a relatively higher value for learning rate and tune the number of estimators requried for that.\n",
    "\n",
    "Tune the tree specific parameters for that learning rate\n",
    "\n",
    "\n",
    "Lower learning rate as much as possible computationally and increase the number of estimators accordingly.\n"
   ]
  },
  {
   "cell_type": "markdown",
   "metadata": {},
   "source": [
    "Step 1- Find the number of estimators for a high learning rate\n",
    "\n",
    "We will use the following benchmarks for parameters:\n",
    "\n",
    "min_samples_split = 500 : ~0.5-1% of total values.\n",
    "\n",
    "We'll take small value min_samples_leaf = 50 : Just using for preventing overfitting. will be tuned later.\n",
    "\n",
    "max_depth = 8 : since high number of observations and predictors, choose relatively high value\n",
    "\n",
    "max_features = 'sqrt' : general thumbrule to start with\n",
    "\n",
    "subsample = 0.8 : typically used value (will be tuned later)\n",
    "\n",
    "0.1 is assumed to be a good learning rate to start with. Let's try to find the optimum number of estimators requried for this."
   ]
  },
  {
   "cell_type": "markdown",
   "metadata": {},
   "source": [
    "Baseline model:"
   ]
  },
  {
   "cell_type": "code",
   "execution_count": 78,
   "metadata": {},
   "outputs": [],
   "source": [
    "from sklearn.ensemble import GradientBoostingRegressor\n",
    "gbm0 = GradientBoostingRegressor(random_state=10)\n",
    "gbm0.fit(features_train_scaled,target_train)\n",
    "Y_pred = gbm0.predict(features_test_scaled)"
   ]
  },
  {
   "cell_type": "code",
   "execution_count": 79,
   "metadata": {},
   "outputs": [
    {
     "data": {
      "text/plain": [
       "0.27317528476248265"
      ]
     },
     "execution_count": 79,
     "metadata": {},
     "output_type": "execute_result"
    }
   ],
   "source": [
    "OSR2(Y_pred,target_test,target_train)"
   ]
  },
  {
   "cell_type": "code",
   "execution_count": 80,
   "metadata": {},
   "outputs": [
    {
     "data": {
      "text/plain": [
       "0.1843553999564441"
      ]
     },
     "execution_count": 80,
     "metadata": {},
     "output_type": "execute_result"
    }
   ],
   "source": [
    "MAE(Y_pred, target_test)"
   ]
  },
  {
   "cell_type": "markdown",
   "metadata": {},
   "source": [
    "Step 2- Tune tree-specific parameters\n",
    "\n",
    "Now, lets move onto tuning the tree parameters. We will do this in 2 stages:\n",
    "\n",
    "Tune max_depth and num_samples_split\n",
    "Tune min_samples_leaf\n",
    "Tune max_features"
   ]
  },
  {
   "cell_type": "code",
   "execution_count": 81,
   "metadata": {},
   "outputs": [
    {
     "data": {
      "text/plain": [
       "{'n_estimators': 80}"
      ]
     },
     "execution_count": 81,
     "metadata": {},
     "output_type": "execute_result"
    }
   ],
   "source": [
    "param_test1 = {'n_estimators':range(20,81,10)}\n",
    "gsearch1 = GridSearchCV(estimator = GradientBoostingRegressor(learning_rate=0.1, min_samples_split=500,\n",
    "                                  min_samples_leaf=50,max_depth=8,max_features='sqrt',\n",
    "                                random_state=10), param_grid = param_test1, scoring='r2',cv=5)\n",
    "gsearch1.fit(features_train_scaled,target_train)\n",
    "gsearch1.best_params_"
   ]
  },
  {
   "cell_type": "code",
   "execution_count": 82,
   "metadata": {},
   "outputs": [
    {
     "data": {
      "text/plain": [
       "{'max_depth': 9, 'min_samples_split': 200}"
      ]
     },
     "execution_count": 82,
     "metadata": {},
     "output_type": "execute_result"
    }
   ],
   "source": [
    "param_test2 = {'max_depth':range(5,16,2), 'min_samples_split':range(200,1001,200)}\n",
    "gsearch2 = GridSearchCV(estimator = GradientBoostingRegressor(learning_rate=0.1, n_estimators=80, min_samples_leaf=50, \n",
    "      max_features='sqrt', random_state=10), \n",
    "   param_grid = param_test2, scoring='r2',cv=5)\n",
    "gsearch2.fit(features_train_scaled,target_train)\n",
    "gsearch2.best_params_"
   ]
  },
  {
   "cell_type": "code",
   "execution_count": 83,
   "metadata": {},
   "outputs": [
    {
     "data": {
      "text/plain": [
       "{'min_samples_leaf': 30, 'min_samples_split': 200}"
      ]
     },
     "execution_count": 83,
     "metadata": {},
     "output_type": "execute_result"
    }
   ],
   "source": [
    "param_test3 = {'min_samples_split':range(200,1001,200), 'min_samples_leaf':range(30,71,10)}\n",
    "gsearch3 = GridSearchCV(estimator = GradientBoostingRegressor(learning_rate=0.1, n_estimators=80,max_depth=11,\n",
    "                                     max_features='sqrt',random_state=10), \n",
    "                       param_grid = param_test3, scoring='r2',cv=5)\n",
    "gsearch3.fit(features_train_scaled,target_train)\n",
    "gsearch3.best_params_"
   ]
  },
  {
   "cell_type": "code",
   "execution_count": 84,
   "metadata": {},
   "outputs": [],
   "source": [
    "gbm1 = GradientBoostingRegressor(learning_rate=0.1, n_estimators=1000,max_depth=11, min_samples_leaf =30, \n",
    "               min_samples_split =200, max_features='sqrt',random_state=10)\n",
    "gbm1.fit(features_train_scaled,target_train)\n",
    "Y_pred = gbm1.predict(features_test_scaled)"
   ]
  },
  {
   "cell_type": "code",
   "execution_count": 85,
   "metadata": {},
   "outputs": [
    {
     "data": {
      "text/plain": [
       "0.2623920233643695"
      ]
     },
     "execution_count": 85,
     "metadata": {},
     "output_type": "execute_result"
    }
   ],
   "source": [
    "OSR2(Y_pred,target_test,target_train)"
   ]
  },
  {
   "cell_type": "code",
   "execution_count": 86,
   "metadata": {},
   "outputs": [
    {
     "data": {
      "text/plain": [
       "0.183253411808698"
      ]
     },
     "execution_count": 86,
     "metadata": {},
     "output_type": "execute_result"
    }
   ],
   "source": [
    "MAE(Y_pred, target_test)"
   ]
  },
  {
   "cell_type": "code",
   "execution_count": 87,
   "metadata": {},
   "outputs": [
    {
     "data": {
      "text/plain": [
       "{'max_features': 9}"
      ]
     },
     "execution_count": 87,
     "metadata": {},
     "output_type": "execute_result"
    }
   ],
   "source": [
    "#Grid seach on max_features\n",
    "param_test4 = {'max_features':range(7,20,2)}\n",
    "gsearch4 = GridSearchCV(estimator = GradientBoostingRegressor(learning_rate=0.1, n_estimators=80,max_depth=11, \n",
    "                            min_samples_split=200, min_samples_leaf=60, subsample=0.8, random_state=10),\n",
    "                        param_grid = param_test4, scoring='r2',n_jobs=4,cv=5)\n",
    "gsearch4.fit(features_train_scaled,target_train)\n",
    "gsearch4.best_params_"
   ]
  },
  {
   "cell_type": "code",
   "execution_count": 88,
   "metadata": {},
   "outputs": [],
   "source": [
    "gbm2 = GradientBoostingRegressor(learning_rate=0.1, n_estimators=80,max_depth=11, min_samples_leaf =30, \n",
    "               min_samples_split =200, subsample=0.9,random_state=10)\n",
    "gbm2.fit(features_train_scaled,target_train)\n",
    "Y_pred = gbm2.predict(features_test_scaled)"
   ]
  },
  {
   "cell_type": "code",
   "execution_count": 89,
   "metadata": {},
   "outputs": [
    {
     "data": {
      "text/plain": [
       "0.30118206708256134"
      ]
     },
     "execution_count": 89,
     "metadata": {},
     "output_type": "execute_result"
    }
   ],
   "source": [
    "OSR2(Y_pred,target_test,target_train)"
   ]
  },
  {
   "cell_type": "code",
   "execution_count": 90,
   "metadata": {},
   "outputs": [
    {
     "data": {
      "text/plain": [
       "0.1777895641998887"
      ]
     },
     "execution_count": 90,
     "metadata": {},
     "output_type": "execute_result"
    }
   ],
   "source": [
    "MAE(Y_pred, target_test)"
   ]
  },
  {
   "cell_type": "markdown",
   "metadata": {},
   "source": [
    "Step 3- Lower Learning Rate and More Estimators"
   ]
  },
  {
   "cell_type": "markdown",
   "metadata": {},
   "source": [
    "With all tuned lets try reducing the learning rate and proportionally increasing the number of estimators to get more robust results."
   ]
  },
  {
   "cell_type": "markdown",
   "metadata": {},
   "source": [
    "1/2th learning rate and 2*n_estimators"
   ]
  },
  {
   "cell_type": "code",
   "execution_count": 91,
   "metadata": {},
   "outputs": [],
   "source": [
    "gbm3 = GradientBoostingRegressor(learning_rate=0.05, n_estimators=160,max_depth=11, min_samples_leaf =30, \n",
    "               min_samples_split =200, subsample=0.9,random_state=10)\n",
    "gbm3.fit(features_train_scaled,target_train)\n",
    "Y_pred = gbm3.predict(features_test_scaled)"
   ]
  },
  {
   "cell_type": "code",
   "execution_count": 92,
   "metadata": {},
   "outputs": [
    {
     "data": {
      "text/plain": [
       "0.3060227972950782"
      ]
     },
     "execution_count": 92,
     "metadata": {},
     "output_type": "execute_result"
    }
   ],
   "source": [
    "OSR2(Y_pred,target_test,target_train)"
   ]
  },
  {
   "cell_type": "code",
   "execution_count": 93,
   "metadata": {},
   "outputs": [
    {
     "data": {
      "text/plain": [
       "0.17757344608799594"
      ]
     },
     "execution_count": 93,
     "metadata": {},
     "output_type": "execute_result"
    }
   ],
   "source": [
    "MAE(Y_pred, target_test)"
   ]
  },
  {
   "cell_type": "markdown",
   "metadata": {},
   "source": [
    "1/10th learning rate and 5*n_estimators"
   ]
  },
  {
   "cell_type": "code",
   "execution_count": 94,
   "metadata": {},
   "outputs": [],
   "source": [
    "gbm4 = GradientBoostingRegressor(learning_rate=0.01, n_estimators=800,max_depth=11, min_samples_leaf =30, \n",
    "               min_samples_split =200, subsample=0.9,random_state=10)\n",
    "gbm4.fit(features_train_scaled,target_train)\n",
    "Y_pred = gbm4.predict(features_test_scaled)"
   ]
  },
  {
   "cell_type": "code",
   "execution_count": 272,
   "metadata": {},
   "outputs": [
    {
     "data": {
      "text/plain": [
       "GradientBoostingRegressor(learning_rate=0.01, max_depth=11, min_samples_leaf=30,\n",
       "                          min_samples_split=200, n_estimators=800,\n",
       "                          random_state=10, subsample=0.9)"
      ]
     },
     "execution_count": 272,
     "metadata": {},
     "output_type": "execute_result"
    }
   ],
   "source": [
    "gbm4"
   ]
  },
  {
   "cell_type": "code",
   "execution_count": 95,
   "metadata": {},
   "outputs": [
    {
     "data": {
      "text/plain": [
       "0.30778395356180366"
      ]
     },
     "execution_count": 95,
     "metadata": {},
     "output_type": "execute_result"
    }
   ],
   "source": [
    "OSR2(Y_pred,target_test,target_train)"
   ]
  },
  {
   "cell_type": "code",
   "execution_count": 96,
   "metadata": {},
   "outputs": [
    {
     "data": {
      "text/plain": [
       "0.1771942471559964"
      ]
     },
     "execution_count": 96,
     "metadata": {},
     "output_type": "execute_result"
    }
   ],
   "source": [
    "MAE(Y_pred, target_test)"
   ]
  },
  {
   "cell_type": "markdown",
   "metadata": {},
   "source": [
    "1/20 th learning rate and 15*n_estimators"
   ]
  },
  {
   "cell_type": "code",
   "execution_count": 97,
   "metadata": {},
   "outputs": [],
   "source": [
    "gbm5 = GradientBoostingRegressor(learning_rate=0.005, n_estimators=1200,max_depth=11, min_samples_leaf =30, \n",
    "               min_samples_split =200, subsample=0.9,random_state=10)\n",
    "gbm5.fit(features_train_scaled,target_train)\n",
    "Y_pred = gbm5.predict(features_test_scaled)"
   ]
  },
  {
   "cell_type": "code",
   "execution_count": 98,
   "metadata": {},
   "outputs": [
    {
     "data": {
      "text/plain": [
       "0.30642125228437733"
      ]
     },
     "execution_count": 98,
     "metadata": {},
     "output_type": "execute_result"
    }
   ],
   "source": [
    "OSR2(Y_pred,target_test,target_train)"
   ]
  },
  {
   "cell_type": "code",
   "execution_count": 99,
   "metadata": {},
   "outputs": [
    {
     "data": {
      "text/plain": [
       "0.17767383355365518"
      ]
     },
     "execution_count": 99,
     "metadata": {},
     "output_type": "execute_result"
    }
   ],
   "source": [
    "MAE(Y_pred, target_test)"
   ]
  },
  {
   "cell_type": "markdown",
   "metadata": {},
   "source": [
    "Now with too low learning rate and too many estimators, the perfromance get worse. So for gbm, the best one is gbm 4."
   ]
  },
  {
   "cell_type": "markdown",
   "metadata": {},
   "source": [
    "## Random Forest"
   ]
  },
  {
   "cell_type": "markdown",
   "metadata": {},
   "source": [
    "baseline model"
   ]
  },
  {
   "cell_type": "code",
   "execution_count": 100,
   "metadata": {},
   "outputs": [],
   "source": [
    "from sklearn.ensemble import RandomForestRegressor"
   ]
  },
  {
   "cell_type": "code",
   "execution_count": 101,
   "metadata": {},
   "outputs": [],
   "source": [
    "rf0 = RandomForestRegressor(oob_score=True, random_state=10)\n",
    "rf0.fit(features_train_scaled,target_train)\n",
    "Y_pred = rf0.predict(features_test_scaled)"
   ]
  },
  {
   "cell_type": "code",
   "execution_count": 102,
   "metadata": {},
   "outputs": [
    {
     "data": {
      "text/plain": [
       "0.2295778589774431"
      ]
     },
     "execution_count": 102,
     "metadata": {},
     "output_type": "execute_result"
    }
   ],
   "source": [
    "OSR2(Y_pred,target_test,target_train)"
   ]
  },
  {
   "cell_type": "code",
   "execution_count": 103,
   "metadata": {},
   "outputs": [
    {
     "data": {
      "text/plain": [
       "0.18747221277013323"
      ]
     },
     "execution_count": 103,
     "metadata": {},
     "output_type": "execute_result"
    }
   ],
   "source": [
    "MAE(Y_pred, target_test)"
   ]
  },
  {
   "cell_type": "markdown",
   "metadata": {},
   "source": [
    "Step 1 : Tune bagging-specific parameters:"
   ]
  },
  {
   "cell_type": "code",
   "execution_count": 104,
   "metadata": {},
   "outputs": [
    {
     "data": {
      "text/plain": [
       "{'n_estimators': 50}"
      ]
     },
     "execution_count": 104,
     "metadata": {},
     "output_type": "execute_result"
    }
   ],
   "source": [
    "param_test1 = {'n_estimators':[10,20,30,40,50,60,70]}\n",
    "gsearch1 = GridSearchCV(estimator = RandomForestRegressor(min_samples_split=100,\n",
    "                                  min_samples_leaf=20,max_depth=8,max_features='sqrt' ,random_state=10), \n",
    "                       param_grid = param_test1, scoring='r2',cv=5)\n",
    "gsearch1.fit(features_train_scaled,target_train)\n",
    "gsearch1.best_params_"
   ]
  },
  {
   "cell_type": "markdown",
   "metadata": {},
   "source": [
    "Step 2: Tune important tree-specific parameters:"
   ]
  },
  {
   "cell_type": "code",
   "execution_count": 105,
   "metadata": {},
   "outputs": [
    {
     "data": {
      "text/plain": [
       "{'max_depth': 13, 'min_samples_split': 50}"
      ]
     },
     "execution_count": 105,
     "metadata": {},
     "output_type": "execute_result"
    }
   ],
   "source": [
    "param_test2 = {'max_depth':[3,5,7,9,11,13], 'min_samples_split':[50,70,90,110,130,150,170,190]}\n",
    "gsearch2 = GridSearchCV(estimator = RandomForestRegressor(n_estimators= 30, \n",
    "                                  min_samples_leaf=20,max_features='sqrt' ,oob_score=True, random_state=10),\n",
    "                                  param_grid = param_test2, scoring='r2',cv=5)\n",
    "gsearch2.fit(features_train_scaled,target_train)\n",
    "gsearch2.best_params_"
   ]
  },
  {
   "cell_type": "code",
   "execution_count": 106,
   "metadata": {},
   "outputs": [
    {
     "data": {
      "text/plain": [
       "RandomForestRegressor(max_depth=13, max_features='sqrt', min_samples_leaf=20,\n",
       "                      min_samples_split=50, n_estimators=30, oob_score=True,\n",
       "                      random_state=10)"
      ]
     },
     "execution_count": 106,
     "metadata": {},
     "output_type": "execute_result"
    }
   ],
   "source": [
    "rf1 = RandomForestRegressor(n_estimators= 30, max_depth=13, min_samples_split=50,\n",
    "                                  min_samples_leaf=20,max_features='sqrt' ,oob_score=True, random_state=10)\n",
    "rf1.fit(features_train_scaled,target_train)\n"
   ]
  },
  {
   "cell_type": "code",
   "execution_count": 107,
   "metadata": {},
   "outputs": [],
   "source": [
    "Y_pred = rf1.predict(features_test_scaled)"
   ]
  },
  {
   "cell_type": "code",
   "execution_count": 108,
   "metadata": {},
   "outputs": [
    {
     "data": {
      "text/plain": [
       "0.26273410372321016"
      ]
     },
     "execution_count": 108,
     "metadata": {},
     "output_type": "execute_result"
    }
   ],
   "source": [
    "OSR2(Y_pred,target_test,target_train)"
   ]
  },
  {
   "cell_type": "code",
   "execution_count": 109,
   "metadata": {},
   "outputs": [
    {
     "data": {
      "text/plain": [
       "0.18705663316855214"
      ]
     },
     "execution_count": 109,
     "metadata": {},
     "output_type": "execute_result"
    }
   ],
   "source": [
    "MAE(Y_pred, target_test)"
   ]
  },
  {
   "cell_type": "code",
   "execution_count": 110,
   "metadata": {},
   "outputs": [
    {
     "data": {
      "text/plain": [
       "{'min_samples_leaf': 10, 'min_samples_split': 80}"
      ]
     },
     "execution_count": 110,
     "metadata": {},
     "output_type": "execute_result"
    }
   ],
   "source": [
    "param_test3 = {'min_samples_split':[80,100,120,140], 'min_samples_leaf':[10,20,30,40,50]}\n",
    "gsearch3 = GridSearchCV(estimator = RandomForestRegressor(n_estimators= 30, max_depth=13,\n",
    "                                  max_features='sqrt' ,oob_score=True, random_state=10),\n",
    "                                 param_grid = param_test3, scoring='r2',cv=5)\n",
    "gsearch3.fit(features_train_scaled,target_train)\n",
    "gsearch3.best_params_"
   ]
  },
  {
   "cell_type": "code",
   "execution_count": 111,
   "metadata": {},
   "outputs": [
    {
     "data": {
      "text/plain": [
       "{'max_features': 7}"
      ]
     },
     "execution_count": 111,
     "metadata": {},
     "output_type": "execute_result"
    }
   ],
   "source": [
    "param_test4 = {'max_features':[3,5,7,9]}\n",
    "gsearch4 = GridSearchCV(estimator = RandomForestRegressor(n_estimators= 30, max_depth=13, min_samples_split=80,\n",
    "                                  min_samples_leaf=10 ,oob_score=True, random_state=10),\n",
    "                         param_grid = param_test4, scoring='r2',cv=5)\n",
    "gsearch4.fit(features_train_scaled,target_train)\n",
    "gsearch4.best_params_"
   ]
  },
  {
   "cell_type": "markdown",
   "metadata": {},
   "source": [
    "Final Random Forest Model"
   ]
  },
  {
   "cell_type": "code",
   "execution_count": 112,
   "metadata": {},
   "outputs": [],
   "source": [
    "rf2 = RandomForestRegressor(n_estimators=30, max_depth=13, min_samples_split=80,\n",
    "                                  min_samples_leaf=10,max_features=9,oob_score=True, random_state=10)\n",
    "rf2.fit(features_train_scaled,target_train)\n",
    "Y_pred = rf2.predict(features_test_scaled)"
   ]
  },
  {
   "cell_type": "code",
   "execution_count": 113,
   "metadata": {},
   "outputs": [
    {
     "data": {
      "text/plain": [
       "0.2745826488692453"
      ]
     },
     "execution_count": 113,
     "metadata": {},
     "output_type": "execute_result"
    }
   ],
   "source": [
    "OSR2(Y_pred,target_test,target_train)"
   ]
  },
  {
   "cell_type": "code",
   "execution_count": 114,
   "metadata": {},
   "outputs": [
    {
     "data": {
      "text/plain": [
       "0.18336031244870357"
      ]
     },
     "execution_count": 114,
     "metadata": {},
     "output_type": "execute_result"
    }
   ],
   "source": [
    "MAE(Y_pred, target_test)"
   ]
  },
  {
   "cell_type": "markdown",
   "metadata": {},
   "source": [
    "## Out-of-Sample MAE Comparison"
   ]
  },
  {
   "cell_type": "code",
   "execution_count": 115,
   "metadata": {},
   "outputs": [
    {
     "data": {
      "image/png": "[encoded data removed]",
      "text/plain": [
       "<Figure size 432x288 with 1 Axes>"
      ]
     },
     "metadata": {},
     "output_type": "display_data"
    }
   ],
   "source": [
    "style.use('ggplot')\n",
    "model_comparison = pd.DataFrame({\"model\": [\"Multiple Linear Regression\", \"Polynomial Regression\",\"Decision Tree\", \"Random Forest\",\"Gradient Boosting\"],\n",
    "                                \"mae\": [0.1997361295454158,0.1899953869120538,0.18942868514056505,0.1836013170735441,0.17719098643012748]})\n",
    "\n",
    "model_comparison.sort_values(\"mae\", ascending=False).plot(x=\"model\", y=\"mae\", kind=\"barh\",\n",
    "                                                           color=\"green\", legend=False)\n",
    "plt.ylabel(\"\"); plt.yticks(size=14); plt.xlabel(\"Mean Absolute Error\"); plt.xticks(size=14)\n",
    "plt.title(\"Model Comparison on Out-of-Sample MAE\", size=20);\n",
    "\n"
   ]
  },
  {
   "cell_type": "markdown",
   "metadata": {},
   "source": [
    "Gradient Boosting is the best out of the 5 models chosen"
   ]
  },
  {
   "cell_type": "markdown",
   "metadata": {},
   "source": [
    "## Out-of-Sample R-Squared Comparison"
   ]
  },
  {
   "cell_type": "code",
   "execution_count": 116,
   "metadata": {},
   "outputs": [
    {
     "data": {
      "image/png": "[encoded data removed]",
      "text/plain": [
       "<Figure size 432x288 with 1 Axes>"
      ]
     },
     "metadata": {},
     "output_type": "display_data"
    }
   ],
   "source": [
    "style.use('ggplot')\n",
    "model_comparison = pd.DataFrame({\"model\": [\"Multiple Linear Regression\", \"Polynomial Regression\",\"Decision Tree\", \"Random Forest\",\"Gradient Boosting\"],\n",
    "                                \"r2\": [0.18453608787488174,0.23951158708306053,0.22876138825470316,0.2735577079928633,0.3069954057626838]})\n",
    "\n",
    "model_comparison.sort_values(\"r2\", ascending=False).plot(x=\"model\", y=\"r2\", kind=\"barh\",\n",
    "                                                           color=\"red\", legend=False)\n",
    "plt.ylabel(\"\"); plt.yticks(size=14); plt.xlabel(\"R-Squard\"); plt.xticks(size=14)\n",
    "plt.title(\"Model Comparison on Out-of-Sample R-Squared\", size=20);"
   ]
  },
  {
   "cell_type": "markdown",
   "metadata": {},
   "source": [
    "Gradient Boosting is the best out of the 5 models chosen"
   ]
  },
  {
   "cell_type": "markdown",
   "metadata": {},
   "source": [
    "### Final Model"
   ]
  },
  {
   "cell_type": "code",
   "execution_count": 117,
   "metadata": {},
   "outputs": [],
   "source": [
    "final_model = GradientBoostingRegressor(learning_rate=0.01, n_estimators=800,max_depth=11, min_samples_leaf =30, \n",
    "               min_samples_split =200, subsample=0.9,random_state=10)\n",
    "final_model.fit(features_train_scaled,target_train)\n",
    "Y_pred_final = final_model.predict(features_test_scaled)"
   ]
  },
  {
   "cell_type": "code",
   "execution_count": 118,
   "metadata": {},
   "outputs": [
    {
     "data": {
      "text/plain": [
       "Text(0.5, 1.0, 'Variable Importance')"
      ]
     },
     "execution_count": 118,
     "metadata": {},
     "output_type": "execute_result"
    },
    {
     "data": {
      "image/png": "[encoded data removed]",
      "text/plain": [
       "<Figure size 1440x1152 with 3 Axes>"
      ]
     },
     "metadata": {},
     "output_type": "display_data"
    }
   ],
   "source": [
    "plt.figure(figsize=(20, 16))\n",
    "plt.title(\"Video Games - Predicting Global Sales\", size=30, weight=\"bold\");\n",
    "\n",
    "ax=plt.subplot(2, 2, 1)\n",
    "sb.kdeplot(Y_pred_final, color=\"green\", label=\"Final Model\")\n",
    "sb.kdeplot(target_test, color=\"red\", label=\"Test\")\n",
    "plt.xlabel(\"Global Sales, $M\", size=20)\n",
    "plt.ylabel(\"Density\", size=20)\n",
    "plt.title(\"Distribution of Target Values\", size=24)\n",
    "\n",
    "\n",
    "residuals = Y_pred_final - target_test\n",
    "ax =plt.subplot(2, 2, 2)\n",
    "sb.kdeplot(residuals, color = \"blue\", label=\"Final Model\")\n",
    "plt.xlabel(\"Residuals, $M\", size=20)\n",
    "plt.ylabel(\"Density\", size=20);\n",
    "plt.title(\"Distribution of Errors\", size=24)\n",
    "\n",
    "\n",
    "\n",
    "feature_importance = final_model.feature_importances_\n",
    "feature_names = features.columns.tolist()\n",
    "feature_importance = 100.0 * (feature_importance / feature_importance.max())\n",
    "sorted_idx = np.argsort(feature_importance)\n",
    "pos = np.arange(sorted_idx.shape[0]) + .5\n",
    "ax =plt.subplot(2, 2, 3)\n",
    "plt.barh(pos, feature_importance[sorted_idx], align='center', color=\"darkgreen\")\n",
    "plt.yticks(pos, [feature_names[x] for x in sorted_idx], size=16)\n",
    "plt.xlabel('Relative Importance', size=20)\n",
    "plt.title('Variable Importance', size=24)"
   ]
  },
  {
   "cell_type": "markdown",
   "metadata": {},
   "source": [
    "## Bootstrapping"
   ]
  },
  {
   "cell_type": "code",
   "execution_count": 119,
   "metadata": {},
   "outputs": [],
   "source": [
    "import time\n",
    "def bootstrap(test_data, test_label, train_label, model_list, metrics_list, n_sample=500, random_state=10):\n",
    "    np.random.seed(random_state)\n",
    "    tic = time.time()\n",
    "    n_metrics = len(metrics_list)\n",
    "    output_array=np.zeros([n_sample, n_metrics, len(model_list)-1])\n",
    "    for bs_iter in range(n_sample):\n",
    "        bs_index = np.random.choice(test_data.index, len(test_data.index), replace=True)\n",
    "        bs_data = test_data.loc[bs_index]\n",
    "        bs_label = test_label.loc[bs_index]\n",
    "        \n",
    "        bs_predicted1 = model_list[0].predict(bs_data)\n",
    "        # First case, we want to find CI for a single model (to understand ts robustness)\n",
    "        if len(model_list) < 2:\n",
    "            for m_iter in range(n_metrics):\n",
    "                metric = metrics_list[m_iter]\n",
    "                output_array[bs_iter, m_iter, 0]=metric(bs_predicted1,bs_label,train_label)\n",
    "        # if we have more than one model, we are going to calculate differences between the first one and all the others\n",
    "        else:\n",
    "            \n",
    "            bs_predicted1 = model_list[0].predict(bs_data)\n",
    "            for i in range(1, len(model_list)):\n",
    "                bs_predicted2 = model_list[i].predict(bs_data)\n",
    "                for m_iter in range(n_metrics):\n",
    "                    metric = metrics_list[m_iter]\n",
    "                    output_array[bs_iter, m_iter, i-1]=metric(bs_predicted2,bs_label,train_label)- metric(bs_predicted1,bs_label,train_label)\n",
    "    return output_array"
   ]
  },
  {
   "cell_type": "code",
   "execution_count": 120,
   "metadata": {},
   "outputs": [],
   "source": [
    "bs_output = bootstrap(features_test,target_test,target_train,[gbm4, rf2,dt2],\n",
    "                                 metrics_list=[OSR2,MAE],\n",
    "                                n_sample = 5000)"
   ]
  },
  {
   "cell_type": "code",
   "execution_count": 123,
   "metadata": {},
   "outputs": [],
   "source": [
    "CI_R2 = np.quantile(bs_output[:,0, 0],np.array([0.025,0.975]))\n",
    "CI_MAE = np.quantile(bs_output[:,1, 0],np.array([0.025,0.975]))"
   ]
  },
  {
   "cell_type": "code",
   "execution_count": 124,
   "metadata": {},
   "outputs": [
    {
     "data": {
      "text/plain": [
       "array([0.71435601, 0.83799889])"
      ]
     },
     "execution_count": 124,
     "metadata": {},
     "output_type": "execute_result"
    }
   ],
   "source": [
    "CI_R2"
   ]
  },
  {
   "cell_type": "code",
   "execution_count": 125,
   "metadata": {},
   "outputs": [
    {
     "data": {
      "text/plain": [
       "array([-0.05599032, -0.05096163])"
      ]
     },
     "execution_count": 125,
     "metadata": {},
     "output_type": "execute_result"
    }
   ],
   "source": [
    "CI_MAE"
   ]
  },
  {
   "cell_type": "markdown",
   "metadata": {},
   "source": [
    "Comment:\n",
    "Since two intervals do not contain 0, we can say the difference between three tree-based models are significant."
   ]
  }
 ],
 "metadata": {
  "kernelspec": {
   "display_name": "Python 3",
   "language": "python",
   "name": "python3"
  },
  "language_info": {
   "codemirror_mode": {
    "name": "ipython",
    "version": 3
   },
   "file_extension": ".py",
   "mimetype": "text/x-python",
   "name": "python",
   "nbconvert_exporter": "python",
   "pygments_lexer": "ipython3",
   "version": "3.8.5"
  }
 },
 "nbformat": 4,
 "nbformat_minor": 4
}
