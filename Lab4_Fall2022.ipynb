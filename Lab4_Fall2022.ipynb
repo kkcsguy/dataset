{
 "cells": [
  {
   "cell_type": "markdown",
   "metadata": {},
   "source": [
    "# LAB 3 - LOGISTIC REGRESSION\n",
    "\n",
    "This lab is comprised of two main sections:\n",
    "\n",
    "- 1. Logistic Regression with only numerical variables\n",
    "\n",
    "- 2. Logistic Regression with numerical + categorical variables\n",
    "\n",
    "In this lab we will use the help of statistical packages `statsmodels` and also `sklearn` for plotting and for splitting. These are two of the most complete libraries for statistical modeling in Python."
   ]
  },
  {
   "cell_type": "markdown",
   "metadata": {},
   "source": [
    "### Load the Data"
   ]
  },
  {
   "cell_type": "code",
   "execution_count": 1,
   "metadata": {},
   "outputs": [],
   "source": [
    "import numpy as np\n",
    "import pandas as pd\n",
    "import os\n",
    "import matplotlib.pyplot as plt #plots\n",
    "import seaborn as sns #plots"
   ]
  },
  {
   "cell_type": "markdown",
   "metadata": {},
   "source": [
    "As usual, we summon `numpy` and `pandas` for dataset representation and manipulation."
   ]
  },
  {
   "cell_type": "code",
   "execution_count": 2,
   "metadata": {},
   "outputs": [
    {
     "name": "stdout",
     "output_type": "stream",
     "text": [
      "<class 'pandas.core.frame.DataFrame'>\n",
      "RangeIndex: 9516 entries, 0 to 9515\n",
      "Data columns (total 7 columns):\n",
      " #   Column          Non-Null Count  Dtype  \n",
      "---  ------          --------------  -----  \n",
      " 0   not.fully.paid  9516 non-null   int64  \n",
      " 1   installment     9516 non-null   float64\n",
      " 2   log.annual.inc  9516 non-null   float64\n",
      " 3   fico            9516 non-null   int64  \n",
      " 4   revol.bal       9516 non-null   float64\n",
      " 5   inq.last.6mths  9516 non-null   int64  \n",
      " 6   pub.rec         9516 non-null   int64  \n",
      "dtypes: float64(3), int64(4)\n",
      "memory usage: 520.5 KB\n"
     ]
    },
    {
     "data": {
      "text/html": [
       "<div>\n",
       "<style scoped>\n",
       "    .dataframe tbody tr th:only-of-type {\n",
       "        vertical-align: middle;\n",
       "    }\n",
       "\n",
       "    .dataframe tbody tr th {\n",
       "        vertical-align: top;\n",
       "    }\n",
       "\n",
       "    .dataframe thead th {\n",
       "        text-align: right;\n",
       "    }\n",
       "</style>\n",
       "<table border=\"1\" class=\"dataframe\">\n",
       "  <thead>\n",
       "    <tr style=\"text-align: right;\">\n",
       "      <th></th>\n",
       "      <th>not.fully.paid</th>\n",
       "      <th>installment</th>\n",
       "      <th>log.annual.inc</th>\n",
       "      <th>fico</th>\n",
       "      <th>revol.bal</th>\n",
       "      <th>inq.last.6mths</th>\n",
       "      <th>pub.rec</th>\n",
       "    </tr>\n",
       "  </thead>\n",
       "  <tbody>\n",
       "    <tr>\n",
       "      <th>0</th>\n",
       "      <td>0</td>\n",
       "      <td>829.10</td>\n",
       "      <td>4.929419</td>\n",
       "      <td>737</td>\n",
       "      <td>28.854</td>\n",
       "      <td>0</td>\n",
       "      <td>0</td>\n",
       "    </tr>\n",
       "    <tr>\n",
       "      <th>1</th>\n",
       "      <td>0</td>\n",
       "      <td>228.22</td>\n",
       "      <td>4.812913</td>\n",
       "      <td>707</td>\n",
       "      <td>33.623</td>\n",
       "      <td>0</td>\n",
       "      <td>0</td>\n",
       "    </tr>\n",
       "    <tr>\n",
       "      <th>2</th>\n",
       "      <td>0</td>\n",
       "      <td>366.86</td>\n",
       "      <td>4.505150</td>\n",
       "      <td>682</td>\n",
       "      <td>3.511</td>\n",
       "      <td>1</td>\n",
       "      <td>0</td>\n",
       "    </tr>\n",
       "    <tr>\n",
       "      <th>3</th>\n",
       "      <td>0</td>\n",
       "      <td>162.34</td>\n",
       "      <td>4.929419</td>\n",
       "      <td>712</td>\n",
       "      <td>33.667</td>\n",
       "      <td>1</td>\n",
       "      <td>0</td>\n",
       "    </tr>\n",
       "    <tr>\n",
       "      <th>4</th>\n",
       "      <td>0</td>\n",
       "      <td>102.92</td>\n",
       "      <td>4.907411</td>\n",
       "      <td>667</td>\n",
       "      <td>4.740</td>\n",
       "      <td>0</td>\n",
       "      <td>0</td>\n",
       "    </tr>\n",
       "  </tbody>\n",
       "</table>\n",
       "</div>"
      ],
      "text/plain": [
       "   not.fully.paid  installment  log.annual.inc  fico  revol.bal  \\\n",
       "0               0       829.10        4.929419   737     28.854   \n",
       "1               0       228.22        4.812913   707     33.623   \n",
       "2               0       366.86        4.505150   682      3.511   \n",
       "3               0       162.34        4.929419   712     33.667   \n",
       "4               0       102.92        4.907411   667      4.740   \n",
       "\n",
       "   inq.last.6mths  pub.rec  \n",
       "0               0        0  \n",
       "1               0        0  \n",
       "2               1        0  \n",
       "3               1        0  \n",
       "4               0        0  "
      ]
     },
     "execution_count": 2,
     "metadata": {},
     "output_type": "execute_result"
    }
   ],
   "source": [
    "path = os.getcwd() + \"/loans.csv\"\n",
    "loans = pd.read_csv(path)\n",
    "loans.info()\n",
    "loans.head()"
   ]
  },
  {
   "cell_type": "markdown",
   "metadata": {},
   "source": [
    "## 1. LOGISTIC REGRESSION (ONLY NUMERICAL VARIABLES)"
   ]
  },
  {
   "cell_type": "markdown",
   "metadata": {},
   "source": [
    "### Renaming Columns\n",
    "This dataset was thought for a R analysis (the hint is the dotted columns names). In Python we prefer to use (to avoid code confusion) either underscore naming or \"camel\" (eg not_fully_paid or notFullyPaid)"
   ]
  },
  {
   "cell_type": "code",
   "execution_count": 3,
   "metadata": {},
   "outputs": [
    {
     "name": "stdout",
     "output_type": "stream",
     "text": [
      "Index(['not_fully_paid', 'installment', 'log_annual_inc', 'fico', 'revol_bal',\n",
      "       'inq_last_6mths', 'pub_rec'],\n",
      "      dtype='object')\n"
     ]
    }
   ],
   "source": [
    "new_column_names = {'not.fully.paid':'not_fully_paid', 'log.annual.inc':'log_annual_inc',\n",
    "                   'revol.bal':'revol_bal', 'inq.last.6mths':'inq_last_6mths', 'pub.rec':'pub_rec'}\n",
    "loans.rename(columns = new_column_names, inplace = True)\n",
    "# in place is used to tell Python not to create a new copy of the df with \n",
    "# the new columns names but to update the current dataframe\n",
    "\n",
    "print(loans.columns)"
   ]
  },
  {
   "cell_type": "markdown",
   "metadata": {},
   "source": [
    "### Splitting the Data"
   ]
  },
  {
   "cell_type": "markdown",
   "metadata": {},
   "source": [
    "In previous labs we saw how to split the dataset using randomized methods to avoid a biased training. We saw how to split ourselves the dataset, but also the `sklearn` function, which is waht we are going to use from now on.\n",
    "\n",
    "!!!!!!!!! We also set a fixed random state in order to exactly replicate the results at each execution of the code !!!!!!!!!!!!"
   ]
  },
  {
   "cell_type": "code",
   "execution_count": 4,
   "metadata": {},
   "outputs": [
    {
     "data": {
      "text/plain": [
       "((7137, 7), (2379, 7))"
      ]
     },
     "execution_count": 4,
     "metadata": {},
     "output_type": "execute_result"
    }
   ],
   "source": [
    "from sklearn.model_selection import train_test_split\n",
    "\n",
    "loans_train, loans_test = train_test_split(loans, test_size=0.25, random_state=881981)\n",
    "loans_train.shape, loans_test.shape"
   ]
  },
  {
   "cell_type": "markdown",
   "metadata": {},
   "source": [
    "`test_size = 0.25` means that we will put 25% of the data in the test set, 75% in the training set."
   ]
  },
  {
   "cell_type": "code",
   "execution_count": 5,
   "metadata": {},
   "outputs": [
    {
     "name": "stdout",
     "output_type": "stream",
     "text": [
      "0    5994\n",
      "1    1143\n",
      "dtype: int64\n"
     ]
    }
   ],
   "source": [
    "# How many loans have defaulted?\n",
    "\n",
    "default_false = np.sum(loans_train['not_fully_paid'] == 0)\n",
    "default_true = np.sum(loans_train['not_fully_paid'] == 1)\n",
    "\n",
    "print(pd.Series({'0': default_false, '1': default_true}))"
   ]
  },
  {
   "cell_type": "markdown",
   "metadata": {},
   "source": [
    "## Why it is important to check this information?"
   ]
  },
  {
   "cell_type": "markdown",
   "metadata": {},
   "source": [
    "We are going to optimise the ability of our model to fit the training data, if during training the only data seen are non defaulted loans, our algorithm would become biased to assign a non defaulted output to every loan in the future. \n",
    "\n",
    "In general, this is why sometime in some projects where one outcome is very unlikely, it is preferable to get rid of some data to have a more omogeneous distribution over the outcome.\n",
    "\n",
    "This is also the reason why we have different metrics for logistic regression (see in a minute) a nd not only the accuracy (which is of course important nonetheless)."
   ]
  },
  {
   "cell_type": "code",
   "execution_count": 6,
   "metadata": {},
   "outputs": [
    {
     "data": {
      "image/png": "[encoded data removed]",
      "text/plain": [
       "<Figure size 1080x1080 with 15 Axes>"
      ]
     },
     "metadata": {
      "needs_background": "light"
     },
     "output_type": "display_data"
    },
    {
     "name": "stdout",
     "output_type": "stream",
     "text": [
      "None\n"
     ]
    }
   ],
   "source": [
    "from statsmodels.graphics.plot_grids import scatter_ellipse\n",
    "import warnings\n",
    "warnings.simplefilter('ignore')\n",
    "fig = plt.figure(figsize=(15, 15))\n",
    "cols = loans_train.columns[loans_train.columns != \"not_fully_paid\"]\n",
    "scatter_ellipse(loans_train[cols], varnames=loans_train[cols].columns, fig=fig)\n",
    "print(plt.show())"
   ]
  },
  {
   "cell_type": "markdown",
   "metadata": {},
   "source": [
    "A baseline model can be a so-called \"dummy\" model, where the classifier predicts every new observation as the majority class. In our case, for a datapoint with any given features, the baseline model will predict 'no-default' always."
   ]
  },
  {
   "cell_type": "code",
   "execution_count": 7,
   "metadata": {},
   "outputs": [
    {
     "data": {
      "text/plain": [
       "0.8398486759142497"
      ]
     },
     "execution_count": 7,
     "metadata": {},
     "output_type": "execute_result"
    }
   ],
   "source": [
    "# Accuracy of baseline model based on training data:\n",
    "ACC = default_false/(default_false + default_true)\n",
    "ACC"
   ]
  },
  {
   "cell_type": "code",
   "execution_count": 8,
   "metadata": {},
   "outputs": [
    {
     "data": {
      "text/plain": [
       "0.8411097099621689"
      ]
     },
     "execution_count": 8,
     "metadata": {},
     "output_type": "execute_result"
    }
   ],
   "source": [
    "# EXERCISE: Compute accuracy of baseline on testing:\n",
    "test_default_false = np.sum(loans_test['not_fully_paid'] == 0)\n",
    "test_default_true = np.sum(loans_test['not_fully_paid'] == 1)\n",
    "test_ACC = test_default_false/(test_default_false + test_default_true)\n",
    "test_ACC"
   ]
  },
  {
   "cell_type": "markdown",
   "metadata": {},
   "source": [
    "83.9% vs 84.1: the random split it's preserving the data distribution. Imagine splitting on an important attribute and having these two numbers different: can you see the problem?"
   ]
  },
  {
   "cell_type": "markdown",
   "metadata": {},
   "source": [
    "## The other metrics: TPR and FPR"
   ]
  },
  {
   "cell_type": "markdown",
   "metadata": {},
   "source": [
    "The confusion matrix can be read in different ways based on the goal of our analysis.\n",
    "As engineers, we have to ask ourselves \"what is the most dangerous mistake my algorithm can do?\"\n",
    "\n",
    "Ex: if my algorithm has to detect a disease, if the prediction is the presence of the disease for a healthy patient, the patient is going to do some extra exams, but if the prediction is the absence of the disease for a ill patient, the risk of death might increase a lot --> we care more about false negatives than false positives!\n",
    "\n",
    "In the `sklearn` class for logistic regression, you can turn around this problem using the `class_weight` (dict or `balanced`, default=None) or playing with the threshold.\n",
    "\n",
    "For details on confusion matrix: [Confusion matrix](https://medium.datadriveninvestor.com/confusion-matric-tpr-fpr-fnr-tnr-precision-recall-f1-score-73efa162a25f) or see the textbook"
   ]
  },
  {
   "cell_type": "code",
   "execution_count": null,
   "metadata": {},
   "outputs": [],
   "source": [
    "# EXERCISE: What are the TPR and FPR rates of the baseline model?\n"
   ]
  },
  {
   "cell_type": "markdown",
   "metadata": {},
   "source": [
    "### Fitting the Logistic Regression Model"
   ]
  },
  {
   "cell_type": "code",
   "execution_count": 9,
   "metadata": {},
   "outputs": [
    {
     "data": {
      "text/plain": [
       "LogisticRegression()"
      ]
     },
     "execution_count": 9,
     "metadata": {},
     "output_type": "execute_result"
    }
   ],
   "source": [
    "from sklearn.linear_model import LogisticRegression\n",
    "model = LogisticRegression()\n",
    "model.fit(X=loans_train[cols], y=loans_train['not_fully_paid'])"
   ]
  },
  {
   "cell_type": "code",
   "execution_count": 10,
   "metadata": {},
   "outputs": [],
   "source": [
    "model.fit?"
   ]
  },
  {
   "cell_type": "code",
   "execution_count": 11,
   "metadata": {},
   "outputs": [],
   "source": [
    "LogisticRegression?"
   ]
  },
  {
   "cell_type": "code",
   "execution_count": 12,
   "metadata": {},
   "outputs": [
    {
     "data": {
      "text/plain": [
       "LogisticRegression(class_weight='balanced')"
      ]
     },
     "execution_count": 12,
     "metadata": {},
     "output_type": "execute_result"
    }
   ],
   "source": [
    "bal_model = LogisticRegression(class_weight='balanced')\n",
    "bal_model.fit(X=loans_train[cols], y=loans_train['not_fully_paid'])"
   ]
  },
  {
   "cell_type": "markdown",
   "metadata": {},
   "source": [
    "## Difference in accuracy\n",
    "what do you expect? Who is going to be the best performance model?"
   ]
  },
  {
   "cell_type": "code",
   "execution_count": 13,
   "metadata": {},
   "outputs": [
    {
     "name": "stdout",
     "output_type": "stream",
     "text": [
      "0.8402690205968895\n",
      "0.6593806921675774\n"
     ]
    }
   ],
   "source": [
    "print(model.score(X=loans_train[cols], y=loans_train['not_fully_paid']))\n",
    "print(bal_model.score(X=loans_train[cols], y=loans_train['not_fully_paid']))"
   ]
  },
  {
   "cell_type": "markdown",
   "metadata": {},
   "source": [
    "### Balanced model seems to perform much worse right?\n",
    "What if we are looking at a different metric?"
   ]
  },
  {
   "cell_type": "code",
   "execution_count": 14,
   "metadata": {},
   "outputs": [
    {
     "data": {
      "text/plain": [
       "array([[1991,   10],\n",
       "       [ 375,    3]])"
      ]
     },
     "execution_count": 14,
     "metadata": {},
     "output_type": "execute_result"
    }
   ],
   "source": [
    "from sklearn.metrics import confusion_matrix\n",
    "y_test = loans_test['not_fully_paid']\n",
    "y_pred = model.predict(loans_test[cols])\n",
    "cm = confusion_matrix(y_test, y_pred)\n",
    "cm"
   ]
  },
  {
   "cell_type": "code",
   "execution_count": 15,
   "metadata": {},
   "outputs": [
    {
     "data": {
      "text/plain": [
       "array([[1335,  666],\n",
       "       [ 194,  184]])"
      ]
     },
     "execution_count": 15,
     "metadata": {},
     "output_type": "execute_result"
    }
   ],
   "source": [
    "y_pred_bal = bal_model.predict(loans_test[cols])\n",
    "cm = confusion_matrix(y_test, y_pred_bal)\n",
    "cm"
   ]
  },
  {
   "cell_type": "markdown",
   "metadata": {},
   "source": [
    "The predict function is using 0.5 as a threshold, we can play around with the number (break even point of average profit is 0.2 as you have seen in class"
   ]
  },
  {
   "cell_type": "code",
   "execution_count": 16,
   "metadata": {},
   "outputs": [
    {
     "data": {
      "text/plain": [
       "array([[1683,  318],\n",
       "       [ 256,  122]])"
      ]
     },
     "execution_count": 16,
     "metadata": {},
     "output_type": "execute_result"
    }
   ],
   "source": [
    "y_prob = model.predict_proba(loans_test[cols])\n",
    "threshold = 0.2\n",
    "y_pred = y_prob[:, 1] >= threshold\n",
    "cm = confusion_matrix(y_test, y_pred)\n",
    "cm"
   ]
  },
  {
   "cell_type": "markdown",
   "metadata": {},
   "source": [
    "On the balanced model, it is not very sensitive to play with the threshold because we already took into account the not evenly distribution when penalising the error!"
   ]
  },
  {
   "cell_type": "code",
   "execution_count": 19,
   "metadata": {},
   "outputs": [
    {
     "data": {
      "text/plain": [
       "array([[1335,  666],\n",
       "       [ 194,  184]])"
      ]
     },
     "execution_count": 19,
     "metadata": {},
     "output_type": "execute_result"
    }
   ],
   "source": [
    "y_prob_bal = bal_model.predict_proba(loans_test[cols])\n",
    "threshold = 0.5\n",
    "y_pred_bal = y_prob_bal[:, 1] >= threshold\n",
    "cm = confusion_matrix(y_test, y_pred_bal)\n",
    "cm"
   ]
  },
  {
   "cell_type": "markdown",
   "metadata": {},
   "source": [
    "Now we can use the statsmodels package to fit the training set to a logistic regression model"
   ]
  },
  {
   "cell_type": "code",
   "execution_count": 20,
   "metadata": {},
   "outputs": [],
   "source": [
    "import statsmodels.formula.api as smf\n",
    "\n",
    "#?smf.logit"
   ]
  },
  {
   "cell_type": "code",
   "execution_count": 21,
   "metadata": {},
   "outputs": [
    {
     "name": "stdout",
     "output_type": "stream",
     "text": [
      "Optimization terminated successfully.\n",
      "         Current function value: 0.414812\n",
      "         Iterations 6\n",
      "                           Logit Regression Results                           \n",
      "==============================================================================\n",
      "Dep. Variable:         not_fully_paid   No. Observations:                 7137\n",
      "Model:                          Logit   Df Residuals:                     7130\n",
      "Method:                           MLE   Df Model:                            6\n",
      "Date:                Fri, 16 Sep 2022   Pseudo R-squ.:                 0.05708\n",
      "Time:                        11:34:43   Log-Likelihood:                -2960.5\n",
      "converged:                       True   LL-Null:                       -3139.7\n",
      "Covariance Type:            nonrobust   LLR p-value:                 2.425e-74\n",
      "==================================================================================\n",
      "                     coef    std err          z      P>|z|      [0.025      0.975]\n",
      "----------------------------------------------------------------------------------\n",
      "Intercept          9.3203      0.952      9.793      0.000       7.455      11.186\n",
      "installment        0.0012      0.000      6.706      0.000       0.001       0.002\n",
      "log_annual_inc    -0.9394      0.153     -6.152      0.000      -1.239      -0.640\n",
      "fico              -0.0103      0.001    -10.281      0.000      -0.012      -0.008\n",
      "revol_bal          0.0040      0.001      3.734      0.000       0.002       0.006\n",
      "inq_last_6mths     0.1382      0.014     10.221      0.000       0.112       0.165\n",
      "pub_rec            0.2706      0.111      2.443      0.015       0.053       0.488\n",
      "==================================================================================\n"
     ]
    }
   ],
   "source": [
    "# Fit the logistic regression model\n",
    "\n",
    "logreg = smf.logit(formula = 'not_fully_paid ~ installment + log_annual_inc + fico + revol_bal + inq_last_6mths + pub_rec',\n",
    "                   data = loans_train).fit()\n",
    "\n",
    "print(logreg.summary())"
   ]
  },
  {
   "cell_type": "markdown",
   "metadata": {},
   "source": [
    "In general, consider this quote:\n",
    "\"Programs are meant to be read by humans, and only incidentally for computers to execute.\" - Donald Knuth"
   ]
  },
  {
   "cell_type": "markdown",
   "metadata": {},
   "source": [
    "### Predictions"
   ]
  },
  {
   "cell_type": "code",
   "execution_count": 22,
   "metadata": {},
   "outputs": [
    {
     "data": {
      "text/plain": [
       "0    0.209692\n",
       "dtype: float64"
      ]
     },
     "execution_count": 22,
     "metadata": {},
     "output_type": "execute_result"
    }
   ],
   "source": [
    "# Example of prediction for a new observation\n",
    "\n",
    "new_obs = pd.DataFrame(data = {'installment' : [366], 'log_annual_inc' : [4.51], 'fico' : [682],\n",
    "                               'revol_bal' : [7.53], 'inq_last_6mths' : [1], 'pub_rec' : [0]})\n",
    "\n",
    "logreg.predict(new_obs)"
   ]
  },
  {
   "cell_type": "code",
   "execution_count": 23,
   "metadata": {},
   "outputs": [],
   "source": [
    "y_test = loans_test['not_fully_paid']\n",
    "\n",
    "y_prob = logreg.predict(loans_test)\n",
    "y_pred = pd.Series([1 if x > 0.5 else 0 for x in y_prob], index=y_prob.index)\n",
    "\n",
    "# y_pred is the vector of probabilities as given by your model on the test set. Values between 0 and 1.\n",
    "# Remember, P(Yi = 1) = 1/(1 + e^(-(b0 + b1*x1 + b2*x2 +...)) )"
   ]
  },
  {
   "cell_type": "markdown",
   "metadata": {},
   "source": [
    "### Confusion Matrix\n",
    "\n",
    "In order to evaluate the performance of our classification model, we can make use of confusion matrix to compute a variety of useful metrics"
   ]
  },
  {
   "cell_type": "code",
   "execution_count": 24,
   "metadata": {},
   "outputs": [
    {
     "name": "stdout",
     "output_type": "stream",
     "text": [
      "Confusion Matrix : \n",
      " [[1989   12]\n",
      " [ 375    3]]\n"
     ]
    }
   ],
   "source": [
    "from sklearn.metrics import confusion_matrix\n",
    "\n",
    "cm = confusion_matrix(y_test, y_pred)\n",
    "print (\"Confusion Matrix : \\n\", cm) "
   ]
  },
  {
   "cell_type": "code",
   "execution_count": 25,
   "metadata": {},
   "outputs": [
    {
     "name": "stdout",
     "output_type": "stream",
     "text": [
      "[1989   12  375    3]\n"
     ]
    }
   ],
   "source": [
    "print(cm.ravel())"
   ]
  },
  {
   "cell_type": "code",
   "execution_count": 26,
   "metadata": {},
   "outputs": [
    {
     "data": {
      "text/plain": [
       "0.8373266078184111"
      ]
     },
     "execution_count": 26,
     "metadata": {},
     "output_type": "execute_result"
    }
   ],
   "source": [
    "# Accuracy\n",
    "\n",
    "(cm.ravel()[0]+cm.ravel()[3])/sum(cm.ravel())"
   ]
  },
  {
   "cell_type": "code",
   "execution_count": null,
   "metadata": {},
   "outputs": [],
   "source": [
    "# EXERCISE: What is the True Positive Rate ?\n",
    "\n",
    "\n",
    "# EXERCISE: What is the False Positive rate ?\n"
   ]
  },
  {
   "cell_type": "markdown",
   "metadata": {},
   "source": [
    "Be careful about the definitions of FPR, TPR, recall, precision, sensitivity, specificity etc:\n",
    "https://en.wikipedia.org/wiki/Sensitivity_and_specificity\n",
    "\n",
    "Little reminder:\n",
    "- Accuracy: good predictions/total predictions\n",
    "- Sensitivity = $\\frac{TP}{TP + FN}$, aka TPR\n",
    "- Specificity = $\\frac{TN}{TN + FP}$\n",
    "- $FPR = \\frac{FP}{TN + FP}$\n",
    "\n",
    "etc"
   ]
  },
  {
   "cell_type": "code",
   "execution_count": null,
   "metadata": {},
   "outputs": [],
   "source": [
    "# Now, try threshold probability = 0.2\n",
    "\n",
    "# EXERCISE: What is the Accuracy?\n",
    "\n",
    "\n",
    "# EXERCISE: What is the True Positive Rate ?\n",
    "\n",
    "\n",
    "# EXERCISE: What is the False Positive rate ?\n",
    "\n"
   ]
  },
  {
   "cell_type": "code",
   "execution_count": 27,
   "metadata": {},
   "outputs": [
    {
     "data": {
      "image/png": "[encoded data removed]",
      "text/plain": [
       "<Figure size 432x288 with 1 Axes>"
      ]
     },
     "metadata": {
      "needs_background": "light"
     },
     "output_type": "display_data"
    }
   ],
   "source": [
    "from sklearn.metrics import plot_roc_curve\n",
    "\n",
    "\n",
    "plot_roc_curve(model, loans_test[cols], loans_test['not_fully_paid'])\n",
    "plt.plot([0, 1], [0, 1], color='navy', lw=3, linestyle='--')\n",
    "plt.title('ROC Curve', fontsize=18)\n",
    "plt.xlabel('FPR', fontsize=16)\n",
    "plt.ylabel('TPR', fontsize=16)\n",
    "plt.xlim([-0.01, 1.00])\n",
    "plt.ylim([-0.01, 1.01])\n",
    "plt.legend(loc='lower right', fontsize=10)\n",
    "plt.show()\n"
   ]
  },
  {
   "cell_type": "code",
   "execution_count": 28,
   "metadata": {},
   "outputs": [
    {
     "data": {
      "image/png": "[encoded data removed]",
      "text/plain": [
       "<Figure size 432x288 with 1 Axes>"
      ]
     },
     "metadata": {
      "needs_background": "light"
     },
     "output_type": "display_data"
    }
   ],
   "source": [
    "plot_roc_curve(bal_model, loans_test[cols], loans_test['not_fully_paid'])\n",
    "plt.plot([0, 1], [0, 1], color='navy', lw=3, linestyle='--')\n",
    "plt.title('ROC Curve', fontsize=18)\n",
    "plt.xlabel('FPR', fontsize=16)\n",
    "plt.ylabel('TPR', fontsize=16)\n",
    "plt.xlim([-0.01, 1.00])\n",
    "plt.ylim([-0.01, 1.01])\n",
    "plt.legend(loc='lower right', fontsize=10)\n",
    "plt.show()\n"
   ]
  },
  {
   "cell_type": "markdown",
   "metadata": {},
   "source": [
    "## 2. LOGISTIC REGRESSION (NUMERICAL + CATEGORICAL VARIABLES)"
   ]
  },
  {
   "cell_type": "code",
   "execution_count": 29,
   "metadata": {},
   "outputs": [
    {
     "name": "stdout",
     "output_type": "stream",
     "text": [
      "<class 'pandas.core.frame.DataFrame'>\n",
      "RangeIndex: 7032 entries, 0 to 7031\n",
      "Data columns (total 7 columns):\n",
      " #   Column           Non-Null Count  Dtype  \n",
      "---  ------           --------------  -----  \n",
      " 0   Churn            7032 non-null   int64  \n",
      " 1   MonthlyCharges   7032 non-null   float64\n",
      " 2   SeniorCitizen    7032 non-null   int64  \n",
      " 3   PaymentMethod    7032 non-null   object \n",
      " 4   InternetService  7032 non-null   object \n",
      " 5   tenure           7032 non-null   int64  \n",
      " 6   Contract         7032 non-null   object \n",
      "dtypes: float64(1), int64(3), object(3)\n",
      "memory usage: 384.7+ KB\n"
     ]
    },
    {
     "data": {
      "text/html": [
       "<div>\n",
       "<style scoped>\n",
       "    .dataframe tbody tr th:only-of-type {\n",
       "        vertical-align: middle;\n",
       "    }\n",
       "\n",
       "    .dataframe tbody tr th {\n",
       "        vertical-align: top;\n",
       "    }\n",
       "\n",
       "    .dataframe thead th {\n",
       "        text-align: right;\n",
       "    }\n",
       "</style>\n",
       "<table border=\"1\" class=\"dataframe\">\n",
       "  <thead>\n",
       "    <tr style=\"text-align: right;\">\n",
       "      <th></th>\n",
       "      <th>Churn</th>\n",
       "      <th>MonthlyCharges</th>\n",
       "      <th>SeniorCitizen</th>\n",
       "      <th>PaymentMethod</th>\n",
       "      <th>InternetService</th>\n",
       "      <th>tenure</th>\n",
       "      <th>Contract</th>\n",
       "    </tr>\n",
       "  </thead>\n",
       "  <tbody>\n",
       "    <tr>\n",
       "      <th>0</th>\n",
       "      <td>0</td>\n",
       "      <td>29.85</td>\n",
       "      <td>0</td>\n",
       "      <td>Electronic check</td>\n",
       "      <td>DSL</td>\n",
       "      <td>1</td>\n",
       "      <td>Month-to-month</td>\n",
       "    </tr>\n",
       "    <tr>\n",
       "      <th>1</th>\n",
       "      <td>0</td>\n",
       "      <td>56.95</td>\n",
       "      <td>0</td>\n",
       "      <td>Mailed check</td>\n",
       "      <td>DSL</td>\n",
       "      <td>34</td>\n",
       "      <td>One year</td>\n",
       "    </tr>\n",
       "    <tr>\n",
       "      <th>2</th>\n",
       "      <td>1</td>\n",
       "      <td>53.85</td>\n",
       "      <td>0</td>\n",
       "      <td>Mailed check</td>\n",
       "      <td>DSL</td>\n",
       "      <td>2</td>\n",
       "      <td>Month-to-month</td>\n",
       "    </tr>\n",
       "    <tr>\n",
       "      <th>3</th>\n",
       "      <td>0</td>\n",
       "      <td>42.30</td>\n",
       "      <td>0</td>\n",
       "      <td>Bank transfer</td>\n",
       "      <td>DSL</td>\n",
       "      <td>45</td>\n",
       "      <td>One year</td>\n",
       "    </tr>\n",
       "    <tr>\n",
       "      <th>4</th>\n",
       "      <td>1</td>\n",
       "      <td>70.70</td>\n",
       "      <td>0</td>\n",
       "      <td>Electronic check</td>\n",
       "      <td>Fiber optic</td>\n",
       "      <td>2</td>\n",
       "      <td>Month-to-month</td>\n",
       "    </tr>\n",
       "  </tbody>\n",
       "</table>\n",
       "</div>"
      ],
      "text/plain": [
       "   Churn  MonthlyCharges  SeniorCitizen     PaymentMethod InternetService  \\\n",
       "0      0           29.85              0  Electronic check             DSL   \n",
       "1      0           56.95              0      Mailed check             DSL   \n",
       "2      1           53.85              0      Mailed check             DSL   \n",
       "3      0           42.30              0     Bank transfer             DSL   \n",
       "4      1           70.70              0  Electronic check     Fiber optic   \n",
       "\n",
       "   tenure        Contract  \n",
       "0       1  Month-to-month  \n",
       "1      34        One year  \n",
       "2       2  Month-to-month  \n",
       "3      45        One year  \n",
       "4       2  Month-to-month  "
      ]
     },
     "execution_count": 29,
     "metadata": {},
     "output_type": "execute_result"
    }
   ],
   "source": [
    "churn = pd.read_csv(\"customerchurn.csv\")\n",
    "churn.info()\n",
    "churn.head()"
   ]
  },
  {
   "cell_type": "code",
   "execution_count": 30,
   "metadata": {},
   "outputs": [
    {
     "data": {
      "text/plain": [
       "((4922, 7), (2110, 7))"
      ]
     },
     "execution_count": 30,
     "metadata": {},
     "output_type": "execute_result"
    }
   ],
   "source": [
    "churn_train, churn_test = train_test_split(churn, test_size=0.3, random_state=881981)\n",
    "churn_train.shape, churn_test.shape"
   ]
  },
  {
   "cell_type": "code",
   "execution_count": 31,
   "metadata": {},
   "outputs": [
    {
     "name": "stdout",
     "output_type": "stream",
     "text": [
      "Optimization terminated successfully.\n",
      "         Current function value: 0.430570\n",
      "         Iterations 8\n",
      "                           Logit Regression Results                           \n",
      "==============================================================================\n",
      "Dep. Variable:                  Churn   No. Observations:                 4922\n",
      "Model:                          Logit   Df Residuals:                     4911\n",
      "Method:                           MLE   Df Model:                           10\n",
      "Date:                Fri, 16 Sep 2022   Pseudo R-squ.:                  0.2558\n",
      "Time:                        11:47:53   Log-Likelihood:                -2119.3\n",
      "converged:                       True   LL-Null:                       -2847.7\n",
      "Covariance Type:            nonrobust   LLR p-value:                5.162e-307\n",
      "=====================================================================================================\n",
      "                                        coef    std err          z      P>|z|      [0.025      0.975]\n",
      "-----------------------------------------------------------------------------------------------------\n",
      "Intercept                            -0.6797      0.207     -3.277      0.001      -1.086      -0.273\n",
      "PaymentMethod[T.Credit card]         -0.0278      0.132     -0.211      0.833      -0.287       0.231\n",
      "PaymentMethod[T.Electronic check]     0.4039      0.108      3.726      0.000       0.191       0.616\n",
      "PaymentMethod[T.Mailed check]        -0.0486      0.132     -0.369      0.712      -0.307       0.210\n",
      "InternetService[T.Fiber optic]        0.8885      0.153      5.822      0.000       0.589       1.188\n",
      "InternetService[T.No]                -0.7468      0.179     -4.167      0.000      -1.098      -0.396\n",
      "Contract[T.One year]                 -0.7177      0.125     -5.746      0.000      -0.963      -0.473\n",
      "Contract[T.Two year]                 -1.5067      0.201     -7.510      0.000      -1.900      -1.113\n",
      "MonthlyCharges                        0.0038      0.004      1.052      0.293      -0.003       0.011\n",
      "SeniorCitizen                         0.4028      0.096      4.184      0.000       0.214       0.591\n",
      "tenure                               -0.0327      0.003    -12.883      0.000      -0.038      -0.028\n",
      "=====================================================================================================\n"
     ]
    }
   ],
   "source": [
    "logreg2 = smf.logit(formula = 'Churn ~ MonthlyCharges + SeniorCitizen + PaymentMethod + InternetService + tenure + Contract',\n",
    "                       data = churn_train).fit()\n",
    "print(logreg2.summary())"
   ]
  },
  {
   "cell_type": "code",
   "execution_count": null,
   "metadata": {},
   "outputs": [],
   "source": [
    "# EXERCISE: Now take the estimate for SeniorCitizen and transform it into an intuition of how much p will increase\n",
    "# see log odd interpretation in the lecture notes\n"
   ]
  },
  {
   "cell_type": "code",
   "execution_count": 32,
   "metadata": {
    "scrolled": false
   },
   "outputs": [
    {
     "name": "stdout",
     "output_type": "stream",
     "text": [
      "Optimization terminated successfully.\n",
      "         Current function value: 0.430683\n",
      "         Iterations 8\n",
      "                           Logit Regression Results                           \n",
      "==============================================================================\n",
      "Dep. Variable:                  Churn   No. Observations:                 4922\n",
      "Model:                          Logit   Df Residuals:                     4912\n",
      "Method:                           MLE   Df Model:                            9\n",
      "Date:                Fri, 16 Sep 2022   Pseudo R-squ.:                  0.2556\n",
      "Time:                        11:48:50   Log-Likelihood:                -2119.8\n",
      "converged:                       True   LL-Null:                       -2847.7\n",
      "Covariance Type:            nonrobust   LLR p-value:                6.843e-308\n",
      "=====================================================================================================\n",
      "                                        coef    std err          z      P>|z|      [0.025      0.975]\n",
      "-----------------------------------------------------------------------------------------------------\n",
      "Intercept                            -0.5019      0.120     -4.197      0.000      -0.736      -0.268\n",
      "PaymentMethod[T.Credit card]         -0.0297      0.132     -0.225      0.822      -0.289       0.229\n",
      "PaymentMethod[T.Electronic check]     0.4044      0.108      3.731      0.000       0.192       0.617\n",
      "PaymentMethod[T.Mailed check]        -0.0526      0.132     -0.400      0.689      -0.311       0.206\n",
      "InternetService[T.Fiber optic]        1.0193      0.089     11.441      0.000       0.845       1.194\n",
      "InternetService[T.No]                -0.8615      0.142     -6.072      0.000      -1.140      -0.583\n",
      "Contract[T.One year]                 -0.7007      0.124     -5.661      0.000      -0.943      -0.458\n",
      "Contract[T.Two year]                 -1.4852      0.199     -7.445      0.000      -1.876      -1.094\n",
      "SeniorCitizen                         0.4005      0.096      4.162      0.000       0.212       0.589\n",
      "tenure                               -0.0318      0.002    -13.351      0.000      -0.037      -0.027\n",
      "=====================================================================================================\n"
     ]
    }
   ],
   "source": [
    "# Let's remove MonthlyCharges\n",
    "logreg3 = smf.logit(formula = 'Churn ~ SeniorCitizen + PaymentMethod + InternetService + tenure + Contract',\n",
    "                       data = churn_train).fit()\n",
    "print(logreg3.summary())"
   ]
  },
  {
   "cell_type": "code",
   "execution_count": 33,
   "metadata": {},
   "outputs": [
    {
     "data": {
      "text/html": [
       "<div>\n",
       "<style scoped>\n",
       "    .dataframe tbody tr th:only-of-type {\n",
       "        vertical-align: middle;\n",
       "    }\n",
       "\n",
       "    .dataframe tbody tr th {\n",
       "        vertical-align: top;\n",
       "    }\n",
       "\n",
       "    .dataframe thead th {\n",
       "        text-align: right;\n",
       "    }\n",
       "</style>\n",
       "<table border=\"1\" class=\"dataframe\">\n",
       "  <thead>\n",
       "    <tr style=\"text-align: right;\">\n",
       "      <th></th>\n",
       "      <th>Churn</th>\n",
       "      <th>MonthlyCharges</th>\n",
       "      <th>SeniorCitizen</th>\n",
       "      <th>InternetService</th>\n",
       "      <th>tenure</th>\n",
       "      <th>Contract</th>\n",
       "      <th>ElectronicCheck</th>\n",
       "    </tr>\n",
       "  </thead>\n",
       "  <tbody>\n",
       "    <tr>\n",
       "      <th>4293</th>\n",
       "      <td>0</td>\n",
       "      <td>24.60</td>\n",
       "      <td>0</td>\n",
       "      <td>No</td>\n",
       "      <td>24</td>\n",
       "      <td>One year</td>\n",
       "      <td>0</td>\n",
       "    </tr>\n",
       "    <tr>\n",
       "      <th>3605</th>\n",
       "      <td>0</td>\n",
       "      <td>99.65</td>\n",
       "      <td>0</td>\n",
       "      <td>Fiber optic</td>\n",
       "      <td>41</td>\n",
       "      <td>Two year</td>\n",
       "      <td>0</td>\n",
       "    </tr>\n",
       "    <tr>\n",
       "      <th>4753</th>\n",
       "      <td>0</td>\n",
       "      <td>25.00</td>\n",
       "      <td>0</td>\n",
       "      <td>No</td>\n",
       "      <td>72</td>\n",
       "      <td>Two year</td>\n",
       "      <td>0</td>\n",
       "    </tr>\n",
       "    <tr>\n",
       "      <th>2531</th>\n",
       "      <td>1</td>\n",
       "      <td>25.30</td>\n",
       "      <td>0</td>\n",
       "      <td>No</td>\n",
       "      <td>25</td>\n",
       "      <td>One year</td>\n",
       "      <td>0</td>\n",
       "    </tr>\n",
       "    <tr>\n",
       "      <th>3840</th>\n",
       "      <td>0</td>\n",
       "      <td>20.00</td>\n",
       "      <td>0</td>\n",
       "      <td>No</td>\n",
       "      <td>10</td>\n",
       "      <td>Month-to-month</td>\n",
       "      <td>0</td>\n",
       "    </tr>\n",
       "  </tbody>\n",
       "</table>\n",
       "</div>"
      ],
      "text/plain": [
       "      Churn  MonthlyCharges  SeniorCitizen InternetService  tenure  \\\n",
       "4293      0           24.60              0              No      24   \n",
       "3605      0           99.65              0     Fiber optic      41   \n",
       "4753      0           25.00              0              No      72   \n",
       "2531      1           25.30              0              No      25   \n",
       "3840      0           20.00              0              No      10   \n",
       "\n",
       "            Contract  ElectronicCheck  \n",
       "4293        One year                0  \n",
       "3605        Two year                0  \n",
       "4753        Two year                0  \n",
       "2531        One year                0  \n",
       "3840  Month-to-month                0  "
      ]
     },
     "execution_count": 33,
     "metadata": {},
     "output_type": "execute_result"
    }
   ],
   "source": [
    "# Let's remove PaymentMethod Credit Card and PaymentMethodMailed check. How do we do this? Create a new feature. \n",
    "\n",
    "churn_train2 = churn_train.copy() \n",
    "churn_train2['ElectronicCheck'] = (churn_train2['PaymentMethod'] == 'Electronic check').astype('int64')\n",
    "churn_train2.drop(columns=['PaymentMethod'], inplace=True)\n",
    "\n",
    "# Let's do the same for test set as well\n",
    "\n",
    "churn_test2 = churn_test.copy() \n",
    "churn_test2['ElectronicCheck'] = (churn_test2['PaymentMethod'] == 'Electronic check').astype('int64')\n",
    "churn_test2.drop(columns=['PaymentMethod'], inplace=True)\n",
    "\n",
    "churn_test2.head()"
   ]
  },
  {
   "cell_type": "code",
   "execution_count": 34,
   "metadata": {},
   "outputs": [
    {
     "name": "stdout",
     "output_type": "stream",
     "text": [
      "Optimization terminated successfully.\n",
      "         Current function value: 0.430699\n",
      "         Iterations 8\n",
      "                           Logit Regression Results                           \n",
      "==============================================================================\n",
      "Dep. Variable:                  Churn   No. Observations:                 4922\n",
      "Model:                          Logit   Df Residuals:                     4914\n",
      "Method:                           MLE   Df Model:                            7\n",
      "Date:                Fri, 16 Sep 2022   Pseudo R-squ.:                  0.2556\n",
      "Time:                        11:50:11   Log-Likelihood:                -2119.9\n",
      "converged:                       True   LL-Null:                       -2847.7\n",
      "Covariance Type:            nonrobust   LLR p-value:                3.561e-310\n",
      "==================================================================================================\n",
      "                                     coef    std err          z      P>|z|      [0.025      0.975]\n",
      "--------------------------------------------------------------------------------------------------\n",
      "Intercept                         -0.5353      0.084     -6.385      0.000      -0.700      -0.371\n",
      "InternetService[T.Fiber optic]     1.0237      0.088     11.591      0.000       0.851       1.197\n",
      "InternetService[T.No]             -0.8677      0.141     -6.165      0.000      -1.144      -0.592\n",
      "Contract[T.One year]              -0.7000      0.124     -5.656      0.000      -0.943      -0.457\n",
      "Contract[T.Two year]              -1.4855      0.199     -7.447      0.000      -1.876      -1.095\n",
      "SeniorCitizen                      0.4019      0.096      4.178      0.000       0.213       0.590\n",
      "ElectronicCheck                    0.4314      0.080      5.396      0.000       0.275       0.588\n",
      "tenure                            -0.0317      0.002    -13.546      0.000      -0.036      -0.027\n",
      "==================================================================================================\n"
     ]
    }
   ],
   "source": [
    "logreg4 = smf.logit(formula = 'Churn ~ SeniorCitizen + ElectronicCheck + InternetService + tenure + Contract',\n",
    "                       data = churn_train2).fit()\n",
    "print(logreg4.summary())"
   ]
  },
  {
   "cell_type": "code",
   "execution_count": 35,
   "metadata": {},
   "outputs": [
    {
     "name": "stdout",
     "output_type": "stream",
     "text": [
      "Confusion Matrix : \n",
      " [[1236  311]\n",
      " [ 144  419]]\n"
     ]
    }
   ],
   "source": [
    "# Confusion matrices based on decision tree threshold \n",
    "# Target scores, can either be probability estimates of the positive class, confidence values, or non-thresholded measure of decisions (as returned by “decision_function” on some classifiers).\n",
    "\n",
    "y_test = churn_test2['Churn']\n",
    "y_prob = logreg4.predict(churn_test2)\n",
    "y_pred = pd.Series([1 if x > 1/3 else 0 for x in y_prob], index=y_prob.index)\n",
    "\n",
    "cm = confusion_matrix(y_test, y_pred)\n",
    "print (\"Confusion Matrix : \\n\", cm) "
   ]
  },
  {
   "cell_type": "markdown",
   "metadata": {},
   "source": [
    "### ROC Curves"
   ]
  },
  {
   "cell_type": "code",
   "execution_count": 36,
   "metadata": {},
   "outputs": [],
   "source": [
    "y_train = churn_train2['Churn']\n",
    "X_train = churn_train2.drop(['Churn'], axis=1)\n",
    "\n",
    "y_test = churn_test2['Churn']\n",
    "X_test = churn_test2.drop(['Churn'], axis=1)"
   ]
  },
  {
   "cell_type": "code",
   "execution_count": 37,
   "metadata": {
    "scrolled": false
   },
   "outputs": [
    {
     "data": {
      "image/png": "[encoded data removed]",
      "text/plain": [
       "<Figure size 576x432 with 1 Axes>"
      ]
     },
     "metadata": {
      "needs_background": "light"
     },
     "output_type": "display_data"
    }
   ],
   "source": [
    "import matplotlib.pyplot as plt\n",
    "from sklearn.metrics import roc_curve, auc\n",
    "\n",
    "fpr, tpr, _ = roc_curve(y_test, y_prob)\n",
    "roc_auc = auc(fpr, tpr)\n",
    "\n",
    "plt.figure(figsize=(8, 6))\n",
    "plt.title('ROC Curve', fontsize=18)\n",
    "plt.xlabel('FPR', fontsize=16)\n",
    "plt.ylabel('TPR', fontsize=16)\n",
    "plt.xlim([-0.01, 1.00])\n",
    "plt.ylim([-0.01, 1.01])\n",
    "plt.plot(fpr, tpr, lw=3, label='Logistic Regression (area = {:0.2f})'.format(roc_auc))\n",
    "plt.plot([0, 1], [0, 1], color='navy', lw=3, linestyle='--')\n",
    "plt.legend(loc='lower right', fontsize=14)\n",
    "plt.show()"
   ]
  },
  {
   "cell_type": "markdown",
   "metadata": {},
   "source": [
    "## Nice link for math over logistic regression"
   ]
  },
  {
   "cell_type": "markdown",
   "metadata": {},
   "source": [
    "[CMU MLE for logistic regression](https://www.stat.cmu.edu/~cshalizi/uADA/12/lectures/ch12.pdf)"
   ]
  },
  {
   "cell_type": "code",
   "execution_count": null,
   "metadata": {},
   "outputs": [],
   "source": []
  }
 ],
 "metadata": {
  "kernelspec": {
   "display_name": "Python 3 (ipykernel)",
   "language": "python",
   "name": "python3"
  },
  "language_info": {
   "codemirror_mode": {
    "name": "ipython",
    "version": 3
   },
   "file_extension": ".py",
   "mimetype": "text/x-python",
   "name": "python",
   "nbconvert_exporter": "python",
   "pygments_lexer": "ipython3",
   "version": "3.8.3"
  }
 },
 "nbformat": 4,
 "nbformat_minor": 4
}
